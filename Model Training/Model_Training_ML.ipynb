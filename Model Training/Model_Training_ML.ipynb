{
  "nbformat": 4,
  "nbformat_minor": 0,
  "metadata": {
    "colab": {
      "provenance": [],
      "toc_visible": true
    },
    "kernelspec": {
      "name": "python3",
      "display_name": "Python 3"
    },
    "language_info": {
      "name": "python"
    }
  },
  "cells": [
    {
      "cell_type": "markdown",
      "source": [
        "\n",
        "#Sarcasm Detection on Airline Reviews - Data Preprocessing\n",
        "\n",
        "This notebook demonstrates the steps for preprocessing a dataset for sarcasm detection in Airline Reviews using deep learning. The preprocessing steps include loading the dataset, cleaning the data, and preparing the data for model training.\n",
        "\n",
        "#Dataset Overview\n",
        "We are using a dataset of Airline Reviews which contains the following columns:\n",
        "\n",
        "`Review`: The text of the YouTube comment.\n",
        "\n",
        "`sarcasm`: The target label indicating whether the comment is sarcastic (1) or not (0).\n",
        "\n",
        "\n",
        "Additional features related to airline information.\n",
        "\n",
        "Let's load the dataset and take a look at its structure."
      ],
      "metadata": {
        "id": "G9133Pq57RKM"
      }
    },
    {
      "cell_type": "code",
      "source": [
        "from google.colab import drive\n",
        "import pandas as pd\n",
        "\n",
        "# Mount Google Drive\n",
        "drive.mount('/content/drive')\n",
        "\n",
        "# Load the dataset\n",
        "dataset_path = '/content/drive/My Drive/Airline_Reviews_Labeled.csv'\n",
        "  # Update with your dataset path\n",
        "data = pd.read_csv(dataset_path)\n"
      ],
      "metadata": {
        "colab": {
          "base_uri": "https://localhost:8080/"
        },
        "id": "ayjX-G8zSaTs",
        "outputId": "cdfe9392-1fcd-4bf1-b61e-314df2d8bd50"
      },
      "execution_count": 22,
      "outputs": [
        {
          "output_type": "stream",
          "name": "stdout",
          "text": [
            "Drive already mounted at /content/drive; to attempt to forcibly remount, call drive.mount(\"/content/drive\", force_remount=True).\n"
          ]
        }
      ]
    },
    {
      "cell_type": "markdown",
      "source": [
        "##Taking subset of the dataset"
      ],
      "metadata": {
        "id": "ehP86X9Y7g9R"
      }
    },
    {
      "cell_type": "code",
      "source": [
        "# Randomly sample 8000 records\n",
        "sampled_data = data.sample(n=8000, random_state=42)"
      ],
      "metadata": {
        "id": "er1CDV2EWtM7"
      },
      "execution_count": 23,
      "outputs": []
    },
    {
      "cell_type": "markdown",
      "source": [
        "##Splitting the dataset into training and testing data"
      ],
      "metadata": {
        "id": "M0shV1L67mfk"
      }
    },
    {
      "cell_type": "code",
      "source": [
        "from sklearn.model_selection import train_test_split\n",
        "\n",
        "# Split the dataset\n",
        "X_train, X_test, y_train, y_test = train_test_split(sampled_data['Review'], sampled_data['sarcasm'], test_size=0.2, random_state=42)\n"
      ],
      "metadata": {
        "id": "rr39PirBWw1b"
      },
      "execution_count": 24,
      "outputs": []
    },
    {
      "cell_type": "code",
      "source": [
        "# Convert to DataFrame for preprocessing\n",
        "train_data = pd.DataFrame({'text': X_train, 'label': y_train})"
      ],
      "metadata": {
        "id": "pXEOqpW-W1xd"
      },
      "execution_count": 25,
      "outputs": []
    },
    {
      "cell_type": "markdown",
      "source": [
        "#Data Visualization"
      ],
      "metadata": {
        "id": "aLC9TwN37wDK"
      }
    },
    {
      "cell_type": "code",
      "source": [
        "# Describe the dataset\n",
        "print(train_data.describe())"
      ],
      "metadata": {
        "colab": {
          "base_uri": "https://localhost:8080/"
        },
        "id": "GYOXnnxpW-5U",
        "outputId": "50fa758c-e012-408f-b129-3f84062b655b"
      },
      "execution_count": 26,
      "outputs": [
        {
          "output_type": "stream",
          "name": "stdout",
          "text": [
            "             label\n",
            "count  6400.000000\n",
            "mean      0.715625\n",
            "std       0.451151\n",
            "min       0.000000\n",
            "25%       0.000000\n",
            "50%       1.000000\n",
            "75%       1.000000\n",
            "max       1.000000\n"
          ]
        }
      ]
    },
    {
      "cell_type": "code",
      "source": [
        "# Shape of the dataset\n",
        "print(train_data.shape)"
      ],
      "metadata": {
        "colab": {
          "base_uri": "https://localhost:8080/"
        },
        "id": "DGQ_dwTcXIWo",
        "outputId": "5300825a-7f4b-4c7e-828a-489f67888bc2"
      },
      "execution_count": 27,
      "outputs": [
        {
          "output_type": "stream",
          "name": "stdout",
          "text": [
            "(6400, 2)\n"
          ]
        }
      ]
    },
    {
      "cell_type": "code",
      "source": [
        "import matplotlib.pyplot as plt\n",
        "# Distribution of labels\n",
        "train_data['label'].value_counts().plot(kind='bar')\n",
        "plt.title('Distribution of Labels')\n",
        "plt.xlabel('Label')\n",
        "plt.ylabel('Count')\n",
        "plt.show()\n"
      ],
      "metadata": {
        "colab": {
          "base_uri": "https://localhost:8080/",
          "height": 467
        },
        "id": "6Ypjk63kXuor",
        "outputId": "09036190-b092-4951-b669-60e258bcd588"
      },
      "execution_count": 28,
      "outputs": [
        {
          "output_type": "display_data",
          "data": {
            "text/plain": [
              "<Figure size 640x480 with 1 Axes>"
            ],
            "image/png": "[encoded data removed]"
          },
          "metadata": {}
        }
      ]
    },
    {
      "cell_type": "code",
      "source": [
        "import matplotlib.pyplot as plt\n",
        "\n",
        "# Length of reviews\n",
        "train_data['review_length'] = train_data['text'].apply(len)\n",
        "plt.hist(train_data['review_length'], bins=50)\n",
        "plt.title('Length of Reviews')\n",
        "plt.xlabel('Length')\n",
        "plt.ylabel('Frequency')\n",
        "plt.show()\n"
      ],
      "metadata": {
        "colab": {
          "base_uri": "https://localhost:8080/",
          "height": 472
        },
        "id": "SqjU2oG-XqAm",
        "outputId": "bbbba10a-1962-48ff-88cb-c909d46e7e10"
      },
      "execution_count": 29,
      "outputs": [
        {
          "output_type": "display_data",
          "data": {
            "text/plain": [
              "<Figure size 640x480 with 1 Axes>"
            ],
            "image/png": "[encoded data removed]"
          },
          "metadata": {}
        }
      ]
    },
    {
      "cell_type": "code",
      "source": [
        "# Check for missing values\n",
        "print(train_data.isnull().sum())\n"
      ],
      "metadata": {
        "colab": {
          "base_uri": "https://localhost:8080/"
        },
        "id": "WpZwu9EHW4tV",
        "outputId": "0dabab48-5431-4162-c0db-dad8cd08cdf4"
      },
      "execution_count": 30,
      "outputs": [
        {
          "output_type": "stream",
          "name": "stdout",
          "text": [
            "text             0\n",
            "label            0\n",
            "review_length    0\n",
            "dtype: int64\n"
          ]
        }
      ]
    },
    {
      "cell_type": "code",
      "source": [
        "# Check for duplicates\n",
        "print(train_data.duplicated().sum())\n",
        "\n",
        "# Remove duplicates\n",
        "train_data = train_data.drop_duplicates()\n"
      ],
      "metadata": {
        "colab": {
          "base_uri": "https://localhost:8080/"
        },
        "id": "3qG8I-v7XJW5",
        "outputId": "412f8f23-1087-48dc-accc-698654914c2e"
      },
      "execution_count": 31,
      "outputs": [
        {
          "output_type": "stream",
          "name": "stdout",
          "text": [
            "7\n"
          ]
        }
      ]
    },
    {
      "cell_type": "code",
      "source": [
        "# List of columns to drop\n",
        "columns_to_drop = [\n",
        "    'Unnamed: 0','Airline Name','Overall_Rating','Review_Title','Review Date',\n",
        "    'Verified','Aircraft','Type Of Traveller','Route', 'Seat Type', 'Date Flown',\n",
        "    'Seat Comfort','Cabin Staff Service', 'Food & Beverages',\n",
        "    'Ground Service', 'Inflight Entertainment',\n",
        "    'Wifi & Connectivity', 'Value For Money','Recommended',\n",
        "]\n",
        "\n",
        "# Drop columns\n",
        "train_data = train_data.drop(columns=columns_to_drop, errors='ignore')\n"
      ],
      "metadata": {
        "id": "8pOgBABUXZS3"
      },
      "execution_count": 32,
      "outputs": []
    },
    {
      "cell_type": "markdown",
      "source": [
        "#Data Cleaning"
      ],
      "metadata": {
        "id": "gQloAHdN8G08"
      }
    },
    {
      "cell_type": "code",
      "source": [
        "import re\n",
        "from bs4 import BeautifulSoup\n",
        "import nltk\n",
        "nltk.download('stopwords')\n",
        "from nltk.corpus import stopwords\n",
        "\n",
        "# Text Cleaning\n",
        "def clean_text(text):\n",
        "    text = BeautifulSoup(text, \"html.parser\").get_text()  # Remove HTML tags\n",
        "    text = re.sub(r\"http\\S+|www\\S+|https\\S+\", '', text, flags=re.MULTILINE)  # Remove URLs\n",
        "    text = re.sub(r'\\@\\w+|\\#','', text)  # Remove mentions and hashtags\n",
        "    text = re.sub(r'[^A-Za-z0-9]+', ' ', text)  # Remove special characters\n",
        "    text = text.lower()  # Convert to lowercase\n",
        "    return text\n",
        "\n",
        "train_data['clean_text'] = train_data['text'].apply(clean_text)\n"
      ],
      "metadata": {
        "colab": {
          "base_uri": "https://localhost:8080/"
        },
        "id": "6l8PCjBwXvKE",
        "outputId": "0d285e51-3b5b-4915-e003-b7a69c258114"
      },
      "execution_count": 33,
      "outputs": [
        {
          "output_type": "stream",
          "name": "stderr",
          "text": [
            "[nltk_data] Downloading package stopwords to /root/nltk_data...\n",
            "[nltk_data]   Package stopwords is already up-to-date!\n",
            "<ipython-input-33-b8df1234f44a>:9: MarkupResemblesLocatorWarning: The input looks more like a filename than markup. You may want to open this file and pass the filehandle into Beautiful Soup.\n",
            "  text = BeautifulSoup(text, \"html.parser\").get_text()  # Remove HTML tags\n"
          ]
        }
      ]
    },
    {
      "cell_type": "markdown",
      "source": [
        "##Tokenization"
      ],
      "metadata": {
        "id": "hQp_D8l18M36"
      }
    },
    {
      "cell_type": "code",
      "source": [
        "from transformers import BertTokenizer\n",
        "\n",
        "# Load the BERT tokenizer\n",
        "tokenizer = BertTokenizer.from_pretrained('bert-base-uncased')\n",
        "\n",
        "# Tokenize the text\n",
        "train_data['tokenized_text'] = train_data['clean_text'].apply(lambda x: tokenizer.encode(x, add_special_tokens=True))\n"
      ],
      "metadata": {
        "colab": {
          "base_uri": "https://localhost:8080/"
        },
        "id": "H8wfvZEGYUE0",
        "outputId": "e720d728-5032-4e6b-ade5-ebdee271c80a"
      },
      "execution_count": 34,
      "outputs": [
        {
          "output_type": "stream",
          "name": "stderr",
          "text": [
            "Token indices sequence length is longer than the specified maximum sequence length for this model (717 > 512). Running this sequence through the model will result in indexing errors\n"
          ]
        }
      ]
    },
    {
      "cell_type": "markdown",
      "source": [
        "## Removing Stopwords"
      ],
      "metadata": {
        "id": "nYkOh6eJ8gZ9"
      }
    },
    {
      "cell_type": "code",
      "source": [
        "stop_words = set(stopwords.words('english'))\n",
        "# Remove stop words\n",
        "train_data['clean_text'] = train_data['clean_text'].apply(lambda x: ' '.join([word for word in x.split() if word not in stop_words]))"
      ],
      "metadata": {
        "id": "NeHKBfhsYYuC"
      },
      "execution_count": 35,
      "outputs": []
    },
    {
      "cell_type": "markdown",
      "source": [
        "##Label encoding"
      ],
      "metadata": {
        "id": "xwc4llJ48lmk"
      }
    },
    {
      "cell_type": "code",
      "source": [
        "from sklearn.preprocessing import LabelEncoder\n",
        "\n",
        "# Encode the labels\n",
        "label_encoder = LabelEncoder()\n",
        "train_data['encoded_label'] = label_encoder.fit_transform(train_data['label'])\n"
      ],
      "metadata": {
        "id": "LBE55nlVZawa"
      },
      "execution_count": 36,
      "outputs": []
    },
    {
      "cell_type": "markdown",
      "source": [
        "##Text vectorization"
      ],
      "metadata": {
        "id": "DunQTsPx8qis"
      }
    },
    {
      "cell_type": "code",
      "source": [
        "from gensim.models import Word2Vec\n",
        "import numpy as np\n",
        "# Prepare data for Word2Vec\n",
        "sentences = [text.split() for text in train_data['clean_text']]\n",
        "\n",
        "# Train Word2Vec model\n",
        "word2vec_model = Word2Vec(sentences, vector_size=100, window=5, min_count=1, workers=4)\n",
        "\n",
        "# Get Word2Vec vectors for the training data\n",
        "train_data['word2vec'] = train_data['clean_text'].apply(lambda x: np.mean([word2vec_model.wv[word] for word in x.split() if word in word2vec_model.wv], axis=0))\n"
      ],
      "metadata": {
        "id": "EGArchm1ZcM_"
      },
      "execution_count": 37,
      "outputs": []
    },
    {
      "cell_type": "markdown",
      "source": [
        "##Handling imbalanced data"
      ],
      "metadata": {
        "id": "pKhbFIck8uCx"
      }
    },
    {
      "cell_type": "code",
      "source": [
        "from imblearn.over_sampling import SMOTE\n",
        "\n",
        "# Balance the dataset using SMOTE\n",
        "smote = SMOTE(random_state=42)\n",
        "X_resampled, y_resampled = smote.fit_resample(train_data['word2vec'].tolist(), train_data['encoded_label'])\n"
      ],
      "metadata": {
        "id": "iQtuu_QNZeQL"
      },
      "execution_count": 38,
      "outputs": []
    },
    {
      "cell_type": "markdown",
      "source": [
        "#Traning and Testing Machine learning models"
      ],
      "metadata": {
        "id": "4KcNdRJ380lU"
      }
    },
    {
      "cell_type": "markdown",
      "source": [
        "##1. Random Forest"
      ],
      "metadata": {
        "id": "0yIBrupo880D"
      }
    },
    {
      "cell_type": "code",
      "source": [
        "from sklearn.ensemble import RandomForestClassifier\n",
        "from sklearn.metrics import accuracy_score, recall_score, precision_score, f1_score\n",
        "\n",
        "# Train Random Forest model\n",
        "rf_model = RandomForestClassifier(random_state=42)\n",
        "rf_model.fit(X_resampled, y_resampled)\n",
        "\n",
        "# Evaluate on training data\n",
        "y_train_pred_rf = rf_model.predict(X_resampled)\n",
        "print(\"--- Random Forest Training Data ---\")\n",
        "print(\"Accuracy:\", accuracy_score(y_resampled, y_train_pred_rf))\n",
        "\n",
        "# Preprocess the testing data\n",
        "X_test_clean = X_test.apply(clean_text)\n",
        "X_test_tokenized = X_test_clean.apply(lambda x: ' '.join([word for word in x.split() if word not in stop_words]))\n",
        "X_test_vectors = X_test_tokenized.apply(lambda x: np.mean([word2vec_model.wv[word] for word in x.split() if word in word2vec_model.wv], axis=0))\n",
        "\n",
        "# Ensure all vectors are the same length\n",
        "X_test_vectors = np.array(X_test_vectors.tolist())\n",
        "\n",
        "# Evaluate on testing data\n",
        "y_test_pred_rf = rf_model.predict(X_test_vectors)\n",
        "print(\"--- Random Forest Testing Data ---\")\n",
        "print(\"Accuracy:\", accuracy_score(y_test, y_test_pred_rf))\n",
        "print(\"Recall:\", recall_score(y_test, y_test_pred_rf, average='macro'))\n",
        "print(\"Precision:\", precision_score(y_test, y_test_pred_rf, average='macro'))\n",
        "print(\"F1 Score:\", f1_score(y_test, y_test_pred_rf, average='macro'))\n"
      ],
      "metadata": {
        "colab": {
          "base_uri": "https://localhost:8080/"
        },
        "id": "jElnMeOxa03F",
        "outputId": "5bdceecb-f37f-417b-9bb5-bb252d1136f5"
      },
      "execution_count": 39,
      "outputs": [
        {
          "output_type": "stream",
          "name": "stdout",
          "text": [
            "--- Random Forest Training Data ---\n",
            "Accuracy: 1.0\n"
          ]
        },
        {
          "output_type": "stream",
          "name": "stderr",
          "text": [
            "<ipython-input-33-b8df1234f44a>:9: MarkupResemblesLocatorWarning: The input looks more like a filename than markup. You may want to open this file and pass the filehandle into Beautiful Soup.\n",
            "  text = BeautifulSoup(text, \"html.parser\").get_text()  # Remove HTML tags\n"
          ]
        },
        {
          "output_type": "stream",
          "name": "stdout",
          "text": [
            "--- Random Forest Testing Data ---\n",
            "Accuracy: 0.834375\n",
            "Recall: 0.8214035087719298\n",
            "Precision: 0.8000524109014675\n",
            "F1 Score: 0.8088173958133715\n"
          ]
        }
      ]
    },
    {
      "cell_type": "markdown",
      "source": [
        "##2. Support Vector Machine"
      ],
      "metadata": {
        "id": "h6NrhqMS9G-T"
      }
    },
    {
      "cell_type": "code",
      "source": [
        "from sklearn.svm import SVC\n",
        "\n",
        "# Train SVM model\n",
        "svm_model = SVC(kernel='linear', random_state=42)\n",
        "svm_model.fit(X_resampled, y_resampled)\n",
        "\n",
        "# Evaluate on training data\n",
        "y_train_pred_svm = svm_model.predict(X_resampled)\n",
        "print(\"--- SVM Training Data ---\")\n",
        "print(\"Accuracy:\", accuracy_score(y_resampled, y_train_pred_svm))\n",
        "\n",
        "# Preprocess the testing data\n",
        "X_test_clean = X_test.apply(clean_text)\n",
        "X_test_tokenized = X_test_clean.apply(lambda x: ' '.join([word for word in x.split() if word not in stop_words]))\n",
        "X_test_vectors = X_test_tokenized.apply(lambda x: np.mean([word2vec_model.wv[word] for word in x.split() if word in word2vec_model.wv], axis=0))\n",
        "\n",
        "# Ensure all vectors are the same length\n",
        "X_test_vectors = np.array(X_test_vectors.tolist())\n",
        "\n",
        "# Evaluate on testing data\n",
        "y_test_pred_svm = svm_model.predict(X_test_vectors)\n",
        "print(\"--- SVM Testing Data ---\")\n",
        "print(\"Accuracy:\", accuracy_score(y_test, y_test_pred_svm))\n",
        "print(\"Recall:\", recall_score(y_test, y_test_pred_svm, average='macro'))\n",
        "print(\"Precision:\", precision_score(y_test, y_test_pred_svm, average='macro'))\n",
        "print(\"F1 Score:\", f1_score(y_test, y_test_pred_svm, average='macro'))\n"
      ],
      "metadata": {
        "colab": {
          "base_uri": "https://localhost:8080/"
        },
        "id": "whAeOhFabzC7",
        "outputId": "e8e4f138-bd15-4d53-bdb0-33f5e3e7d862"
      },
      "execution_count": null,
      "outputs": [
        {
          "output_type": "stream",
          "name": "stdout",
          "text": [
            "--- SVM Training Data ---\n",
            "Accuracy: 0.8531789381691064\n"
          ]
        },
        {
          "output_type": "stream",
          "name": "stderr",
          "text": [
            "<ipython-input-34-b8df1234f44a>:9: MarkupResemblesLocatorWarning: The input looks more like a filename than markup. You may want to open this file and pass the filehandle into Beautiful Soup.\n",
            "  text = BeautifulSoup(text, \"html.parser\").get_text()  # Remove HTML tags\n"
          ]
        },
        {
          "output_type": "stream",
          "name": "stdout",
          "text": [
            "--- SVM Testing Data ---\n",
            "Accuracy: 0.84375\n",
            "Recall: 0.8511812865497076\n",
            "Precision: 0.81256297895233\n",
            "F1 Score: 0.8249777721770664\n"
          ]
        }
      ]
    },
    {
      "cell_type": "markdown",
      "source": [
        "##3. Logistic Regression"
      ],
      "metadata": {
        "id": "JgR3dduA9Ly9"
      }
    },
    {
      "cell_type": "code",
      "source": [
        "from sklearn.linear_model import LogisticRegression\n",
        "\n",
        "# Train Logistic Regression model\n",
        "lr_model = LogisticRegression(random_state=42)\n",
        "lr_model.fit(X_resampled, y_resampled)\n",
        "\n",
        "# Evaluate on training data\n",
        "y_train_pred_lr = lr_model.predict(X_resampled)\n",
        "print(\"--- Logistic Regression Training Data ---\")\n",
        "print(\"Accuracy:\", accuracy_score(y_resampled, y_train_pred_lr))\n",
        "\n",
        "# Preprocess the testing data\n",
        "X_test_clean = X_test.apply(clean_text)\n",
        "X_test_tokenized = X_test_clean.apply(lambda x: ' '.join([word for word in x.split() if word not in stop_words]))\n",
        "X_test_vectors = X_test_tokenized.apply(lambda x: np.mean([word2vec_model.wv[word] for word in x.split() if word in word2vec_model.wv], axis=0))\n",
        "\n",
        "# Ensure all vectors are the same length\n",
        "X_test_vectors = np.array(X_test_vectors.tolist())\n",
        "\n",
        "# Evaluate on testing data\n",
        "y_test_pred_lr = lr_model.predict(X_test_vectors)\n",
        "print(\"--- Logistic Regression Testing Data ---\")\n",
        "print(\"Accuracy:\", accuracy_score(y_test, y_test_pred_lr))\n",
        "print(\"Recall:\", recall_score(y_test, y_test_pred_lr, average='macro'))\n",
        "print(\"Precision:\", precision_score(y_test, y_test_pred_lr, average='macro'))\n",
        "print(\"F1 Score:\", f1_score(y_test, y_test_pred_lr, average='macro'))\n"
      ],
      "metadata": {
        "colab": {
          "base_uri": "https://localhost:8080/"
        },
        "id": "ml2CGuQ9c2Sy",
        "outputId": "98f7bd7f-16ff-42f9-cacd-7ae4361e1d20"
      },
      "execution_count": null,
      "outputs": [
        {
          "output_type": "stream",
          "name": "stderr",
          "text": [
            "/usr/local/lib/python3.10/dist-packages/sklearn/linear_model/_logistic.py:458: ConvergenceWarning: lbfgs failed to converge (status=1):\n",
            "STOP: TOTAL NO. of ITERATIONS REACHED LIMIT.\n",
            "\n",
            "Increase the number of iterations (max_iter) or scale the data as shown in:\n",
            "    https://scikit-learn.org/stable/modules/preprocessing.html\n",
            "Please also refer to the documentation for alternative solver options:\n",
            "    https://scikit-learn.org/stable/modules/linear_model.html#logistic-regression\n",
            "  n_iter_i = _check_optimize_result(\n"
          ]
        },
        {
          "output_type": "stream",
          "name": "stdout",
          "text": [
            "--- Logistic Regression Training Data ---\n",
            "Accuracy: 0.8468429102031899\n"
          ]
        },
        {
          "output_type": "stream",
          "name": "stderr",
          "text": [
            "<ipython-input-34-b8df1234f44a>:9: MarkupResemblesLocatorWarning: The input looks more like a filename than markup. You may want to open this file and pass the filehandle into Beautiful Soup.\n",
            "  text = BeautifulSoup(text, \"html.parser\").get_text()  # Remove HTML tags\n"
          ]
        },
        {
          "output_type": "stream",
          "name": "stdout",
          "text": [
            "--- Logistic Regression Testing Data ---\n",
            "Accuracy: 0.85\n",
            "Recall: 0.8519766081871345\n",
            "Precision: 0.8181673627568895\n",
            "F1 Score: 0.8302300206376632\n"
          ]
        }
      ]
    },
    {
      "cell_type": "markdown",
      "source": [
        "##4. GaussianNB"
      ],
      "metadata": {
        "id": "JU_foyWw9PWw"
      }
    },
    {
      "cell_type": "code",
      "source": [
        "from sklearn.naive_bayes import GaussianNB\n",
        "\n",
        "# Train Gaussian Naive Bayes model\n",
        "gnb_model = GaussianNB()\n",
        "gnb_model.fit(X_resampled, y_resampled)\n",
        "\n",
        "# Evaluate on training data\n",
        "y_train_pred_gnb = gnb_model.predict(X_resampled)\n",
        "print(\"--- Gaussian Naive Bayes Training Data ---\")\n",
        "print(\"Accuracy:\", accuracy_score(y_resampled, y_train_pred_gnb))\n",
        "\n",
        "# Preprocess the testing data\n",
        "X_test_clean = X_test.apply(clean_text)\n",
        "X_test_tokenized = X_test_clean.apply(lambda x: ' '.join([word for word in x.split() if word not in stop_words]))\n",
        "X_test_vectors = X_test_tokenized.apply(lambda x: np.mean([word2vec_model.wv[word] for word in x.split() if word in word2vec_model.wv], axis=0))\n",
        "\n",
        "# Ensure all vectors are the same length\n",
        "X_test_vectors = np.array(X_test_vectors.tolist())\n",
        "\n",
        "# Evaluate on testing data\n",
        "y_test_pred_gnb = gnb_model.predict(X_test_vectors)\n",
        "print(\"--- Gaussian Naive Bayes Testing Data ---\")\n",
        "print(\"Accuracy:\", accuracy_score(y_test, y_test_pred_gnb))\n",
        "print(\"Recall:\", recall_score(y_test, y_test_pred_gnb, average='macro'))\n",
        "print(\"Precision:\", precision_score(y_test, y_test_pred_gnb, average='macro'))\n",
        "print(\"F1 Score:\", f1_score(y_test, y_test_pred_gnb, average='macro'))\n"
      ],
      "metadata": {
        "colab": {
          "base_uri": "https://localhost:8080/"
        },
        "id": "hHEB4CQ1c359",
        "outputId": "2ef2a527-be1b-468e-adb9-dba8f1d90935"
      },
      "execution_count": null,
      "outputs": [
        {
          "output_type": "stream",
          "name": "stdout",
          "text": [
            "--- Gaussian Naive Bayes Training Data ---\n",
            "Accuracy: 0.7959362027528949\n"
          ]
        },
        {
          "output_type": "stream",
          "name": "stderr",
          "text": [
            "<ipython-input-34-b8df1234f44a>:9: MarkupResemblesLocatorWarning: The input looks more like a filename than markup. You may want to open this file and pass the filehandle into Beautiful Soup.\n",
            "  text = BeautifulSoup(text, \"html.parser\").get_text()  # Remove HTML tags\n"
          ]
        },
        {
          "output_type": "stream",
          "name": "stdout",
          "text": [
            "--- Gaussian Naive Bayes Testing Data ---\n",
            "Accuracy: 0.79375\n",
            "Recall: 0.8040701754385965\n",
            "Precision: 0.7640566115924082\n",
            "F1 Score: 0.7731643063725364\n"
          ]
        }
      ]
    },
    {
      "cell_type": "markdown",
      "source": [
        "##5. Gradient Boosting Classifier"
      ],
      "metadata": {
        "id": "UZRBI8Bv9TjZ"
      }
    },
    {
      "cell_type": "code",
      "source": [
        "from sklearn.ensemble import GradientBoostingClassifier\n",
        "\n",
        "# Train Gradient Boosting model\n",
        "gb_model = GradientBoostingClassifier(random_state=42)\n",
        "gb_model.fit(X_resampled, y_resampled)\n",
        "\n",
        "# Evaluate on training data\n",
        "y_train_pred_gb = gb_model.predict(X_resampled)\n",
        "print(\"--- Gradient Boosting Training Data ---\")\n",
        "print(\"Accuracy:\", accuracy_score(y_resampled, y_train_pred_gb))\n",
        "\n",
        "# Preprocess the testing data\n",
        "X_test_clean = X_test.apply(clean_text)\n",
        "X_test_tokenized = X_test_clean.apply(lambda x: ' '.join([word for word in x.split() if word not in stop_words]))\n",
        "X_test_vectors = X_test_tokenized.apply(lambda x: np.mean([word2vec_model.wv[word] for word in x.split() if word in word2vec_model.wv], axis=0))\n",
        "\n",
        "# Ensure all vectors are the same length\n",
        "X_test_vectors = np.array(X_test_vectors.tolist())\n",
        "\n",
        "# Evaluate on testing data\n",
        "y_test_pred_gb = gb_model.predict(X_test_vectors)\n",
        "print(\"--- Gradient Boosting Testing Data ---\")\n",
        "print(\"Accuracy:\", accuracy_score(y_test, y_test_pred_gb))\n",
        "print(\"Recall:\", recall_score(y_test, y_test_pred_gb, average='macro'))\n",
        "print(\"Precision:\", precision_score(y_test, y_test_pred_gb, average='macro'))\n",
        "print(\"F1 Score:\", f1_score(y_test, y_test_pred_gb, average='macro'))\n"
      ],
      "metadata": {
        "colab": {
          "base_uri": "https://localhost:8080/"
        },
        "id": "UiuP4t3Cc6fe",
        "outputId": "f1b00764-4250-4435-c57e-a69c83f681ec"
      },
      "execution_count": null,
      "outputs": [
        {
          "output_type": "stream",
          "name": "stdout",
          "text": [
            "--- Gradient Boosting Training Data ---\n",
            "Accuracy: 0.8762289709416649\n"
          ]
        },
        {
          "output_type": "stream",
          "name": "stderr",
          "text": [
            "<ipython-input-34-b8df1234f44a>:9: MarkupResemblesLocatorWarning: The input looks more like a filename than markup. You may want to open this file and pass the filehandle into Beautiful Soup.\n",
            "  text = BeautifulSoup(text, \"html.parser\").get_text()  # Remove HTML tags\n"
          ]
        },
        {
          "output_type": "stream",
          "name": "stdout",
          "text": [
            "--- Gradient Boosting Testing Data ---\n",
            "Accuracy: 0.829375\n",
            "Recall: 0.836701754385965\n",
            "Precision: 0.7979384003974168\n",
            "F1 Score: 0.8096545412948983\n"
          ]
        }
      ]
    },
    {
      "cell_type": "markdown",
      "source": [
        "#Conclusion\n",
        "\n",
        "###Models with thier accuracies\n",
        "\n",
        "*   Random Forest Classifier - 0.83\n",
        "*   Support Vector Machine   - 0.84\n",
        "*   LogisticRegression Model - 0.85\n",
        "*   GaussianNB               - 0.79\n",
        "*   Gradient Bossting        - 0.82\n",
        "\n",
        "\n",
        "\n",
        "\n",
        "\n",
        "\n",
        "\n",
        "\n",
        "\n",
        "\n",
        "\n",
        "\n"
      ],
      "metadata": {
        "id": "2FRpOcXOWzA4"
      }
    },
    {
      "cell_type": "markdown",
      "source": [
        "#Hyperparameter Tuning"
      ],
      "metadata": {
        "id": "dXVxsjHfS0xT"
      }
    },
    {
      "cell_type": "markdown",
      "source": [
        "###1. Random Forest"
      ],
      "metadata": {
        "id": "KpNeTGIVTGI0"
      }
    },
    {
      "cell_type": "code",
      "source": [
        "from sklearn.ensemble import RandomForestClassifier\n",
        "from sklearn.model_selection import GridSearchCV\n",
        "from sklearn.metrics import accuracy_score, recall_score, precision_score, f1_score\n",
        "import numpy as np\n",
        "\n",
        "# Define the parameter grid for RandomForestClassifier\n",
        "param_grid = {\n",
        "    'n_estimators': [50, 100],\n",
        "    'max_depth': [None, 10],\n",
        "    'min_samples_split': [2, 5],\n",
        "    'min_samples_leaf': [1, 2],\n",
        "    'max_features': ['auto', 'sqrt']\n",
        "}\n",
        "\n",
        "\n",
        "# Instantiate the Random Forest classifier\n",
        "rf_model = RandomForestClassifier(random_state=42)\n",
        "\n",
        "# Instantiate the grid search\n",
        "grid_search = GridSearchCV(estimator=rf_model, param_grid=param_grid,\n",
        "                           cv=3, n_jobs=-1, verbose=2, scoring='f1_macro')\n",
        "\n",
        "# Fit the grid search to the data\n",
        "grid_search.fit(X_resampled, y_resampled)\n",
        "\n",
        "# Print the best parameters\n",
        "print(\"Best parameters found: \", grid_search.best_params_)\n",
        "\n",
        "# Evaluate the best model on training data\n",
        "best_rf_model = grid_search.best_estimator_\n",
        "y_train_pred_rf = best_rf_model.predict(X_resampled)\n",
        "print(\"--- Random Forest Training Data ---\")\n",
        "print(\"Accuracy:\", accuracy_score(y_resampled, y_train_pred_rf))\n",
        "print(\"Recall:\", recall_score(y_resampled, y_train_pred_rf, average='macro'))\n",
        "print(\"Precision:\", precision_score(y_resampled, y_train_pred_rf, average='macro'))\n",
        "print(\"F1 Score:\", f1_score(y_resampled, y_train_pred_rf, average='macro'))\n",
        "\n",
        "# Preprocess the testing data (assuming X_test and y_test are defined)\n",
        "X_test_clean = X_test.apply(clean_text)\n",
        "X_test_tokenized = X_test_clean.apply(lambda x: ' '.join([word for word in x.split() if word not in stop_words]))\n",
        "X_test_vectors = X_test_tokenized.apply(lambda x: np.mean([word2vec_model.wv[word] for word in x.split() if word in word2vec_model.wv], axis=0))\n",
        "\n",
        "# Ensure all vectors are the same length\n",
        "X_test_vectors = np.array(X_test_vectors.tolist())\n",
        "\n",
        "# Evaluate the best model on testing data\n",
        "y_test_pred_rf = best_rf_model.predict(X_test_vectors)\n",
        "print(\"--- Random Forest Testing Data ---\")\n",
        "print(\"Accuracy:\", accuracy_score(y_test, y_test_pred_rf))\n",
        "print(\"Recall:\", recall_score(y_test, y_test_pred_rf, average='macro'))\n",
        "print(\"Precision:\", precision_score(y_test, y_test_pred_rf, average='macro'))\n",
        "print(\"F1 Score:\", f1_score(y_test, y_test_pred_rf, average='macro'))\n"
      ],
      "metadata": {
        "colab": {
          "base_uri": "https://localhost:8080/"
        },
        "id": "PxPbmjEYjRzL",
        "outputId": "9760cfbf-341e-42ec-f96a-a3dabd2f3712"
      },
      "execution_count": 43,
      "outputs": [
        {
          "output_type": "stream",
          "name": "stdout",
          "text": [
            "Fitting 3 folds for each of 32 candidates, totalling 96 fits\n"
          ]
        },
        {
          "output_type": "stream",
          "name": "stderr",
          "text": [
            "/usr/local/lib/python3.10/dist-packages/sklearn/ensemble/_forest.py:424: FutureWarning: `max_features='auto'` has been deprecated in 1.1 and will be removed in 1.3. To keep the past behaviour, explicitly set `max_features='sqrt'` or remove this parameter as it is also the default value for RandomForestClassifiers and ExtraTreesClassifiers.\n",
            "  warn(\n"
          ]
        },
        {
          "output_type": "stream",
          "name": "stdout",
          "text": [
            "Best parameters found:  {'max_depth': None, 'max_features': 'auto', 'min_samples_leaf': 1, 'min_samples_split': 2, 'n_estimators': 100}\n",
            "--- Random Forest Training Data ---\n",
            "Accuracy: 1.0\n",
            "Recall: 1.0\n",
            "Precision: 1.0\n",
            "F1 Score: 1.0\n"
          ]
        },
        {
          "output_type": "stream",
          "name": "stderr",
          "text": [
            "<ipython-input-33-b8df1234f44a>:9: MarkupResemblesLocatorWarning: The input looks more like a filename than markup. You may want to open this file and pass the filehandle into Beautiful Soup.\n",
            "  text = BeautifulSoup(text, \"html.parser\").get_text()  # Remove HTML tags\n"
          ]
        },
        {
          "output_type": "stream",
          "name": "stdout",
          "text": [
            "--- Random Forest Testing Data ---\n",
            "Accuracy: 0.834375\n",
            "Recall: 0.8214035087719298\n",
            "Precision: 0.8000524109014675\n",
            "F1 Score: 0.8088173958133715\n"
          ]
        }
      ]
    },
    {
      "cell_type": "markdown",
      "source": [
        "###2. Support Vector Machine"
      ],
      "metadata": {
        "id": "nAy8W0WHTRU3"
      }
    },
    {
      "cell_type": "code",
      "source": [
        "from sklearn.svm import SVC\n",
        "from sklearn.model_selection import GridSearchCV\n",
        "from sklearn.metrics import accuracy_score, recall_score, precision_score, f1_score\n",
        "import numpy as np\n",
        "\n",
        "# Define the parameter grid\n",
        "param_grid = {\n",
        "    'C': [0.1, 1, 10, 100],\n",
        "    'kernel': ['linear', 'poly', 'rbf', 'sigmoid'],\n",
        "    'gamma': ['scale', 'auto'],\n",
        "    'degree': [3, 4, 5]  # Only relevant for 'poly' kernel\n",
        "}\n",
        "\n",
        "# Instantiate the SVM classifier\n",
        "svm_model = SVC(random_state=42)\n",
        "\n",
        "# Instantiate the grid search\n",
        "grid_search = GridSearchCV(estimator=svm_model, param_grid=param_grid,\n",
        "                           cv=3, n_jobs=-1, verbose=2, scoring='f1_macro')\n",
        "\n",
        "# Fit the grid search to the data\n",
        "grid_search.fit(X_resampled, y_resampled)\n",
        "\n",
        "# Print the best parameters\n",
        "print(\"Best parameters found: \", grid_search.best_params_)\n",
        "\n",
        "# Evaluate the best model on training data\n",
        "best_svm_model = grid_search.best_estimator_\n",
        "y_train_pred_svm = best_svm_model.predict(X_resampled)\n",
        "print(\"--- SVM Training Data ---\")\n",
        "print(\"Accuracy:\", accuracy_score(y_resampled, y_train_pred_svm))\n",
        "print(\"Recall:\", recall_score(y_resampled, y_train_pred_svm, average='macro'))\n",
        "print(\"Precision:\", precision_score(y_resampled, y_train_pred_svm, average='macro'))\n",
        "print(\"F1 Score:\", f1_score(y_resampled, y_train_pred_svm, average='macro'))\n",
        "\n",
        "# Preprocess the testing data\n",
        "X_test_clean = X_test.apply(clean_text)\n",
        "X_test_tokenized = X_test_clean.apply(lambda x: ' '.join([word for word in x.split() if word not in stop_words]))\n",
        "X_test_vectors = X_test_tokenized.apply(lambda x: np.mean([word2vec_model.wv[word] for word in x.split() if word in word2vec_model.wv], axis=0))\n",
        "\n",
        "# Ensure all vectors are the same length\n",
        "X_test_vectors = np.array(X_test_vectors.tolist())\n",
        "\n",
        "# Evaluate the best model on testing data\n",
        "y_test_pred_svm = best_svm_model.predict(X_test_vectors)\n",
        "print(\"--- SVM Testing Data ---\")\n",
        "print(\"Accuracy:\", accuracy_score(y_test, y_test_pred_svm))\n",
        "print(\"Recall:\", recall_score(y_test, y_test_pred_svm, average='macro'))\n",
        "print(\"Precision:\", precision_score(y_test, y_test_pred_svm, average='macro'))\n",
        "print(\"F1 Score:\", f1_score(y_test, y_test_pred_svm, average='macro'))\n"
      ],
      "metadata": {
        "colab": {
          "base_uri": "https://localhost:8080/"
        },
        "id": "S7tLZ1f9MIas",
        "outputId": "23fae9f1-d326-490f-bb8d-5d4f07f2b8b6"
      },
      "execution_count": 44,
      "outputs": [
        {
          "output_type": "stream",
          "name": "stdout",
          "text": [
            "Fitting 3 folds for each of 96 candidates, totalling 288 fits\n",
            "Best parameters found:  {'C': 100, 'degree': 3, 'gamma': 'scale', 'kernel': 'rbf'}\n",
            "--- SVM Training Data ---\n",
            "Accuracy: 0.883111208214988\n",
            "Recall: 0.8831112082149879\n",
            "Precision: 0.8856039384044159\n",
            "F1 Score: 0.8829219960169397\n"
          ]
        },
        {
          "output_type": "stream",
          "name": "stderr",
          "text": [
            "<ipython-input-33-b8df1234f44a>:9: MarkupResemblesLocatorWarning: The input looks more like a filename than markup. You may want to open this file and pass the filehandle into Beautiful Soup.\n",
            "  text = BeautifulSoup(text, \"html.parser\").get_text()  # Remove HTML tags\n"
          ]
        },
        {
          "output_type": "stream",
          "name": "stdout",
          "text": [
            "--- SVM Testing Data ---\n",
            "Accuracy: 0.8525\n",
            "Recall: 0.855578947368421\n",
            "Precision: 0.8209459174142244\n",
            "F1 Score: 0.8332202623247398\n"
          ]
        }
      ]
    },
    {
      "cell_type": "markdown",
      "source": [
        "###3. Logistic Regression"
      ],
      "metadata": {
        "id": "0kDD68LL9dSU"
      }
    },
    {
      "cell_type": "code",
      "source": [
        "from sklearn.linear_model import LogisticRegression\n",
        "from sklearn.model_selection import GridSearchCV\n",
        "from sklearn.metrics import accuracy_score, recall_score, precision_score, f1_score\n",
        "\n",
        "# Define the parameter grid\n",
        "param_grid = {\n",
        "    'C': [0.01, 0.1, 1, 10, 100],\n",
        "    'penalty': ['l1', 'l2', 'elasticnet', 'none'],\n",
        "    'solver': ['newton-cg', 'lbfgs', 'liblinear', 'sag', 'saga']\n",
        "}\n",
        "\n",
        "# Initialize the Logistic Regression model\n",
        "lr_model = LogisticRegression(random_state=42, max_iter=1000)\n",
        "\n",
        "# Initialize GridSearchCV\n",
        "grid_search = GridSearchCV(estimator=lr_model, param_grid=param_grid, cv=5, scoring='f1_macro', n_jobs=-1)\n",
        "\n",
        "# Fit GridSearchCV\n",
        "grid_search.fit(X_resampled, y_resampled)\n",
        "\n",
        "# Get the best model\n",
        "best_lr_model = grid_search.best_estimator_\n",
        "\n",
        "# Evaluate the best model on the training data\n",
        "y_train_pred_lr = best_lr_model.predict(X_resampled)\n",
        "print(\"--- Best Logistic Regression Model on Training Data ---\")\n",
        "print(\"Best Parameters:\", grid_search.best_params_)\n",
        "print(\"Accuracy:\", accuracy_score(y_resampled, y_train_pred_lr))\n",
        "print(\"Recall:\", recall_score(y_resampled, y_train_pred_lr, average='macro'))\n",
        "print(\"Precision:\", precision_score(y_resampled, y_train_pred_lr, average='macro'))\n",
        "print(\"F1 Score:\", f1_score(y_resampled, y_train_pred_lr, average='macro'))\n",
        "\n",
        "# Preprocess the testing data\n",
        "X_test_clean = X_test.apply(clean_text)\n",
        "X_test_tokenized = X_test_clean.apply(lambda x: ' '.join([word for word in x.split() if word not in stop_words]))\n",
        "X_test_vectors = X_test_tokenized.apply(lambda x: np.mean([word2vec_model.wv[word] for word in x.split() if word in word2vec_model.wv], axis=0))\n",
        "\n",
        "# Ensure all vectors are the same length\n",
        "X_test_vectors = np.array(X_test_vectors.tolist())\n",
        "\n",
        "# Evaluate the best model on the testing data\n",
        "y_test_pred_lr = best_lr_model.predict(X_test_vectors)\n",
        "print(\"--- Best Logistic Regression Model on Testing Data ---\")\n",
        "print(\"Accuracy:\", accuracy_score(y_test, y_test_pred_lr))\n",
        "print(\"Recall:\", recall_score(y_test, y_test_pred_lr, average='macro'))\n",
        "print(\"Precision:\", precision_score(y_test, y_test_pred_lr, average='macro'))\n",
        "print(\"F1 Score:\", f1_score(y_test, y_test_pred_lr, average='macro'))\n"
      ],
      "metadata": {
        "colab": {
          "base_uri": "https://localhost:8080/"
        },
        "id": "8q0jMK31eSqS",
        "outputId": "2e08f040-c5fb-4035-e0aa-c8002f13a6fe"
      },
      "execution_count": null,
      "outputs": [
        {
          "output_type": "stream",
          "name": "stderr",
          "text": [
            "/usr/local/lib/python3.10/dist-packages/sklearn/model_selection/_validation.py:378: FitFailedWarning: \n",
            "225 fits failed out of a total of 500.\n",
            "The score on these train-test partitions for these parameters will be set to nan.\n",
            "If these failures are not expected, you can try to debug them by setting error_score='raise'.\n",
            "\n",
            "Below are more details about the failures:\n",
            "--------------------------------------------------------------------------------\n",
            "25 fits failed with the following error:\n",
            "Traceback (most recent call last):\n",
            "  File \"/usr/local/lib/python3.10/dist-packages/sklearn/model_selection/_validation.py\", line 686, in _fit_and_score\n",
            "    estimator.fit(X_train, y_train, **fit_params)\n",
            "  File \"/usr/local/lib/python3.10/dist-packages/sklearn/linear_model/_logistic.py\", line 1162, in fit\n",
            "    solver = _check_solver(self.solver, self.penalty, self.dual)\n",
            "  File \"/usr/local/lib/python3.10/dist-packages/sklearn/linear_model/_logistic.py\", line 54, in _check_solver\n",
            "    raise ValueError(\n",
            "ValueError: Solver newton-cg supports only 'l2' or 'none' penalties, got l1 penalty.\n",
            "\n",
            "--------------------------------------------------------------------------------\n",
            "25 fits failed with the following error:\n",
            "Traceback (most recent call last):\n",
            "  File \"/usr/local/lib/python3.10/dist-packages/sklearn/model_selection/_validation.py\", line 686, in _fit_and_score\n",
            "    estimator.fit(X_train, y_train, **fit_params)\n",
            "  File \"/usr/local/lib/python3.10/dist-packages/sklearn/linear_model/_logistic.py\", line 1162, in fit\n",
            "    solver = _check_solver(self.solver, self.penalty, self.dual)\n",
            "  File \"/usr/local/lib/python3.10/dist-packages/sklearn/linear_model/_logistic.py\", line 54, in _check_solver\n",
            "    raise ValueError(\n",
            "ValueError: Solver lbfgs supports only 'l2' or 'none' penalties, got l1 penalty.\n",
            "\n",
            "--------------------------------------------------------------------------------\n",
            "25 fits failed with the following error:\n",
            "Traceback (most recent call last):\n",
            "  File \"/usr/local/lib/python3.10/dist-packages/sklearn/model_selection/_validation.py\", line 686, in _fit_and_score\n",
            "    estimator.fit(X_train, y_train, **fit_params)\n",
            "  File \"/usr/local/lib/python3.10/dist-packages/sklearn/linear_model/_logistic.py\", line 1162, in fit\n",
            "    solver = _check_solver(self.solver, self.penalty, self.dual)\n",
            "  File \"/usr/local/lib/python3.10/dist-packages/sklearn/linear_model/_logistic.py\", line 54, in _check_solver\n",
            "    raise ValueError(\n",
            "ValueError: Solver sag supports only 'l2' or 'none' penalties, got l1 penalty.\n",
            "\n",
            "--------------------------------------------------------------------------------\n",
            "25 fits failed with the following error:\n",
            "Traceback (most recent call last):\n",
            "  File \"/usr/local/lib/python3.10/dist-packages/sklearn/model_selection/_validation.py\", line 686, in _fit_and_score\n",
            "    estimator.fit(X_train, y_train, **fit_params)\n",
            "  File \"/usr/local/lib/python3.10/dist-packages/sklearn/linear_model/_logistic.py\", line 1162, in fit\n",
            "    solver = _check_solver(self.solver, self.penalty, self.dual)\n",
            "  File \"/usr/local/lib/python3.10/dist-packages/sklearn/linear_model/_logistic.py\", line 54, in _check_solver\n",
            "    raise ValueError(\n",
            "ValueError: Solver newton-cg supports only 'l2' or 'none' penalties, got elasticnet penalty.\n",
            "\n",
            "--------------------------------------------------------------------------------\n",
            "25 fits failed with the following error:\n",
            "Traceback (most recent call last):\n",
            "  File \"/usr/local/lib/python3.10/dist-packages/sklearn/model_selection/_validation.py\", line 686, in _fit_and_score\n",
            "    estimator.fit(X_train, y_train, **fit_params)\n",
            "  File \"/usr/local/lib/python3.10/dist-packages/sklearn/linear_model/_logistic.py\", line 1162, in fit\n",
            "    solver = _check_solver(self.solver, self.penalty, self.dual)\n",
            "  File \"/usr/local/lib/python3.10/dist-packages/sklearn/linear_model/_logistic.py\", line 54, in _check_solver\n",
            "    raise ValueError(\n",
            "ValueError: Solver lbfgs supports only 'l2' or 'none' penalties, got elasticnet penalty.\n",
            "\n",
            "--------------------------------------------------------------------------------\n",
            "25 fits failed with the following error:\n",
            "Traceback (most recent call last):\n",
            "  File \"/usr/local/lib/python3.10/dist-packages/sklearn/model_selection/_validation.py\", line 686, in _fit_and_score\n",
            "    estimator.fit(X_train, y_train, **fit_params)\n",
            "  File \"/usr/local/lib/python3.10/dist-packages/sklearn/linear_model/_logistic.py\", line 1162, in fit\n",
            "    solver = _check_solver(self.solver, self.penalty, self.dual)\n",
            "  File \"/usr/local/lib/python3.10/dist-packages/sklearn/linear_model/_logistic.py\", line 64, in _check_solver\n",
            "    raise ValueError(\n",
            "ValueError: Only 'saga' solver supports elasticnet penalty, got solver=liblinear.\n",
            "\n",
            "--------------------------------------------------------------------------------\n",
            "25 fits failed with the following error:\n",
            "Traceback (most recent call last):\n",
            "  File \"/usr/local/lib/python3.10/dist-packages/sklearn/model_selection/_validation.py\", line 686, in _fit_and_score\n",
            "    estimator.fit(X_train, y_train, **fit_params)\n",
            "  File \"/usr/local/lib/python3.10/dist-packages/sklearn/linear_model/_logistic.py\", line 1162, in fit\n",
            "    solver = _check_solver(self.solver, self.penalty, self.dual)\n",
            "  File \"/usr/local/lib/python3.10/dist-packages/sklearn/linear_model/_logistic.py\", line 54, in _check_solver\n",
            "    raise ValueError(\n",
            "ValueError: Solver sag supports only 'l2' or 'none' penalties, got elasticnet penalty.\n",
            "\n",
            "--------------------------------------------------------------------------------\n",
            "25 fits failed with the following error:\n",
            "Traceback (most recent call last):\n",
            "  File \"/usr/local/lib/python3.10/dist-packages/sklearn/model_selection/_validation.py\", line 686, in _fit_and_score\n",
            "    estimator.fit(X_train, y_train, **fit_params)\n",
            "  File \"/usr/local/lib/python3.10/dist-packages/sklearn/linear_model/_logistic.py\", line 1291, in fit\n",
            "    fold_coefs_ = Parallel(n_jobs=self.n_jobs, verbose=self.verbose, prefer=prefer)(\n",
            "  File \"/usr/local/lib/python3.10/dist-packages/sklearn/utils/parallel.py\", line 63, in __call__\n",
            "    return super().__call__(iterable_with_config)\n",
            "  File \"/usr/local/lib/python3.10/dist-packages/joblib/parallel.py\", line 1918, in __call__\n",
            "    return output if self.return_generator else list(output)\n",
            "  File \"/usr/local/lib/python3.10/dist-packages/joblib/parallel.py\", line 1847, in _get_sequential_output\n",
            "    res = func(*args, **kwargs)\n",
            "  File \"/usr/local/lib/python3.10/dist-packages/sklearn/utils/parallel.py\", line 123, in __call__\n",
            "    return self.function(*args, **kwargs)\n",
            "  File \"/usr/local/lib/python3.10/dist-packages/sklearn/linear_model/_logistic.py\", line 521, in _logistic_regression_path\n",
            "    alpha = (1.0 / C) * (1 - l1_ratio)\n",
            "TypeError: unsupported operand type(s) for -: 'int' and 'NoneType'\n",
            "\n",
            "--------------------------------------------------------------------------------\n",
            "25 fits failed with the following error:\n",
            "Traceback (most recent call last):\n",
            "  File \"/usr/local/lib/python3.10/dist-packages/sklearn/model_selection/_validation.py\", line 686, in _fit_and_score\n",
            "    estimator.fit(X_train, y_train, **fit_params)\n",
            "  File \"/usr/local/lib/python3.10/dist-packages/sklearn/linear_model/_logistic.py\", line 1162, in fit\n",
            "    solver = _check_solver(self.solver, self.penalty, self.dual)\n",
            "  File \"/usr/local/lib/python3.10/dist-packages/sklearn/linear_model/_logistic.py\", line 71, in _check_solver\n",
            "    raise ValueError(\"penalty='none' is not supported for the liblinear solver\")\n",
            "ValueError: penalty='none' is not supported for the liblinear solver\n",
            "\n",
            "  warnings.warn(some_fits_failed_message, FitFailedWarning)\n",
            "/usr/local/lib/python3.10/dist-packages/sklearn/model_selection/_search.py:952: UserWarning: One or more of the test scores are non-finite: [       nan        nan 0.80495043        nan 0.80530861 0.81576799\n",
            " 0.81576799 0.8164704  0.81576799 0.81576799        nan        nan\n",
            "        nan        nan        nan 0.86788405 0.86821917        nan\n",
            " 0.86362455 0.85924919        nan        nan 0.82623512        nan\n",
            " 0.82696369 0.83297534 0.83297534 0.8340767  0.83297534 0.83297534\n",
            "        nan        nan        nan        nan        nan 0.86788405\n",
            " 0.86821917        nan 0.86362455 0.85924919        nan        nan\n",
            " 0.84767135        nan 0.84865089 0.84470113 0.84470113 0.84404738\n",
            " 0.84470113 0.84470113        nan        nan        nan        nan\n",
            "        nan 0.86788405 0.86821917        nan 0.86362455 0.85924919\n",
            "        nan        nan 0.86307433        nan 0.85783353 0.85618986\n",
            " 0.85618986 0.8562997  0.85629884 0.85629884        nan        nan\n",
            "        nan        nan        nan 0.86788405 0.86821917        nan\n",
            " 0.86362455 0.85924919        nan        nan 0.86788908        nan\n",
            " 0.85892091 0.86209393 0.8619853  0.86187433 0.86077868 0.85903537\n",
            "        nan        nan        nan        nan        nan 0.86788405\n",
            " 0.86821917        nan 0.86362455 0.85924919]\n",
            "  warnings.warn(\n",
            "/usr/local/lib/python3.10/dist-packages/sklearn/linear_model/_logistic.py:1173: FutureWarning: `penalty='none'`has been deprecated in 1.2 and will be removed in 1.4. To keep the past behaviour, set `penalty=None`.\n",
            "  warnings.warn(\n",
            "/usr/local/lib/python3.10/dist-packages/sklearn/linear_model/_logistic.py:1181: UserWarning: Setting penalty=None will ignore the C and l1_ratio parameters\n",
            "  warnings.warn(\n",
            "/usr/local/lib/python3.10/dist-packages/sklearn/linear_model/_logistic.py:458: ConvergenceWarning: lbfgs failed to converge (status=1):\n",
            "STOP: TOTAL NO. of ITERATIONS REACHED LIMIT.\n",
            "\n",
            "Increase the number of iterations (max_iter) or scale the data as shown in:\n",
            "    https://scikit-learn.org/stable/modules/preprocessing.html\n",
            "Please also refer to the documentation for alternative solver options:\n",
            "    https://scikit-learn.org/stable/modules/linear_model.html#logistic-regression\n",
            "  n_iter_i = _check_optimize_result(\n"
          ]
        },
        {
          "output_type": "stream",
          "name": "stdout",
          "text": [
            "--- Best Logistic Regression Model on Training Data ---\n",
            "Best Parameters: {'C': 0.01, 'penalty': 'none', 'solver': 'lbfgs'}\n",
            "Accuracy: 0.8731701988201879\n",
            "Recall: 0.8731701988201879\n",
            "Precision: 0.8734226240290792\n",
            "F1 Score: 0.8731487616814941\n"
          ]
        },
        {
          "output_type": "stream",
          "name": "stderr",
          "text": [
            "<ipython-input-34-b8df1234f44a>:9: MarkupResemblesLocatorWarning: The input looks more like a filename than markup. You may want to open this file and pass the filehandle into Beautiful Soup.\n",
            "  text = BeautifulSoup(text, \"html.parser\").get_text()  # Remove HTML tags\n"
          ]
        },
        {
          "output_type": "stream",
          "name": "stdout",
          "text": [
            "--- Best Logistic Regression Model on Testing Data ---\n",
            "Accuracy: 0.87\n",
            "Recall: 0.8661988304093566\n",
            "Precision: 0.8397405515016727\n",
            "F1 Score: 0.8504885179854047\n"
          ]
        }
      ]
    },
    {
      "cell_type": "markdown",
      "source": [
        "###4. GaussianNB"
      ],
      "metadata": {
        "id": "HZ8STx-1TbfS"
      }
    },
    {
      "cell_type": "code",
      "source": [
        "from sklearn.model_selection import GridSearchCV\n",
        "from sklearn.naive_bayes import GaussianNB\n",
        "from sklearn.metrics import make_scorer, accuracy_score, recall_score, precision_score, f1_score\n",
        "import numpy as np\n",
        "\n",
        "# Assuming X_resampled and y_resampled are your training data\n",
        "# Assuming X_test_vectors and y_test are your testing data\n",
        "\n",
        "# Define the GNB model\n",
        "gnb_model = GaussianNB()\n",
        "\n",
        "# Parameters to tune\n",
        "parameters = {\n",
        "    'priors': [None, [0.1, 0.9], [0.3, 0.7], [0.5, 0.5], [0.7, 0.3], [0.9, 0.1]]\n",
        "}\n",
        "\n",
        "# Choose a scoring method\n",
        "scoring = {\n",
        "    'accuracy': make_scorer(accuracy_score),\n",
        "    'recall': make_scorer(recall_score, average='macro'),\n",
        "    'precision': make_scorer(precision_score, average='macro'),\n",
        "    'f1_score': make_scorer(f1_score, average='macro')\n",
        "}\n",
        "\n",
        "# Perform grid search cross-validation\n",
        "clf = GridSearchCV(gnb_model, parameters, scoring=scoring, refit='accuracy', cv=5)\n",
        "clf.fit(X_resampled, y_resampled)\n",
        "\n",
        "# Print the best parameters and results\n",
        "print(\"Best parameters found:\")\n",
        "print(clf.best_params_)\n",
        "print()\n",
        "\n",
        "print(\"Grid search results:\")\n",
        "means = clf.cv_results_['mean_test_accuracy']\n",
        "stds = clf.cv_results_['std_test_accuracy']\n",
        "for mean, std, params in zip(means, stds, clf.cv_results_['params']):\n",
        "    print(\"Accuracy: %0.3f (+/-%0.03f) for %r\"\n",
        "          % (mean, std * 2, params))\n",
        "    print(\"Recall:\", clf.cv_results_['mean_test_recall'][np.argmax(means)])\n",
        "    print(\"Precision:\", clf.cv_results_['mean_test_precision'][np.argmax(means)])\n",
        "    print(\"F1 Score:\", clf.cv_results_['mean_test_f1_score'][np.argmax(means)])\n"
      ],
      "metadata": {
        "colab": {
          "base_uri": "https://localhost:8080/"
        },
        "id": "HEh2MZkmRu32",
        "outputId": "3831a5e4-a907-4f4c-bb02-910ad67ff11b"
      },
      "execution_count": 45,
      "outputs": [
        {
          "output_type": "stream",
          "name": "stdout",
          "text": [
            "Best parameters found:\n",
            "{'priors': [0.9, 0.1]}\n",
            "\n",
            "Grid search results:\n",
            "Accuracy: 0.795 (+/-0.015) for {'priors': None}\n",
            "Recall: 0.7964813754265396\n",
            "Precision: 0.7994210886118663\n",
            "F1 Score: 0.7959813091457631\n",
            "Accuracy: 0.793 (+/-0.014) for {'priors': [0.1, 0.9]}\n",
            "Recall: 0.7964813754265396\n",
            "Precision: 0.7994210886118663\n",
            "F1 Score: 0.7959813091457631\n",
            "Accuracy: 0.793 (+/-0.014) for {'priors': [0.3, 0.7]}\n",
            "Recall: 0.7964813754265396\n",
            "Precision: 0.7994210886118663\n",
            "F1 Score: 0.7959813091457631\n",
            "Accuracy: 0.795 (+/-0.015) for {'priors': [0.5, 0.5]}\n",
            "Recall: 0.7964813754265396\n",
            "Precision: 0.7994210886118663\n",
            "F1 Score: 0.7959813091457631\n",
            "Accuracy: 0.796 (+/-0.013) for {'priors': [0.7, 0.3]}\n",
            "Recall: 0.7964813754265396\n",
            "Precision: 0.7994210886118663\n",
            "F1 Score: 0.7959813091457631\n",
            "Accuracy: 0.796 (+/-0.014) for {'priors': [0.9, 0.1]}\n",
            "Recall: 0.7964813754265396\n",
            "Precision: 0.7994210886118663\n",
            "F1 Score: 0.7959813091457631\n"
          ]
        }
      ]
    },
    {
      "cell_type": "markdown",
      "source": [
        "#Conclusion After hyperparameter tuning\n",
        "\n",
        "###Models with thier accuracies\n",
        "\n",
        "*   Random Forest Classifier - 0.83\n",
        "*   Support Vector Machine   - 0.85\n",
        "*   LogisticRegression Model - 0.87\n",
        "*   GaussianNB               - 0.79\n",
        "*   Gradient Bossting        - 0.82\n",
        "\n",
        "\n",
        "\n",
        "\n",
        "\n",
        "\n",
        "\n",
        "\n",
        "\n",
        "\n",
        "\n",
        "\n"
      ],
      "metadata": {
        "id": "eWi2URDn9oAB"
      }
    }
  ]
}