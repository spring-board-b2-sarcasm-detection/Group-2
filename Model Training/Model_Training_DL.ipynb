{
  "cells": [
    {
      "cell_type": "markdown",
      "source": [
        "\n",
        "#Sarcasm Detection on Airline Reviews - Data Preprocessing\n",
        "\n",
        "This notebook demonstrates the steps for preprocessing a dataset for sarcasm detection in Airline Reviews using deep learning. The preprocessing steps include loading the dataset, cleaning the data, and preparing the data for model training.\n",
        "\n",
        "#Dataset Overview\n",
        "We are using a dataset of Airline Reviews which contains the following columns:\n",
        "\n",
        "`Review`: The text of the YouTube comment.\n",
        "\n",
        "`sarcasm`: The target label indicating whether the comment is sarcastic (1) or not (0).\n",
        "\n",
        "\n",
        "Additional features related to airline information.\n",
        "\n",
        "Let's load the dataset and take a look at its structure."
      ],
      "metadata": {
        "id": "6dCd3Hyz2zMf"
      }
    },
    {
      "cell_type": "code",
      "execution_count": 1,
      "metadata": {
        "colab": {
          "base_uri": "https://localhost:8080/"
        },
        "id": "EwOl_XkVv7Yb",
        "outputId": "30266021-1284-4647-9f2c-d14f65f63c1a"
      },
      "outputs": [
        {
          "output_type": "stream",
          "name": "stdout",
          "text": [
            "Mounted at /content/drive\n",
            "sarcasm\n",
            "1    16548\n",
            "0     6623\n",
            "Name: count, dtype: int64\n",
            "28.58314272150533\n",
            "71.41685727849467\n"
          ]
        }
      ],
      "source": [
        "from google.colab import drive\n",
        "import pandas as pd\n",
        "\n",
        "# Mount Google Drive\n",
        "drive.mount('/content/drive')\n",
        "\n",
        "# Load the dataset\n",
        "dataset_path = '/content/drive/My Drive/Airline_Reviews_Labeled.csv'\n",
        "  # Update with your dataset path\n",
        "data = pd.read_csv(dataset_path)\n",
        "\n",
        "\n",
        "class_distribution = data['sarcasm'].value_counts()\n",
        "print(class_distribution)\n",
        "\n",
        "minority_class_percentage = (class_distribution.min() / len(data)) * 100\n",
        "print(minority_class_percentage)\n",
        "\n",
        "majority_class_percentage = (class_distribution.max() / len(data)) * 100\n",
        "print(majority_class_percentage)"
      ]
    },
    {
      "cell_type": "code",
      "source": [
        "import matplotlib.pyplot as plt\n",
        "# Plotting the class distribution\n",
        "plt.figure(figsize=(6, 6))\n",
        "class_distribution.plot(kind='bar')\n",
        "plt.title('Class Distribution of Sarcasm')\n",
        "plt.xlabel('Class')\n",
        "plt.ylabel('Number of Samples')\n",
        "plt.xticks(rotation=0)\n",
        "plt.show()"
      ],
      "metadata": {
        "colab": {
          "base_uri": "https://localhost:8080/",
          "height": 564
        },
        "id": "PgJnZbvI3O38",
        "outputId": "fa405196-8060-40c9-9b14-2829710f63ba"
      },
      "execution_count": 4,
      "outputs": [
        {
          "output_type": "display_data",
          "data": {
            "text/plain": [
              "<Figure size 600x600 with 1 Axes>"
            ],
            "image/png": "[encoded data removed]"
          },
          "metadata": {}
        }
      ]
    },
    {
      "cell_type": "code",
      "execution_count": null,
      "metadata": {
        "id": "Mq30NnoVDagB"
      },
      "outputs": [],
      "source": [
        "# List of columns to drop\n",
        "columns_to_drop = [\n",
        "    'Unnamed: 0','Airline Name','Overall_Rating','Review_Title','Review Date',\n",
        "    'Verified','Aircraft','Type Of Traveller','Route', 'Seat Type', 'Date Flown',\n",
        "    'Seat Comfort','Cabin Staff Service', 'Food & Beverages',\n",
        "    'Ground Service', 'Inflight Entertainment',\n",
        "    'Wifi & Connectivity', 'Value For Money','Recommended',\n",
        "]\n",
        "\n",
        "# Drop columns\n",
        "data = data.drop(columns=columns_to_drop, errors='ignore')\n"
      ]
    },
    {
      "cell_type": "markdown",
      "source": [
        "Taking Subset of the Dateset"
      ],
      "metadata": {
        "id": "wc2tBGIO3f7f"
      }
    },
    {
      "cell_type": "code",
      "source": [
        "# Randomly sample 8000 records\n",
        "sampled_data = data.sample(n=12000, random_state=42)"
      ],
      "metadata": {
        "id": "VmTLTEg_38lX"
      },
      "execution_count": null,
      "outputs": []
    },
    {
      "cell_type": "markdown",
      "source": [
        "Spliting into train and test data"
      ],
      "metadata": {
        "id": "rXsovL-j3kqE"
      }
    },
    {
      "cell_type": "code",
      "source": [
        "from sklearn.model_selection import train_test_split\n",
        "\n",
        "# Split the dataset\n",
        "X_train, X_test, y_train, y_test = train_test_split(sampled_data['Review'], sampled_data['sarcasm'], test_size=0.2, random_state=42)\n"
      ],
      "metadata": {
        "id": "UDnAKG1X3-3L"
      },
      "execution_count": null,
      "outputs": []
    },
    {
      "cell_type": "code",
      "source": [
        "# Convert to DataFrame for preprocessing\n",
        "train_data = pd.DataFrame({'text': X_train, 'label': y_train})"
      ],
      "metadata": {
        "id": "0OzqMKBd4Bkv"
      },
      "execution_count": null,
      "outputs": []
    },
    {
      "cell_type": "code",
      "source": [
        "# Convert to DataFrame for preprocessing\n",
        "test_data = pd.DataFrame({'text': X_test, 'label': y_test})"
      ],
      "metadata": {
        "id": "jlL5XJ354DXZ"
      },
      "execution_count": null,
      "outputs": []
    },
    {
      "cell_type": "markdown",
      "source": [
        "# Data Visualization"
      ],
      "metadata": {
        "id": "qGeM5zGy3wwy"
      }
    },
    {
      "cell_type": "code",
      "source": [
        "# Describe the dataset\n",
        "print(train_data.describe())"
      ],
      "metadata": {
        "colab": {
          "base_uri": "https://localhost:8080/"
        },
        "id": "XR4vJfkd4PNT",
        "outputId": "89f3a160-abce-43d0-f889-7f5472cfbeb2"
      },
      "execution_count": null,
      "outputs": [
        {
          "output_type": "stream",
          "name": "stdout",
          "text": [
            "             label\n",
            "count  9600.000000\n",
            "mean      0.716042\n",
            "std       0.450940\n",
            "min       0.000000\n",
            "25%       0.000000\n",
            "50%       1.000000\n",
            "75%       1.000000\n",
            "max       1.000000\n"
          ]
        }
      ]
    },
    {
      "cell_type": "code",
      "source": [
        "# Shape of the dataset\n",
        "print(train_data.shape)"
      ],
      "metadata": {
        "colab": {
          "base_uri": "https://localhost:8080/"
        },
        "id": "vYLtzhZy4SA4",
        "outputId": "a6564ed1-9739-4d9d-e713-c404d77b5634"
      },
      "execution_count": null,
      "outputs": [
        {
          "output_type": "stream",
          "name": "stdout",
          "text": [
            "(9600, 2)\n"
          ]
        }
      ]
    },
    {
      "cell_type": "code",
      "source": [
        "import matplotlib.pyplot as plt\n",
        "# Distribution of labels\n",
        "train_data['label'].value_counts().plot(kind='bar')\n",
        "plt.title('Distribution of Labels')\n",
        "plt.xlabel('Label')\n",
        "plt.ylabel('Count')\n",
        "plt.show()\n"
      ],
      "metadata": {
        "colab": {
          "base_uri": "https://localhost:8080/",
          "height": 467
        },
        "id": "pdlrObQI4UOq",
        "outputId": "8f10b552-81b0-40cf-cde2-a3353c4fe782"
      },
      "execution_count": null,
      "outputs": [
        {
          "output_type": "display_data",
          "data": {
            "text/plain": [
              "<Figure size 640x480 with 1 Axes>"
            ],
            "image/png": "[encoded data removed]"
          },
          "metadata": {}
        }
      ]
    },
    {
      "cell_type": "code",
      "source": [
        "import matplotlib.pyplot as plt\n",
        "\n",
        "# Length of reviews\n",
        "train_data['review_length'] = train_data['text'].apply(len)\n",
        "plt.hist(train_data['review_length'], bins=50)\n",
        "plt.title('Length of Reviews')\n",
        "plt.xlabel('Length')\n",
        "plt.ylabel('Frequency')\n",
        "plt.show()\n"
      ],
      "metadata": {
        "colab": {
          "base_uri": "https://localhost:8080/",
          "height": 472
        },
        "id": "xquSVjbI4ZPN",
        "outputId": "2cdd9397-1114-4d96-d359-c2de5715d68e"
      },
      "execution_count": null,
      "outputs": [
        {
          "output_type": "display_data",
          "data": {
            "text/plain": [
              "<Figure size 640x480 with 1 Axes>"
            ],
            "image/png": "[encoded data removed]"
          },
          "metadata": {}
        }
      ]
    },
    {
      "cell_type": "code",
      "source": [
        "# Check for missing values\n",
        "print(train_data.isnull().sum())\n"
      ],
      "metadata": {
        "colab": {
          "base_uri": "https://localhost:8080/"
        },
        "id": "V5LBPkLL4bhQ",
        "outputId": "f6285afb-79f5-427a-cdd7-794e062c5d69"
      },
      "execution_count": null,
      "outputs": [
        {
          "output_type": "stream",
          "name": "stdout",
          "text": [
            "text             0\n",
            "label            0\n",
            "review_length    0\n",
            "dtype: int64\n"
          ]
        }
      ]
    },
    {
      "cell_type": "code",
      "source": [
        "# Check for duplicates\n",
        "print(train_data.duplicated().sum())\n",
        "\n",
        "# Remove duplicates\n",
        "train_data = train_data.drop_duplicates()\n"
      ],
      "metadata": {
        "colab": {
          "base_uri": "https://localhost:8080/"
        },
        "id": "PjJTbpBv4dJL",
        "outputId": "c9bf8d1c-7354-4cec-e4ab-401735769eef"
      },
      "execution_count": null,
      "outputs": [
        {
          "output_type": "stream",
          "name": "stdout",
          "text": [
            "20\n"
          ]
        }
      ]
    },
    {
      "cell_type": "markdown",
      "source": [
        "# Data Cleaning"
      ],
      "metadata": {
        "id": "l0U6SFxK37y-"
      }
    },
    {
      "cell_type": "code",
      "source": [
        "import re\n",
        "from bs4 import BeautifulSoup\n",
        "import nltk\n",
        "nltk.download('stopwords')\n",
        "from nltk.corpus import stopwords\n",
        "\n",
        "# Text Cleaning\n",
        "def clean_text(text):\n",
        "    text = BeautifulSoup(text, \"html.parser\").get_text()  # Remove HTML tags\n",
        "    text = re.sub(r\"http\\S+|www\\S+|https\\S+\", '', text, flags=re.MULTILINE)  # Remove URLs\n",
        "    text = re.sub(r'\\@\\w+|\\#','', text)  # Remove mentions and hashtags\n",
        "    text = re.sub(r'[^A-Za-z0-9]+', ' ', text)  # Remove special characters\n",
        "    text = text.lower()  # Convert to lowercase\n",
        "    return text\n",
        "\n",
        "train_data['clean_text'] = train_data['text'].apply(clean_text)\n"
      ],
      "metadata": {
        "colab": {
          "base_uri": "https://localhost:8080/"
        },
        "id": "8nvAQlec4hWy",
        "outputId": "f80898df-2809-4339-f42e-2aa4d24d672a"
      },
      "execution_count": null,
      "outputs": [
        {
          "output_type": "stream",
          "name": "stderr",
          "text": [
            "[nltk_data] Downloading package stopwords to /root/nltk_data...\n",
            "[nltk_data]   Unzipping corpora/stopwords.zip.\n",
            "<ipython-input-20-b8df1234f44a>:9: MarkupResemblesLocatorWarning: The input looks more like a filename than markup. You may want to open this file and pass the filehandle into Beautiful Soup.\n",
            "  text = BeautifulSoup(text, \"html.parser\").get_text()  # Remove HTML tags\n"
          ]
        }
      ]
    },
    {
      "cell_type": "markdown",
      "source": [
        "#Data Preprocessing"
      ],
      "metadata": {
        "id": "3yrz_QOF33am"
      }
    },
    {
      "cell_type": "code",
      "source": [
        "from transformers import BertTokenizer\n",
        "\n",
        "# Load the BERT tokenizer\n",
        "tokenizer = BertTokenizer.from_pretrained('bert-base-uncased')\n",
        "\n",
        "# Tokenize the text\n",
        "train_data['tokenized_text'] = train_data['clean_text'].apply(lambda x: tokenizer.encode(x, add_special_tokens=True))\n"
      ],
      "metadata": {
        "colab": {
          "base_uri": "https://localhost:8080/",
          "height": 321,
          "referenced_widgets": [
            "820a50fd6b3c4920a37b7b4285a51dec",
            "c93ab7e3255141d68e14d79803e7f79a",
            "6e0c5a7fe98643a78add626f2734cacc",
            "78dfc230ba3d47e0a6c876f3952f53b8",
            "30900dde60d745bbbc7a2083eaa9b3a9",
            "d2f3095547574ed0b24b1d39194e3ecb",
            "87f96c834acc41c9903f7a971a7275b3",
            "dce35842d4054ead83ccf80598313326",
            "1b7ba9c34dfa47dc89d28ca133752c4a",
            "946fd701891840b795774912bf290a3e",
            "aeee40fb64d94fc2af4099ad6b8c50b0",
            "27924a8195514204a64dd098104ef0db",
            "d071028230b94974b39fe95434f6a8f4",
            "e4a01d2f195b44cf8633f79c8d28f8ab",
            "9dbd99e22be04fd89bc2b0e47a967998",
            "3eca9e81a24044b89787387496c6913e",
            "acf73bf3c2734e4f924f7cba0bbaf8a7",
            "5028ef2a5312452eade863cd828ce339",
            "c6c636640bf846899dd83498cefd4e28",
            "62d8f9659fc74f2eaf0526a66513fb66",
            "b044318f0ac54e2395f2df76edbde4a2",
            "da0af89c903d4eaba8623f66b0704479",
            "fec679fdd4d54c62b6e39a8a821ac682",
            "e82d3a075d5444e38ff9d73c3d7f95f3",
            "ea5bc5766fc14fa49369c1a335035466",
            "b0c063932ed54d50a5b8a2252ed774bc",
            "f2000b0f0f224fc1b75767da5a8f8d47",
            "e228651e72f541feb1248ded82bcc5bd",
            "2bcc1aac9f234ed69cf0b4648d5a6fbc",
            "267f041043584dcd9e2044ae59271971",
            "9908d80df7764a8b84f497c11dee797f",
            "bdac1c15e00e46f9a2d8ff2362aaa4fb",
            "88ec8a57d092403db4b719b8e29625ad",
            "7fb1d876ae854bdfaa01b35d5fb60b72",
            "138fd5d1abaf404a9b48b2f591472d4d",
            "296ae7cc542d46df80b85647e5d491c5",
            "352c22aae51749ff9c7f6d314ac6e215",
            "713672addb4a47c0b223125f2d9820ee",
            "82c56e475932463cb2006ea05fe5a480",
            "eb1686064c824886bdff289cfbbcb0ec",
            "5d45aeadbce04e959bd292b34bc53052",
            "358e67da9fa64117832cfef2e24cc7d7",
            "b24a10c0627a4d4fb4c25329760c59dd",
            "60f0a952a00344fdb3d93bc3ccc05885"
          ]
        },
        "id": "TiK_9PI-4ybZ",
        "outputId": "91e2e9ad-07d7-47f3-ece0-96bf3929da3f"
      },
      "execution_count": null,
      "outputs": [
        {
          "output_type": "stream",
          "name": "stderr",
          "text": [
            "/usr/local/lib/python3.10/dist-packages/huggingface_hub/utils/_token.py:89: UserWarning: \n",
            "The secret `HF_TOKEN` does not exist in your Colab secrets.\n",
            "To authenticate with the Hugging Face Hub, create a token in your settings tab (https://huggingface.co/settings/tokens), set it as secret in your Google Colab and restart your session.\n",
            "You will be able to reuse this secret in all of your notebooks.\n",
            "Please note that authentication is recommended but still optional to access public models or datasets.\n",
            "  warnings.warn(\n"
          ]
        },
        {
          "output_type": "display_data",
          "data": {
            "text/plain": [
              "tokenizer_config.json:   0%|          | 0.00/48.0 [00:00<?, ?B/s]"
            ],
            "application/vnd.jupyter.widget-view+json": {
              "version_major": 2,
              "version_minor": 0,
              "model_id": "820a50fd6b3c4920a37b7b4285a51dec"
            }
          },
          "metadata": {}
        },
        {
          "output_type": "display_data",
          "data": {
            "text/plain": [
              "vocab.txt:   0%|          | 0.00/232k [00:00<?, ?B/s]"
            ],
            "application/vnd.jupyter.widget-view+json": {
              "version_major": 2,
              "version_minor": 0,
              "model_id": "27924a8195514204a64dd098104ef0db"
            }
          },
          "metadata": {}
        },
        {
          "output_type": "display_data",
          "data": {
            "text/plain": [
              "tokenizer.json:   0%|          | 0.00/466k [00:00<?, ?B/s]"
            ],
            "application/vnd.jupyter.widget-view+json": {
              "version_major": 2,
              "version_minor": 0,
              "model_id": "fec679fdd4d54c62b6e39a8a821ac682"
            }
          },
          "metadata": {}
        },
        {
          "output_type": "stream",
          "name": "stderr",
          "text": [
            "/usr/local/lib/python3.10/dist-packages/huggingface_hub/file_download.py:1132: FutureWarning: `resume_download` is deprecated and will be removed in version 1.0.0. Downloads always resume when possible. If you want to force a new download, use `force_download=True`.\n",
            "  warnings.warn(\n"
          ]
        },
        {
          "output_type": "display_data",
          "data": {
            "text/plain": [
              "config.json:   0%|          | 0.00/570 [00:00<?, ?B/s]"
            ],
            "application/vnd.jupyter.widget-view+json": {
              "version_major": 2,
              "version_minor": 0,
              "model_id": "7fb1d876ae854bdfaa01b35d5fb60b72"
            }
          },
          "metadata": {}
        },
        {
          "output_type": "stream",
          "name": "stderr",
          "text": [
            "Token indices sequence length is longer than the specified maximum sequence length for this model (598 > 512). Running this sequence through the model will result in indexing errors\n"
          ]
        }
      ]
    },
    {
      "cell_type": "code",
      "source": [
        "stop_words = set(stopwords.words('english'))\n",
        "# Remove stop words\n",
        "train_data['clean_text'] = train_data['clean_text'].apply(lambda x: ' '.join([word for word in x.split() if word not in stop_words]))"
      ],
      "metadata": {
        "id": "G3zBsOOa4zt3"
      },
      "execution_count": null,
      "outputs": []
    },
    {
      "cell_type": "code",
      "source": [
        "from sklearn.preprocessing import LabelEncoder\n",
        "\n",
        "# Encode the labels\n",
        "label_encoder = LabelEncoder()\n",
        "train_data['encoded_label'] = label_encoder.fit_transform(train_data['label'])\n"
      ],
      "metadata": {
        "id": "c4gX9LYA41bp"
      },
      "execution_count": null,
      "outputs": []
    },
    {
      "cell_type": "markdown",
      "source": [
        "##Text Vecotorization"
      ],
      "metadata": {
        "id": "mwXfywzz4AeX"
      }
    },
    {
      "cell_type": "code",
      "source": [
        "from gensim.models import Word2Vec\n",
        "import numpy as np\n",
        "# Prepare data for Word2Vec\n",
        "sentences = [text.split() for text in train_data['clean_text']]\n",
        "\n",
        "# Train Word2Vec model\n",
        "word2vec_model = Word2Vec(sentences, vector_size=100, window=5, min_count=1, workers=4)\n",
        "\n",
        "# Get Word2Vec vectors for the training data\n",
        "train_data['word2vec'] = train_data['clean_text'].apply(lambda x: np.mean([word2vec_model.wv[word] for word in x.split() if word in word2vec_model.wv], axis=0))\n"
      ],
      "metadata": {
        "id": "3sDNgxLu434f"
      },
      "execution_count": null,
      "outputs": []
    },
    {
      "cell_type": "markdown",
      "source": [
        "## Handling Imbalanced Data"
      ],
      "metadata": {
        "id": "OvU9wwU-4FLI"
      }
    },
    {
      "cell_type": "code",
      "source": [
        "from imblearn.over_sampling import SMOTE\n",
        "\n",
        "# Balance the dataset using SMOTE\n",
        "smote = SMOTE(random_state=42)\n",
        "X_resampled, y_resampled = smote.fit_resample(train_data['word2vec'].tolist(), train_data['encoded_label'])\n"
      ],
      "metadata": {
        "id": "8VaJpUZY45dq"
      },
      "execution_count": null,
      "outputs": []
    },
    {
      "cell_type": "markdown",
      "source": [
        "#Training and Testing Deep Learning Models\n",
        "\n",
        "##1. Simple Neural Network"
      ],
      "metadata": {
        "id": "L3P6Gykh4JWE"
      }
    },
    {
      "cell_type": "code",
      "source": [
        "# Importing necessary libraries for building the model\n",
        "import tensorflow as tf\n",
        "from tensorflow.keras.models import Sequential\n",
        "from tensorflow.keras.layers import Dense, Dropout\n",
        "from tensorflow.keras.utils import to_categorical\n",
        "\n",
        "# Convert lists to numpy arrays\n",
        "X_resampled = np.array(X_resampled)\n",
        "y_resampled = np.array(y_resampled)\n",
        "\n",
        "# Convert labels to categorical one-hot encoding\n",
        "num_classes = len(np.unique(y_resampled))\n",
        "y_resampled_categorical = to_categorical(y_resampled, num_classes)\n",
        "\n",
        "# Define the model architecture\n",
        "model = Sequential()\n",
        "model.add(Dense(128, activation='relu', input_shape=(X_resampled.shape[1],)))\n",
        "model.add(Dropout(0.5))\n",
        "model.add(Dense(64, activation='relu'))\n",
        "model.add(Dropout(0.5))\n",
        "model.add(Dense(num_classes, activation='softmax'))\n",
        "\n",
        "# Compile the model\n",
        "model.compile(optimizer='adam', loss='categorical_crossentropy', metrics=['accuracy'])\n",
        "\n",
        "# Train the model\n",
        "history = model.fit(X_resampled, y_resampled_categorical, epochs=10, batch_size=32, validation_split=0.2)\n",
        "\n",
        "# Save the model\n",
        "model.save('text_classification_model.h5')\n",
        "\n",
        "# Evaluate the model\n",
        "loss, accuracy = model.evaluate(X_resampled, y_resampled_categorical)\n",
        "print(f'Model accuracy: {accuracy:.2f}')\n"
      ],
      "metadata": {
        "colab": {
          "base_uri": "https://localhost:8080/"
        },
        "id": "C6BXBS_p47CA",
        "outputId": "f43fce12-c16c-4fae-b1dd-dda4cf1f6c6e"
      },
      "execution_count": null,
      "outputs": [
        {
          "output_type": "stream",
          "name": "stdout",
          "text": [
            "Epoch 1/10\n",
            "344/344 [==============================] - 3s 4ms/step - loss: 0.4153 - accuracy: 0.8085 - val_loss: 0.4250 - val_accuracy: 0.8572\n",
            "Epoch 2/10\n",
            "344/344 [==============================] - 1s 3ms/step - loss: 0.3697 - accuracy: 0.8435 - val_loss: 0.3870 - val_accuracy: 0.8685\n",
            "Epoch 3/10\n",
            "344/344 [==============================] - 1s 3ms/step - loss: 0.3546 - accuracy: 0.8514 - val_loss: 0.4570 - val_accuracy: 0.8215\n",
            "Epoch 4/10\n",
            "344/344 [==============================] - 2s 5ms/step - loss: 0.3495 - accuracy: 0.8516 - val_loss: 0.3667 - val_accuracy: 0.8780\n",
            "Epoch 5/10\n",
            "344/344 [==============================] - 2s 6ms/step - loss: 0.3502 - accuracy: 0.8534 - val_loss: 0.4144 - val_accuracy: 0.8510\n",
            "Epoch 6/10\n",
            "344/344 [==============================] - 2s 6ms/step - loss: 0.3447 - accuracy: 0.8556 - val_loss: 0.3014 - val_accuracy: 0.9184\n",
            "Epoch 7/10\n",
            "344/344 [==============================] - 1s 4ms/step - loss: 0.3415 - accuracy: 0.8540 - val_loss: 0.4597 - val_accuracy: 0.8113\n",
            "Epoch 8/10\n",
            "344/344 [==============================] - 1s 4ms/step - loss: 0.3443 - accuracy: 0.8571 - val_loss: 0.4018 - val_accuracy: 0.8670\n",
            "Epoch 9/10\n",
            "344/344 [==============================] - 1s 3ms/step - loss: 0.3435 - accuracy: 0.8561 - val_loss: 0.3758 - val_accuracy: 0.8842\n",
            "Epoch 10/10\n",
            "344/344 [==============================] - 1s 3ms/step - loss: 0.3375 - accuracy: 0.8611 - val_loss: 0.3158 - val_accuracy: 0.8758\n",
            " 25/429 [>.............................] - ETA: 0s - loss: 0.3229 - accuracy: 0.8712 "
          ]
        },
        {
          "output_type": "stream",
          "name": "stderr",
          "text": [
            "/usr/local/lib/python3.10/dist-packages/keras/src/engine/training.py:3103: UserWarning: You are saving your model as an HDF5 file via `model.save()`. This file format is considered legacy. We recommend using instead the native Keras format, e.g. `model.save('my_model.keras')`.\n",
            "  saving_api.save_model(\n"
          ]
        },
        {
          "output_type": "stream",
          "name": "stdout",
          "text": [
            "429/429 [==============================] - 1s 2ms/step - loss: 0.3235 - accuracy: 0.8646\n",
            "Model accuracy: 0.86\n"
          ]
        }
      ]
    },
    {
      "cell_type": "code",
      "source": [
        "# Preprocess the testing data\n",
        "X_test_clean = X_test.apply(clean_text)\n",
        "X_test_tokenized = X_test_clean.apply(lambda x: ' '.join([word for word in x.split() if word not in stop_words]))\n",
        "X_test_vectors = X_test_tokenized.apply(lambda x: np.mean([word2vec_model.wv[word] for word in x.split() if word in word2vec_model.wv], axis=0))\n",
        "\n",
        "# Ensure all vectors are the same length\n",
        "X_test_vectors = np.array(X_test_vectors.tolist())\n",
        "\n",
        "# Convert labels to categorical one-hot encoding if necessary\n",
        "y_test_categorical = to_categorical(y_test, num_classes)\n",
        "\n",
        "# Evaluate the model on the testing data\n",
        "loss, accuracy = model.evaluate(X_test_vectors, y_test_categorical)\n",
        "print(f'Test Accuracy: {accuracy:.2f}')\n"
      ],
      "metadata": {
        "colab": {
          "base_uri": "https://localhost:8080/"
        },
        "id": "R83f0F3l49lU",
        "outputId": "f2e569b5-c39e-4808-fc7f-751816575ece"
      },
      "execution_count": null,
      "outputs": [
        {
          "output_type": "stream",
          "name": "stderr",
          "text": [
            "<ipython-input-20-b8df1234f44a>:9: MarkupResemblesLocatorWarning: The input looks more like a filename than markup. You may want to open this file and pass the filehandle into Beautiful Soup.\n",
            "  text = BeautifulSoup(text, \"html.parser\").get_text()  # Remove HTML tags\n"
          ]
        },
        {
          "output_type": "stream",
          "name": "stdout",
          "text": [
            "75/75 [==============================] - 0s 3ms/step - loss: 0.3124 - accuracy: 0.8629\n",
            "Test Accuracy: 0.86\n"
          ]
        }
      ]
    },
    {
      "cell_type": "markdown",
      "source": [
        "##2. LSTM"
      ],
      "metadata": {
        "id": "wuxYuaTh4crt"
      }
    },
    {
      "cell_type": "code",
      "source": [
        "from tensorflow.keras.layers import LSTM\n",
        "\n",
        "# Define the LSTM model architecture\n",
        "lstm_model = Sequential()\n",
        "lstm_model.add(LSTM(128, input_shape=(X_resampled.shape[1], 1)))\n",
        "lstm_model.add(Dropout(0.5))\n",
        "lstm_model.add(Dense(64, activation='relu'))\n",
        "lstm_model.add(Dropout(0.5))\n",
        "lstm_model.add(Dense(num_classes, activation='softmax'))\n",
        "\n",
        "# Compile the model\n",
        "lstm_model.compile(optimizer='adam', loss='categorical_crossentropy', metrics=['accuracy'])\n",
        "\n",
        "# Reshape data for LSTM\n",
        "X_resampled_lstm = X_resampled.reshape(X_resampled.shape[0], X_resampled.shape[1], 1)\n",
        "\n",
        "# Train the model\n",
        "lstm_history = lstm_model.fit(X_resampled_lstm, y_resampled_categorical, epochs=10, batch_size=32, validation_split=0.2)\n",
        "\n",
        "# Save the model\n",
        "lstm_model.save('lstm_text_classification_model.h5')\n",
        "\n",
        "# Evaluate the model\n",
        "lstm_loss, lstm_accuracy = lstm_model.evaluate(X_resampled_lstm, y_resampled_categorical)\n",
        "print(f'LSTM Model accuracy: {lstm_accuracy:.2f}')\n"
      ],
      "metadata": {
        "colab": {
          "base_uri": "https://localhost:8080/"
        },
        "id": "NCfZv7g55QiZ",
        "outputId": "43b9f4e4-6800-45bb-8d53-70dbe687a8de"
      },
      "execution_count": null,
      "outputs": [
        {
          "output_type": "stream",
          "name": "stdout",
          "text": [
            "Epoch 1/10\n",
            "344/344 [==============================] - 82s 232ms/step - loss: 0.5156 - accuracy: 0.7393 - val_loss: 0.4281 - val_accuracy: 0.8692\n",
            "Epoch 2/10\n",
            "344/344 [==============================] - 92s 269ms/step - loss: 0.4018 - accuracy: 0.8222 - val_loss: 0.5935 - val_accuracy: 0.7643\n",
            "Epoch 3/10\n",
            "344/344 [==============================] - 90s 262ms/step - loss: 0.3940 - accuracy: 0.8210 - val_loss: 0.6013 - val_accuracy: 0.7403\n",
            "Epoch 4/10\n",
            "344/344 [==============================] - 70s 204ms/step - loss: 0.3807 - accuracy: 0.8344 - val_loss: 0.3701 - val_accuracy: 0.8692\n",
            "Epoch 5/10\n",
            "344/344 [==============================] - 50s 147ms/step - loss: 0.3808 - accuracy: 0.8342 - val_loss: 0.5735 - val_accuracy: 0.7497\n",
            "Epoch 6/10\n",
            "344/344 [==============================] - 54s 156ms/step - loss: 0.3696 - accuracy: 0.8393 - val_loss: 0.5468 - val_accuracy: 0.7811\n",
            "Epoch 7/10\n",
            "344/344 [==============================] - 54s 156ms/step - loss: 0.3685 - accuracy: 0.8387 - val_loss: 0.5873 - val_accuracy: 0.7840\n",
            "Epoch 8/10\n",
            "344/344 [==============================] - 51s 147ms/step - loss: 0.3699 - accuracy: 0.8418 - val_loss: 0.3492 - val_accuracy: 0.8925\n",
            "Epoch 9/10\n",
            "344/344 [==============================] - 51s 150ms/step - loss: 0.3675 - accuracy: 0.8453 - val_loss: 0.5998 - val_accuracy: 0.7563\n",
            "Epoch 10/10\n",
            "344/344 [==============================] - 55s 160ms/step - loss: 0.3655 - accuracy: 0.8434 - val_loss: 0.7338 - val_accuracy: 0.6787\n",
            "  1/429 [..............................] - ETA: 25s - loss: 0.4336 - accuracy: 0.8750"
          ]
        },
        {
          "output_type": "stream",
          "name": "stderr",
          "text": [
            "/usr/local/lib/python3.10/dist-packages/keras/src/engine/training.py:3103: UserWarning: You are saving your model as an HDF5 file via `model.save()`. This file format is considered legacy. We recommend using instead the native Keras format, e.g. `model.save('my_model.keras')`.\n",
            "  saving_api.save_model(\n"
          ]
        },
        {
          "output_type": "stream",
          "name": "stdout",
          "text": [
            "429/429 [==============================] - 22s 51ms/step - loss: 0.4614 - accuracy: 0.8006\n",
            "LSTM Model accuracy: 0.80\n"
          ]
        }
      ]
    },
    {
      "cell_type": "code",
      "source": [
        "# Assuming X_test_vectors is a sequence data like [num_samples, num_timesteps, num_features]\n",
        "# Reshape if necessary\n",
        "X_test_vectors = np.reshape(X_test_vectors, (X_test_vectors.shape[0], X_test_vectors.shape[1], 1))\n",
        "\n",
        "# Evaluate the LSTM model on the testing data\n",
        "loss, accuracy = lstm_model.evaluate(X_test_vectors, y_test_categorical)\n",
        "print(f'LSTM Model Accuracy: {accuracy:.2f}')\n"
      ],
      "metadata": {
        "colab": {
          "base_uri": "https://localhost:8080/"
        },
        "id": "GAhdpyBb52IX",
        "outputId": "0c1ae26c-a606-4dfc-f6a3-80ff5bb8a732"
      },
      "execution_count": null,
      "outputs": [
        {
          "output_type": "stream",
          "name": "stdout",
          "text": [
            "75/75 [==============================] - 10s 135ms/step - loss: 0.3269 - accuracy: 0.8600\n",
            "LSTM Model Accuracy: 0.86\n"
          ]
        }
      ]
    },
    {
      "cell_type": "markdown",
      "source": [
        "##3. BiLSTM"
      ],
      "metadata": {
        "id": "_GvQMLAh4gDU"
      }
    },
    {
      "cell_type": "code",
      "source": [
        "from tensorflow.keras.layers import Bidirectional\n",
        "\n",
        "# Define the Bidirectional LSTM model architecture\n",
        "bilstm_model = Sequential()\n",
        "bilstm_model.add(Bidirectional(LSTM(128), input_shape=(X_resampled.shape[1], 1)))\n",
        "bilstm_model.add(Dropout(0.5))\n",
        "bilstm_model.add(Dense(64, activation='relu'))\n",
        "bilstm_model.add(Dropout(0.5))\n",
        "bilstm_model.add(Dense(num_classes, activation='softmax'))\n",
        "\n",
        "# Compile the model\n",
        "bilstm_model.compile(optimizer='adam', loss='categorical_crossentropy', metrics=['accuracy'])\n",
        "\n",
        "# Reshape data for Bidirectional LSTM\n",
        "X_resampled_bilstm = X_resampled.reshape(X_resampled.shape[0], X_resampled.shape[1], 1)\n",
        "\n",
        "# Train the model\n",
        "bilstm_history = bilstm_model.fit(X_resampled_bilstm, y_resampled_categorical, epochs=10, batch_size=32, validation_split=0.2)\n",
        "\n",
        "# Save the model\n",
        "bilstm_model.save('bilstm_text_classification_model.h5')\n",
        "\n",
        "# Evaluate the model\n",
        "bilstm_loss, bilstm_accuracy = bilstm_model.evaluate(X_resampled_bilstm, y_resampled_categorical)\n",
        "print(f'Bidirectional LSTM Model accuracy: {bilstm_accuracy:.2f}')\n"
      ],
      "metadata": {
        "colab": {
          "base_uri": "https://localhost:8080/"
        },
        "id": "RbEpjd0t6Bhf",
        "outputId": "15321b6c-b58c-4ab7-aa12-3d35c5453e0a"
      },
      "execution_count": null,
      "outputs": [
        {
          "output_type": "stream",
          "name": "stdout",
          "text": [
            "Epoch 1/10\n",
            "344/344 [==============================] - 100s 270ms/step - loss: 0.4756 - accuracy: 0.7785 - val_loss: 0.4172 - val_accuracy: 0.8791\n",
            "Epoch 2/10\n",
            "344/344 [==============================] - 89s 259ms/step - loss: 0.4111 - accuracy: 0.8121 - val_loss: 0.5707 - val_accuracy: 0.7709\n",
            "Epoch 3/10\n",
            "344/344 [==============================] - 89s 260ms/step - loss: 0.3916 - accuracy: 0.8224 - val_loss: 0.5708 - val_accuracy: 0.7588\n",
            "Epoch 4/10\n",
            "344/344 [==============================] - 90s 262ms/step - loss: 0.3878 - accuracy: 0.8287 - val_loss: 0.4091 - val_accuracy: 0.8583\n",
            "Epoch 5/10\n",
            "344/344 [==============================] - 88s 256ms/step - loss: 0.3782 - accuracy: 0.8334 - val_loss: 0.6115 - val_accuracy: 0.7454\n",
            "Epoch 6/10\n",
            "344/344 [==============================] - 92s 268ms/step - loss: 0.3724 - accuracy: 0.8381 - val_loss: 0.5216 - val_accuracy: 0.8022\n",
            "Epoch 7/10\n",
            "344/344 [==============================] - 93s 270ms/step - loss: 0.3647 - accuracy: 0.8415 - val_loss: 0.3976 - val_accuracy: 0.8667\n",
            "Epoch 8/10\n",
            "344/344 [==============================] - 92s 266ms/step - loss: 0.3602 - accuracy: 0.8436 - val_loss: 0.3376 - val_accuracy: 0.9020\n",
            "Epoch 9/10\n",
            "344/344 [==============================] - 91s 265ms/step - loss: 0.3607 - accuracy: 0.8442 - val_loss: 0.3674 - val_accuracy: 0.8995\n",
            "Epoch 10/10\n",
            "344/344 [==============================] - 92s 268ms/step - loss: 0.3638 - accuracy: 0.8431 - val_loss: 0.4901 - val_accuracy: 0.8153\n"
          ]
        },
        {
          "output_type": "stream",
          "name": "stderr",
          "text": [
            "/usr/local/lib/python3.10/dist-packages/keras/src/engine/training.py:3103: UserWarning: You are saving your model as an HDF5 file via `model.save()`. This file format is considered legacy. We recommend using instead the native Keras format, e.g. `model.save('my_model.keras')`.\n",
            "  saving_api.save_model(\n"
          ]
        },
        {
          "output_type": "stream",
          "name": "stdout",
          "text": [
            "429/429 [==============================] - 37s 87ms/step - loss: 0.3797 - accuracy: 0.8405\n",
            "Bidirectional LSTM Model accuracy: 0.84\n"
          ]
        }
      ]
    },
    {
      "cell_type": "code",
      "source": [
        "# Assuming X_test_vectors is a sequence data like [num_samples, num_timesteps, num_features]\n",
        "# Reshape if necessary\n",
        "X_test_vectors = np.reshape(X_test_vectors, (X_test_vectors.shape[0], X_test_vectors.shape[1], 1))\n",
        "\n",
        "# Evaluate the BiLSTM model on the testing data\n",
        "loss, accuracy = bilstm_model.evaluate(X_test_vectors, y_test_categorical)\n",
        "print(f'BiLSTM Model Accuracy: {accuracy:.2f}')\n",
        "\n"
      ],
      "metadata": {
        "colab": {
          "base_uri": "https://localhost:8080/"
        },
        "id": "UjMJj2qK6Cpt",
        "outputId": "91fda43c-166d-43e2-8289-58ff9eaf7fc0"
      },
      "execution_count": null,
      "outputs": [
        {
          "output_type": "stream",
          "name": "stdout",
          "text": [
            "75/75 [==============================] - 12s 155ms/step - loss: 0.3139 - accuracy: 0.8504\n",
            "BiLSTM Model Accuracy: 0.85\n"
          ]
        }
      ]
    },
    {
      "cell_type": "markdown",
      "source": [
        "## 4. CNN"
      ],
      "metadata": {
        "id": "g8cOWWfZ4jbj"
      }
    },
    {
      "cell_type": "code",
      "source": [
        "from keras.layers import Conv1D, MaxPooling1D, Flatten\n",
        "\n",
        "# Define the CNN model architecture\n",
        "cnn_model = Sequential()\n",
        "cnn_model.add(Conv1D(filters=32, kernel_size=5, activation='relu', input_shape=(X_resampled.shape[1], 1)))\n",
        "cnn_model.add(MaxPooling1D())\n",
        "cnn_model.add(Flatten())\n",
        "cnn_model.add(Dense(64, activation='relu'))\n",
        "cnn_model.add(Dense(num_classes, activation='softmax'))\n",
        "\n",
        "# Compile the model\n",
        "cnn_model.compile(optimizer='adam', loss='categorical_crossentropy', metrics=['accuracy'])\n",
        "\n",
        "# Reshape data for CNN\n",
        "X_resampled_cnn = X_resampled.reshape(X_resampled.shape[0], X_resampled.shape[1], 1)\n",
        "\n",
        "# Train the model\n",
        "cnn_history = cnn_model.fit(X_resampled_cnn, y_resampled_categorical, epochs=10, batch_size=32, validation_split=0.2)\n",
        "\n",
        "# Save the model\n",
        "cnn_model.save('cnn_text_classification_model.h5')\n",
        "\n",
        "# Evaluate the model\n",
        "cnn_loss, cnn_accuracy = cnn_model.evaluate(X_resampled_cnn, y_resampled_categorical)\n",
        "print(f'CNN Model accuracy: {cnn_accuracy:.2f}')\n"
      ],
      "metadata": {
        "colab": {
          "base_uri": "https://localhost:8080/"
        },
        "id": "poR9whjp6PwU",
        "outputId": "5798b6e0-2ed0-429a-8665-fa85e12c51e7"
      },
      "execution_count": null,
      "outputs": [
        {
          "output_type": "stream",
          "name": "stdout",
          "text": [
            "Epoch 1/10\n",
            "344/344 [==============================] - 5s 13ms/step - loss: 0.3670 - accuracy: 0.8367 - val_loss: 0.5879 - val_accuracy: 0.7461\n",
            "Epoch 2/10\n",
            "344/344 [==============================] - 3s 8ms/step - loss: 0.3361 - accuracy: 0.8553 - val_loss: 0.6654 - val_accuracy: 0.6969\n",
            "Epoch 3/10\n",
            "344/344 [==============================] - 3s 8ms/step - loss: 0.3293 - accuracy: 0.8558 - val_loss: 0.3054 - val_accuracy: 0.9075\n",
            "Epoch 4/10\n",
            "344/344 [==============================] - 2s 7ms/step - loss: 0.3274 - accuracy: 0.8601 - val_loss: 0.2798 - val_accuracy: 0.9188\n",
            "Epoch 5/10\n",
            "344/344 [==============================] - 2s 7ms/step - loss: 0.3230 - accuracy: 0.8632 - val_loss: 0.3486 - val_accuracy: 0.8765\n",
            "Epoch 6/10\n",
            "344/344 [==============================] - 4s 11ms/step - loss: 0.3196 - accuracy: 0.8643 - val_loss: 0.3452 - val_accuracy: 0.8736\n",
            "Epoch 7/10\n",
            "344/344 [==============================] - 3s 10ms/step - loss: 0.3227 - accuracy: 0.8607 - val_loss: 0.3952 - val_accuracy: 0.8488\n",
            "Epoch 8/10\n",
            "344/344 [==============================] - 3s 7ms/step - loss: 0.3162 - accuracy: 0.8657 - val_loss: 0.5256 - val_accuracy: 0.7829\n",
            "Epoch 9/10\n",
            "344/344 [==============================] - 3s 7ms/step - loss: 0.3179 - accuracy: 0.8633 - val_loss: 0.3005 - val_accuracy: 0.9056\n",
            "Epoch 10/10\n",
            "344/344 [==============================] - 3s 7ms/step - loss: 0.3124 - accuracy: 0.8683 - val_loss: 0.3565 - val_accuracy: 0.8747\n",
            "  1/429 [..............................] - ETA: 12s - loss: 0.4769 - accuracy: 0.8125"
          ]
        },
        {
          "output_type": "stream",
          "name": "stderr",
          "text": [
            "/usr/local/lib/python3.10/dist-packages/keras/src/engine/training.py:3103: UserWarning: You are saving your model as an HDF5 file via `model.save()`. This file format is considered legacy. We recommend using instead the native Keras format, e.g. `model.save('my_model.keras')`.\n",
            "  saving_api.save_model(\n"
          ]
        },
        {
          "output_type": "stream",
          "name": "stdout",
          "text": [
            "429/429 [==============================] - 1s 3ms/step - loss: 0.3145 - accuracy: 0.8723\n",
            "CNN Model accuracy: 0.87\n"
          ]
        }
      ]
    },
    {
      "cell_type": "code",
      "source": [
        "# Assuming X_test_vectors is a sequence data like [num_samples, num_timesteps, num_features]\n",
        "# Reshape if necessary\n",
        "X_test_vectors = np.reshape(X_test_vectors, (X_test_vectors.shape[0], X_test_vectors.shape[1], 1))\n",
        "\n",
        "# Evaluate the model on the testing data\n",
        "loss, accuracy = cnn_model.evaluate(X_test_vectors, y_test_categorical)\n",
        "print(f'Test Accuracy: {accuracy:.2f}')\n"
      ],
      "metadata": {
        "colab": {
          "base_uri": "https://localhost:8080/"
        },
        "id": "YaSsHUbn6S9y",
        "outputId": "9be86dc8-cfd2-4c6d-a362-01ac4e51674a"
      },
      "execution_count": null,
      "outputs": [
        {
          "output_type": "stream",
          "name": "stdout",
          "text": [
            "75/75 [==============================] - 0s 5ms/step - loss: 0.2939 - accuracy: 0.8717\n",
            "Test Accuracy: 0.87\n"
          ]
        }
      ]
    },
    {
      "cell_type": "markdown",
      "source": [
        "##5. RNN"
      ],
      "metadata": {
        "id": "qKdiG5p74mGX"
      }
    },
    {
      "cell_type": "code",
      "source": [
        "from keras.layers import SimpleRNN\n",
        "\n",
        "# Define the RNN model architecture\n",
        "rnn_model = Sequential()\n",
        "rnn_model.add(SimpleRNN(128, input_shape=(X_resampled.shape[1], 1)))\n",
        "rnn_model.add(Dropout(0.5))\n",
        "rnn_model.add(Dense(64, activation='relu'))\n",
        "rnn_model.add(Dropout(0.5))\n",
        "rnn_model.add(Dense(num_classes, activation='softmax'))\n",
        "\n",
        "# Compile the model\n",
        "rnn_model.compile(optimizer='adam', loss='categorical_crossentropy', metrics=['accuracy'])\n",
        "\n",
        "# Reshape data for RNN\n",
        "X_resampled_rnn = X_resampled.reshape(X_resampled.shape[0], X_resampled.shape[1], 1)\n",
        "\n",
        "# Train the model\n",
        "rnn_history = rnn_model.fit(X_resampled_rnn, y_resampled_categorical, epochs=10, batch_size=32, validation_split=0.2)\n",
        "\n",
        "# Save the model\n",
        "rnn_model.save('rnn_text_classification_model.h5')\n",
        "\n",
        "# Evaluate the model\n",
        "rnn_loss, rnn_accuracy = rnn_model.evaluate(X_resampled_rnn, y_resampled_categorical)\n",
        "print(f'RNN Model accuracy: {rnn_accuracy:.2f}')\n"
      ],
      "metadata": {
        "colab": {
          "base_uri": "https://localhost:8080/"
        },
        "id": "Qs9mDWiP6Yml",
        "outputId": "d7f86898-bfff-4ea5-d1bc-20fbffd807c5"
      },
      "execution_count": null,
      "outputs": [
        {
          "output_type": "stream",
          "name": "stdout",
          "text": [
            "Epoch 1/10\n",
            "344/344 [==============================] - 24s 59ms/step - loss: 0.4587 - accuracy: 0.7861 - val_loss: 0.3715 - val_accuracy: 0.9100\n",
            "Epoch 2/10\n",
            "344/344 [==============================] - 14s 41ms/step - loss: 0.4239 - accuracy: 0.8083 - val_loss: 0.5296 - val_accuracy: 0.8237\n",
            "Epoch 3/10\n",
            "344/344 [==============================] - 13s 37ms/step - loss: 0.3952 - accuracy: 0.8250 - val_loss: 0.3505 - val_accuracy: 0.9158\n",
            "Epoch 4/10\n",
            "344/344 [==============================] - 13s 37ms/step - loss: 0.3848 - accuracy: 0.8357 - val_loss: 0.3347 - val_accuracy: 0.9046\n",
            "Epoch 5/10\n",
            "344/344 [==============================] - 13s 39ms/step - loss: 0.3847 - accuracy: 0.8310 - val_loss: 0.5553 - val_accuracy: 0.7559\n",
            "Epoch 6/10\n",
            "344/344 [==============================] - 12s 36ms/step - loss: 0.3870 - accuracy: 0.8323 - val_loss: 0.2986 - val_accuracy: 0.9031\n",
            "Epoch 7/10\n",
            "344/344 [==============================] - 11s 32ms/step - loss: 0.3719 - accuracy: 0.8390 - val_loss: 0.5028 - val_accuracy: 0.7953\n",
            "Epoch 8/10\n",
            "344/344 [==============================] - 13s 36ms/step - loss: 0.5734 - accuracy: 0.6934 - val_loss: 0.6410 - val_accuracy: 0.7552\n",
            "Epoch 9/10\n",
            "344/344 [==============================] - 13s 38ms/step - loss: 0.5336 - accuracy: 0.7288 - val_loss: 0.4257 - val_accuracy: 0.9617\n",
            "Epoch 10/10\n",
            "344/344 [==============================] - 13s 39ms/step - loss: 0.5786 - accuracy: 0.6921 - val_loss: 0.5113 - val_accuracy: 0.8350\n",
            "  6/429 [..............................] - ETA: 4s - loss: 0.4907 - accuracy: 0.7448 "
          ]
        },
        {
          "output_type": "stream",
          "name": "stderr",
          "text": [
            "/usr/local/lib/python3.10/dist-packages/keras/src/engine/training.py:3103: UserWarning: You are saving your model as an HDF5 file via `model.save()`. This file format is considered legacy. We recommend using instead the native Keras format, e.g. `model.save('my_model.keras')`.\n",
            "  saving_api.save_model(\n"
          ]
        },
        {
          "output_type": "stream",
          "name": "stdout",
          "text": [
            "429/429 [==============================] - 6s 14ms/step - loss: 0.4925 - accuracy: 0.7762\n",
            "RNN Model accuracy: 0.78\n"
          ]
        }
      ]
    },
    {
      "cell_type": "code",
      "source": [
        "# Assuming X_test_vectors is a sequence data like [num_samples, num_timesteps, num_features]\n",
        "# Reshape if necessary\n",
        "X_test_vectors = np.reshape(X_test_vectors, (X_test_vectors.shape[0], X_test_vectors.shape[1], 1))\n",
        "\n",
        "\n",
        "# Evaluate the model on the testing data\n",
        "loss, accuracy = rnn_model.evaluate(X_test_vectors, y_test_categorical)\n",
        "print(f'Test Accuracy: {accuracy:.2f}')\n"
      ],
      "metadata": {
        "colab": {
          "base_uri": "https://localhost:8080/"
        },
        "id": "StC7JY9r6aOp",
        "outputId": "a4add54e-b49c-41f6-8d75-8b158715daa7"
      },
      "execution_count": null,
      "outputs": [
        {
          "output_type": "stream",
          "name": "stdout",
          "text": [
            "75/75 [==============================] - 1s 12ms/step - loss: 0.4667 - accuracy: 0.7696\n",
            "Test Accuracy: 0.77\n"
          ]
        }
      ]
    },
    {
      "cell_type": "markdown",
      "source": [
        "#Conclusion\n",
        "\n",
        "* Simple Nerual Network - 0.86\n",
        "* LSTM - 0.86\n",
        "* BiLSTM - 0.85\n",
        "* CNN - 0.87\n",
        "* RNN - 0.77"
      ],
      "metadata": {
        "id": "wbrTrUgo4ptj"
      }
    }
  ],
  "metadata": {
    "colab": {
      "provenance": [],
      "toc_visible": true
    },
    "kernelspec": {
      "display_name": "Python 3 (ipykernel)",
      "language": "python",
      "name": "python3"
    },
    "language_info": {
      "codemirror_mode": {
        "name": "ipython",
        "version": 3
      },
      "file_extension": ".py",
      "mimetype": "text/x-python",
      "name": "python",
      "nbconvert_exporter": "python",
      "pygments_lexer": "ipython3",
      "version": "3.10.9"
    },
    "widgets": {
      "application/vnd.jupyter.widget-state+json": {
        "820a50fd6b3c4920a37b7b4285a51dec": {
          "model_module": "@jupyter-widgets/controls",
          "model_name": "HBoxModel",
          "model_module_version": "1.5.0",
          "state": {
            "_dom_classes": [],
            "_model_module": "@jupyter-widgets/controls",
            "_model_module_version": "1.5.0",
            "_model_name": "HBoxModel",
            "_view_count": null,
            "_view_module": "@jupyter-widgets/controls",
            "_view_module_version": "1.5.0",
            "_view_name": "HBoxView",
            "box_style": "",
            "children": [
              "IPY_MODEL_c93ab7e3255141d68e14d79803e7f79a",
              "IPY_MODEL_6e0c5a7fe98643a78add626f2734cacc",
              "IPY_MODEL_78dfc230ba3d47e0a6c876f3952f53b8"
            ],
            "layout": "IPY_MODEL_30900dde60d745bbbc7a2083eaa9b3a9"
          }
        },
        "c93ab7e3255141d68e14d79803e7f79a": {
          "model_module": "@jupyter-widgets/controls",
          "model_name": "HTMLModel",
          "model_module_version": "1.5.0",
          "state": {
            "_dom_classes": [],
            "_model_module": "@jupyter-widgets/controls",
            "_model_module_version": "1.5.0",
            "_model_name": "HTMLModel",
            "_view_count": null,
            "_view_module": "@jupyter-widgets/controls",
            "_view_module_version": "1.5.0",
            "_view_name": "HTMLView",
            "description": "",
            "description_tooltip": null,
            "layout": "IPY_MODEL_d2f3095547574ed0b24b1d39194e3ecb",
            "placeholder": "​",
            "style": "IPY_MODEL_87f96c834acc41c9903f7a971a7275b3",
            "value": "tokenizer_config.json: 100%"
          }
        },
        "6e0c5a7fe98643a78add626f2734cacc": {
          "model_module": "@jupyter-widgets/controls",
          "model_name": "FloatProgressModel",
          "model_module_version": "1.5.0",
          "state": {
            "_dom_classes": [],
            "_model_module": "@jupyter-widgets/controls",
            "_model_module_version": "1.5.0",
            "_model_name": "FloatProgressModel",
            "_view_count": null,
            "_view_module": "@jupyter-widgets/controls",
            "_view_module_version": "1.5.0",
            "_view_name": "ProgressView",
            "bar_style": "success",
            "description": "",
            "description_tooltip": null,
            "layout": "IPY_MODEL_dce35842d4054ead83ccf80598313326",
            "max": 48,
            "min": 0,
            "orientation": "horizontal",
            "style": "IPY_MODEL_1b7ba9c34dfa47dc89d28ca133752c4a",
            "value": 48
          }
        },
        "78dfc230ba3d47e0a6c876f3952f53b8": {
          "model_module": "@jupyter-widgets/controls",
          "model_name": "HTMLModel",
          "model_module_version": "1.5.0",
          "state": {
            "_dom_classes": [],
            "_model_module": "@jupyter-widgets/controls",
            "_model_module_version": "1.5.0",
            "_model_name": "HTMLModel",
            "_view_count": null,
            "_view_module": "@jupyter-widgets/controls",
            "_view_module_version": "1.5.0",
            "_view_name": "HTMLView",
            "description": "",
            "description_tooltip": null,
            "layout": "IPY_MODEL_946fd701891840b795774912bf290a3e",
            "placeholder": "​",
            "style": "IPY_MODEL_aeee40fb64d94fc2af4099ad6b8c50b0",
            "value": " 48.0/48.0 [00:00&lt;00:00, 1.08kB/s]"
          }
        },
        "30900dde60d745bbbc7a2083eaa9b3a9": {
          "model_module": "@jupyter-widgets/base",
          "model_name": "LayoutModel",
          "model_module_version": "1.2.0",
          "state": {
            "_model_module": "@jupyter-widgets/base",
            "_model_module_version": "1.2.0",
            "_model_name": "LayoutModel",
            "_view_count": null,
            "_view_module": "@jupyter-widgets/base",
            "_view_module_version": "1.2.0",
            "_view_name": "LayoutView",
            "align_content": null,
            "align_items": null,
            "align_self": null,
            "border": null,
            "bottom": null,
            "display": null,
            "flex": null,
            "flex_flow": null,
            "grid_area": null,
            "grid_auto_columns": null,
            "grid_auto_flow": null,
            "grid_auto_rows": null,
            "grid_column": null,
            "grid_gap": null,
            "grid_row": null,
            "grid_template_areas": null,
            "grid_template_columns": null,
            "grid_template_rows": null,
            "height": null,
            "justify_content": null,
            "justify_items": null,
            "left": null,
            "margin": null,
            "max_height": null,
            "max_width": null,
            "min_height": null,
            "min_width": null,
            "object_fit": null,
            "object_position": null,
            "order": null,
            "overflow": null,
            "overflow_x": null,
            "overflow_y": null,
            "padding": null,
            "right": null,
            "top": null,
            "visibility": null,
            "width": null
          }
        },
        "d2f3095547574ed0b24b1d39194e3ecb": {
          "model_module": "@jupyter-widgets/base",
          "model_name": "LayoutModel",
          "model_module_version": "1.2.0",
          "state": {
            "_model_module": "@jupyter-widgets/base",
            "_model_module_version": "1.2.0",
            "_model_name": "LayoutModel",
            "_view_count": null,
            "_view_module": "@jupyter-widgets/base",
            "_view_module_version": "1.2.0",
            "_view_name": "LayoutView",
            "align_content": null,
            "align_items": null,
            "align_self": null,
            "border": null,
            "bottom": null,
            "display": null,
            "flex": null,
            "flex_flow": null,
            "grid_area": null,
            "grid_auto_columns": null,
            "grid_auto_flow": null,
            "grid_auto_rows": null,
            "grid_column": null,
            "grid_gap": null,
            "grid_row": null,
            "grid_template_areas": null,
            "grid_template_columns": null,
            "grid_template_rows": null,
            "height": null,
            "justify_content": null,
            "justify_items": null,
            "left": null,
            "margin": null,
            "max_height": null,
            "max_width": null,
            "min_height": null,
            "min_width": null,
            "object_fit": null,
            "object_position": null,
            "order": null,
            "overflow": null,
            "overflow_x": null,
            "overflow_y": null,
            "padding": null,
            "right": null,
            "top": null,
            "visibility": null,
            "width": null
          }
        },
        "87f96c834acc41c9903f7a971a7275b3": {
          "model_module": "@jupyter-widgets/controls",
          "model_name": "DescriptionStyleModel",
          "model_module_version": "1.5.0",
          "state": {
            "_model_module": "@jupyter-widgets/controls",
            "_model_module_version": "1.5.0",
            "_model_name": "DescriptionStyleModel",
            "_view_count": null,
            "_view_module": "@jupyter-widgets/base",
            "_view_module_version": "1.2.0",
            "_view_name": "StyleView",
            "description_width": ""
          }
        },
        "dce35842d4054ead83ccf80598313326": {
          "model_module": "@jupyter-widgets/base",
          "model_name": "LayoutModel",
          "model_module_version": "1.2.0",
          "state": {
            "_model_module": "@jupyter-widgets/base",
            "_model_module_version": "1.2.0",
            "_model_name": "LayoutModel",
            "_view_count": null,
            "_view_module": "@jupyter-widgets/base",
            "_view_module_version": "1.2.0",
            "_view_name": "LayoutView",
            "align_content": null,
            "align_items": null,
            "align_self": null,
            "border": null,
            "bottom": null,
            "display": null,
            "flex": null,
            "flex_flow": null,
            "grid_area": null,
            "grid_auto_columns": null,
            "grid_auto_flow": null,
            "grid_auto_rows": null,
            "grid_column": null,
            "grid_gap": null,
            "grid_row": null,
            "grid_template_areas": null,
            "grid_template_columns": null,
            "grid_template_rows": null,
            "height": null,
            "justify_content": null,
            "justify_items": null,
            "left": null,
            "margin": null,
            "max_height": null,
            "max_width": null,
            "min_height": null,
            "min_width": null,
            "object_fit": null,
            "object_position": null,
            "order": null,
            "overflow": null,
            "overflow_x": null,
            "overflow_y": null,
            "padding": null,
            "right": null,
            "top": null,
            "visibility": null,
            "width": null
          }
        },
        "1b7ba9c34dfa47dc89d28ca133752c4a": {
          "model_module": "@jupyter-widgets/controls",
          "model_name": "ProgressStyleModel",
          "model_module_version": "1.5.0",
          "state": {
            "_model_module": "@jupyter-widgets/controls",
            "_model_module_version": "1.5.0",
            "_model_name": "ProgressStyleModel",
            "_view_count": null,
            "_view_module": "@jupyter-widgets/base",
            "_view_module_version": "1.2.0",
            "_view_name": "StyleView",
            "bar_color": null,
            "description_width": ""
          }
        },
        "946fd701891840b795774912bf290a3e": {
          "model_module": "@jupyter-widgets/base",
          "model_name": "LayoutModel",
          "model_module_version": "1.2.0",
          "state": {
            "_model_module": "@jupyter-widgets/base",
            "_model_module_version": "1.2.0",
            "_model_name": "LayoutModel",
            "_view_count": null,
            "_view_module": "@jupyter-widgets/base",
            "_view_module_version": "1.2.0",
            "_view_name": "LayoutView",
            "align_content": null,
            "align_items": null,
            "align_self": null,
            "border": null,
            "bottom": null,
            "display": null,
            "flex": null,
            "flex_flow": null,
            "grid_area": null,
            "grid_auto_columns": null,
            "grid_auto_flow": null,
            "grid_auto_rows": null,
            "grid_column": null,
            "grid_gap": null,
            "grid_row": null,
            "grid_template_areas": null,
            "grid_template_columns": null,
            "grid_template_rows": null,
            "height": null,
            "justify_content": null,
            "justify_items": null,
            "left": null,
            "margin": null,
            "max_height": null,
            "max_width": null,
            "min_height": null,
            "min_width": null,
            "object_fit": null,
            "object_position": null,
            "order": null,
            "overflow": null,
            "overflow_x": null,
            "overflow_y": null,
            "padding": null,
            "right": null,
            "top": null,
            "visibility": null,
            "width": null
          }
        },
        "aeee40fb64d94fc2af4099ad6b8c50b0": {
          "model_module": "@jupyter-widgets/controls",
          "model_name": "DescriptionStyleModel",
          "model_module_version": "1.5.0",
          "state": {
            "_model_module": "@jupyter-widgets/controls",
            "_model_module_version": "1.5.0",
            "_model_name": "DescriptionStyleModel",
            "_view_count": null,
            "_view_module": "@jupyter-widgets/base",
            "_view_module_version": "1.2.0",
            "_view_name": "StyleView",
            "description_width": ""
          }
        },
        "27924a8195514204a64dd098104ef0db": {
          "model_module": "@jupyter-widgets/controls",
          "model_name": "HBoxModel",
          "model_module_version": "1.5.0",
          "state": {
            "_dom_classes": [],
            "_model_module": "@jupyter-widgets/controls",
            "_model_module_version": "1.5.0",
            "_model_name": "HBoxModel",
            "_view_count": null,
            "_view_module": "@jupyter-widgets/controls",
            "_view_module_version": "1.5.0",
            "_view_name": "HBoxView",
            "box_style": "",
            "children": [
              "IPY_MODEL_d071028230b94974b39fe95434f6a8f4",
              "IPY_MODEL_e4a01d2f195b44cf8633f79c8d28f8ab",
              "IPY_MODEL_9dbd99e22be04fd89bc2b0e47a967998"
            ],
            "layout": "IPY_MODEL_3eca9e81a24044b89787387496c6913e"
          }
        },
        "d071028230b94974b39fe95434f6a8f4": {
          "model_module": "@jupyter-widgets/controls",
          "model_name": "HTMLModel",
          "model_module_version": "1.5.0",
          "state": {
            "_dom_classes": [],
            "_model_module": "@jupyter-widgets/controls",
            "_model_module_version": "1.5.0",
            "_model_name": "HTMLModel",
            "_view_count": null,
            "_view_module": "@jupyter-widgets/controls",
            "_view_module_version": "1.5.0",
            "_view_name": "HTMLView",
            "description": "",
            "description_tooltip": null,
            "layout": "IPY_MODEL_acf73bf3c2734e4f924f7cba0bbaf8a7",
            "placeholder": "​",
            "style": "IPY_MODEL_5028ef2a5312452eade863cd828ce339",
            "value": "vocab.txt: 100%"
          }
        },
        "e4a01d2f195b44cf8633f79c8d28f8ab": {
          "model_module": "@jupyter-widgets/controls",
          "model_name": "FloatProgressModel",
          "model_module_version": "1.5.0",
          "state": {
            "_dom_classes": [],
            "_model_module": "@jupyter-widgets/controls",
            "_model_module_version": "1.5.0",
            "_model_name": "FloatProgressModel",
            "_view_count": null,
            "_view_module": "@jupyter-widgets/controls",
            "_view_module_version": "1.5.0",
            "_view_name": "ProgressView",
            "bar_style": "success",
            "description": "",
            "description_tooltip": null,
            "layout": "IPY_MODEL_c6c636640bf846899dd83498cefd4e28",
            "max": 231508,
            "min": 0,
            "orientation": "horizontal",
            "style": "IPY_MODEL_62d8f9659fc74f2eaf0526a66513fb66",
            "value": 231508
          }
        },
        "9dbd99e22be04fd89bc2b0e47a967998": {
          "model_module": "@jupyter-widgets/controls",
          "model_name": "HTMLModel",
          "model_module_version": "1.5.0",
          "state": {
            "_dom_classes": [],
            "_model_module": "@jupyter-widgets/controls",
            "_model_module_version": "1.5.0",
            "_model_name": "HTMLModel",
            "_view_count": null,
            "_view_module": "@jupyter-widgets/controls",
            "_view_module_version": "1.5.0",
            "_view_name": "HTMLView",
            "description": "",
            "description_tooltip": null,
            "layout": "IPY_MODEL_b044318f0ac54e2395f2df76edbde4a2",
            "placeholder": "​",
            "style": "IPY_MODEL_da0af89c903d4eaba8623f66b0704479",
            "value": " 232k/232k [00:00&lt;00:00, 2.39MB/s]"
          }
        },
        "3eca9e81a24044b89787387496c6913e": {
          "model_module": "@jupyter-widgets/base",
          "model_name": "LayoutModel",
          "model_module_version": "1.2.0",
          "state": {
            "_model_module": "@jupyter-widgets/base",
            "_model_module_version": "1.2.0",
            "_model_name": "LayoutModel",
            "_view_count": null,
            "_view_module": "@jupyter-widgets/base",
            "_view_module_version": "1.2.0",
            "_view_name": "LayoutView",
            "align_content": null,
            "align_items": null,
            "align_self": null,
            "border": null,
            "bottom": null,
            "display": null,
            "flex": null,
            "flex_flow": null,
            "grid_area": null,
            "grid_auto_columns": null,
            "grid_auto_flow": null,
            "grid_auto_rows": null,
            "grid_column": null,
            "grid_gap": null,
            "grid_row": null,
            "grid_template_areas": null,
            "grid_template_columns": null,
            "grid_template_rows": null,
            "height": null,
            "justify_content": null,
            "justify_items": null,
            "left": null,
            "margin": null,
            "max_height": null,
            "max_width": null,
            "min_height": null,
            "min_width": null,
            "object_fit": null,
            "object_position": null,
            "order": null,
            "overflow": null,
            "overflow_x": null,
            "overflow_y": null,
            "padding": null,
            "right": null,
            "top": null,
            "visibility": null,
            "width": null
          }
        },
        "acf73bf3c2734e4f924f7cba0bbaf8a7": {
          "model_module": "@jupyter-widgets/base",
          "model_name": "LayoutModel",
          "model_module_version": "1.2.0",
          "state": {
            "_model_module": "@jupyter-widgets/base",
            "_model_module_version": "1.2.0",
            "_model_name": "LayoutModel",
            "_view_count": null,
            "_view_module": "@jupyter-widgets/base",
            "_view_module_version": "1.2.0",
            "_view_name": "LayoutView",
            "align_content": null,
            "align_items": null,
            "align_self": null,
            "border": null,
            "bottom": null,
            "display": null,
            "flex": null,
            "flex_flow": null,
            "grid_area": null,
            "grid_auto_columns": null,
            "grid_auto_flow": null,
            "grid_auto_rows": null,
            "grid_column": null,
            "grid_gap": null,
            "grid_row": null,
            "grid_template_areas": null,
            "grid_template_columns": null,
            "grid_template_rows": null,
            "height": null,
            "justify_content": null,
            "justify_items": null,
            "left": null,
            "margin": null,
            "max_height": null,
            "max_width": null,
            "min_height": null,
            "min_width": null,
            "object_fit": null,
            "object_position": null,
            "order": null,
            "overflow": null,
            "overflow_x": null,
            "overflow_y": null,
            "padding": null,
            "right": null,
            "top": null,
            "visibility": null,
            "width": null
          }
        },
        "5028ef2a5312452eade863cd828ce339": {
          "model_module": "@jupyter-widgets/controls",
          "model_name": "DescriptionStyleModel",
          "model_module_version": "1.5.0",
          "state": {
            "_model_module": "@jupyter-widgets/controls",
            "_model_module_version": "1.5.0",
            "_model_name": "DescriptionStyleModel",
            "_view_count": null,
            "_view_module": "@jupyter-widgets/base",
            "_view_module_version": "1.2.0",
            "_view_name": "StyleView",
            "description_width": ""
          }
        },
        "c6c636640bf846899dd83498cefd4e28": {
          "model_module": "@jupyter-widgets/base",
          "model_name": "LayoutModel",
          "model_module_version": "1.2.0",
          "state": {
            "_model_module": "@jupyter-widgets/base",
            "_model_module_version": "1.2.0",
            "_model_name": "LayoutModel",
            "_view_count": null,
            "_view_module": "@jupyter-widgets/base",
            "_view_module_version": "1.2.0",
            "_view_name": "LayoutView",
            "align_content": null,
            "align_items": null,
            "align_self": null,
            "border": null,
            "bottom": null,
            "display": null,
            "flex": null,
            "flex_flow": null,
            "grid_area": null,
            "grid_auto_columns": null,
            "grid_auto_flow": null,
            "grid_auto_rows": null,
            "grid_column": null,
            "grid_gap": null,
            "grid_row": null,
            "grid_template_areas": null,
            "grid_template_columns": null,
            "grid_template_rows": null,
            "height": null,
            "justify_content": null,
            "justify_items": null,
            "left": null,
            "margin": null,
            "max_height": null,
            "max_width": null,
            "min_height": null,
            "min_width": null,
            "object_fit": null,
            "object_position": null,
            "order": null,
            "overflow": null,
            "overflow_x": null,
            "overflow_y": null,
            "padding": null,
            "right": null,
            "top": null,
            "visibility": null,
            "width": null
          }
        },
        "62d8f9659fc74f2eaf0526a66513fb66": {
          "model_module": "@jupyter-widgets/controls",
          "model_name": "ProgressStyleModel",
          "model_module_version": "1.5.0",
          "state": {
            "_model_module": "@jupyter-widgets/controls",
            "_model_module_version": "1.5.0",
            "_model_name": "ProgressStyleModel",
            "_view_count": null,
            "_view_module": "@jupyter-widgets/base",
            "_view_module_version": "1.2.0",
            "_view_name": "StyleView",
            "bar_color": null,
            "description_width": ""
          }
        },
        "b044318f0ac54e2395f2df76edbde4a2": {
          "model_module": "@jupyter-widgets/base",
          "model_name": "LayoutModel",
          "model_module_version": "1.2.0",
          "state": {
            "_model_module": "@jupyter-widgets/base",
            "_model_module_version": "1.2.0",
            "_model_name": "LayoutModel",
            "_view_count": null,
            "_view_module": "@jupyter-widgets/base",
            "_view_module_version": "1.2.0",
            "_view_name": "LayoutView",
            "align_content": null,
            "align_items": null,
            "align_self": null,
            "border": null,
            "bottom": null,
            "display": null,
            "flex": null,
            "flex_flow": null,
            "grid_area": null,
            "grid_auto_columns": null,
            "grid_auto_flow": null,
            "grid_auto_rows": null,
            "grid_column": null,
            "grid_gap": null,
            "grid_row": null,
            "grid_template_areas": null,
            "grid_template_columns": null,
            "grid_template_rows": null,
            "height": null,
            "justify_content": null,
            "justify_items": null,
            "left": null,
            "margin": null,
            "max_height": null,
            "max_width": null,
            "min_height": null,
            "min_width": null,
            "object_fit": null,
            "object_position": null,
            "order": null,
            "overflow": null,
            "overflow_x": null,
            "overflow_y": null,
            "padding": null,
            "right": null,
            "top": null,
            "visibility": null,
            "width": null
          }
        },
        "da0af89c903d4eaba8623f66b0704479": {
          "model_module": "@jupyter-widgets/controls",
          "model_name": "DescriptionStyleModel",
          "model_module_version": "1.5.0",
          "state": {
            "_model_module": "@jupyter-widgets/controls",
            "_model_module_version": "1.5.0",
            "_model_name": "DescriptionStyleModel",
            "_view_count": null,
            "_view_module": "@jupyter-widgets/base",
            "_view_module_version": "1.2.0",
            "_view_name": "StyleView",
            "description_width": ""
          }
        },
        "fec679fdd4d54c62b6e39a8a821ac682": {
          "model_module": "@jupyter-widgets/controls",
          "model_name": "HBoxModel",
          "model_module_version": "1.5.0",
          "state": {
            "_dom_classes": [],
            "_model_module": "@jupyter-widgets/controls",
            "_model_module_version": "1.5.0",
            "_model_name": "HBoxModel",
            "_view_count": null,
            "_view_module": "@jupyter-widgets/controls",
            "_view_module_version": "1.5.0",
            "_view_name": "HBoxView",
            "box_style": "",
            "children": [
              "IPY_MODEL_e82d3a075d5444e38ff9d73c3d7f95f3",
              "IPY_MODEL_ea5bc5766fc14fa49369c1a335035466",
              "IPY_MODEL_b0c063932ed54d50a5b8a2252ed774bc"
            ],
            "layout": "IPY_MODEL_f2000b0f0f224fc1b75767da5a8f8d47"
          }
        },
        "e82d3a075d5444e38ff9d73c3d7f95f3": {
          "model_module": "@jupyter-widgets/controls",
          "model_name": "HTMLModel",
          "model_module_version": "1.5.0",
          "state": {
            "_dom_classes": [],
            "_model_module": "@jupyter-widgets/controls",
            "_model_module_version": "1.5.0",
            "_model_name": "HTMLModel",
            "_view_count": null,
            "_view_module": "@jupyter-widgets/controls",
            "_view_module_version": "1.5.0",
            "_view_name": "HTMLView",
            "description": "",
            "description_tooltip": null,
            "layout": "IPY_MODEL_e228651e72f541feb1248ded82bcc5bd",
            "placeholder": "​",
            "style": "IPY_MODEL_2bcc1aac9f234ed69cf0b4648d5a6fbc",
            "value": "tokenizer.json: 100%"
          }
        },
        "ea5bc5766fc14fa49369c1a335035466": {
          "model_module": "@jupyter-widgets/controls",
          "model_name": "FloatProgressModel",
          "model_module_version": "1.5.0",
          "state": {
            "_dom_classes": [],
            "_model_module": "@jupyter-widgets/controls",
            "_model_module_version": "1.5.0",
            "_model_name": "FloatProgressModel",
            "_view_count": null,
            "_view_module": "@jupyter-widgets/controls",
            "_view_module_version": "1.5.0",
            "_view_name": "ProgressView",
            "bar_style": "success",
            "description": "",
            "description_tooltip": null,
            "layout": "IPY_MODEL_267f041043584dcd9e2044ae59271971",
            "max": 466062,
            "min": 0,
            "orientation": "horizontal",
            "style": "IPY_MODEL_9908d80df7764a8b84f497c11dee797f",
            "value": 466062
          }
        },
        "b0c063932ed54d50a5b8a2252ed774bc": {
          "model_module": "@jupyter-widgets/controls",
          "model_name": "HTMLModel",
          "model_module_version": "1.5.0",
          "state": {
            "_dom_classes": [],
            "_model_module": "@jupyter-widgets/controls",
            "_model_module_version": "1.5.0",
            "_model_name": "HTMLModel",
            "_view_count": null,
            "_view_module": "@jupyter-widgets/controls",
            "_view_module_version": "1.5.0",
            "_view_name": "HTMLView",
            "description": "",
            "description_tooltip": null,
            "layout": "IPY_MODEL_bdac1c15e00e46f9a2d8ff2362aaa4fb",
            "placeholder": "​",
            "style": "IPY_MODEL_88ec8a57d092403db4b719b8e29625ad",
            "value": " 466k/466k [00:00&lt;00:00, 5.62MB/s]"
          }
        },
        "f2000b0f0f224fc1b75767da5a8f8d47": {
          "model_module": "@jupyter-widgets/base",
          "model_name": "LayoutModel",
          "model_module_version": "1.2.0",
          "state": {
            "_model_module": "@jupyter-widgets/base",
            "_model_module_version": "1.2.0",
            "_model_name": "LayoutModel",
            "_view_count": null,
            "_view_module": "@jupyter-widgets/base",
            "_view_module_version": "1.2.0",
            "_view_name": "LayoutView",
            "align_content": null,
            "align_items": null,
            "align_self": null,
            "border": null,
            "bottom": null,
            "display": null,
            "flex": null,
            "flex_flow": null,
            "grid_area": null,
            "grid_auto_columns": null,
            "grid_auto_flow": null,
            "grid_auto_rows": null,
            "grid_column": null,
            "grid_gap": null,
            "grid_row": null,
            "grid_template_areas": null,
            "grid_template_columns": null,
            "grid_template_rows": null,
            "height": null,
            "justify_content": null,
            "justify_items": null,
            "left": null,
            "margin": null,
            "max_height": null,
            "max_width": null,
            "min_height": null,
            "min_width": null,
            "object_fit": null,
            "object_position": null,
            "order": null,
            "overflow": null,
            "overflow_x": null,
            "overflow_y": null,
            "padding": null,
            "right": null,
            "top": null,
            "visibility": null,
            "width": null
          }
        },
        "e228651e72f541feb1248ded82bcc5bd": {
          "model_module": "@jupyter-widgets/base",
          "model_name": "LayoutModel",
          "model_module_version": "1.2.0",
          "state": {
            "_model_module": "@jupyter-widgets/base",
            "_model_module_version": "1.2.0",
            "_model_name": "LayoutModel",
            "_view_count": null,
            "_view_module": "@jupyter-widgets/base",
            "_view_module_version": "1.2.0",
            "_view_name": "LayoutView",
            "align_content": null,
            "align_items": null,
            "align_self": null,
            "border": null,
            "bottom": null,
            "display": null,
            "flex": null,
            "flex_flow": null,
            "grid_area": null,
            "grid_auto_columns": null,
            "grid_auto_flow": null,
            "grid_auto_rows": null,
            "grid_column": null,
            "grid_gap": null,
            "grid_row": null,
            "grid_template_areas": null,
            "grid_template_columns": null,
            "grid_template_rows": null,
            "height": null,
            "justify_content": null,
            "justify_items": null,
            "left": null,
            "margin": null,
            "max_height": null,
            "max_width": null,
            "min_height": null,
            "min_width": null,
            "object_fit": null,
            "object_position": null,
            "order": null,
            "overflow": null,
            "overflow_x": null,
            "overflow_y": null,
            "padding": null,
            "right": null,
            "top": null,
            "visibility": null,
            "width": null
          }
        },
        "2bcc1aac9f234ed69cf0b4648d5a6fbc": {
          "model_module": "@jupyter-widgets/controls",
          "model_name": "DescriptionStyleModel",
          "model_module_version": "1.5.0",
          "state": {
            "_model_module": "@jupyter-widgets/controls",
            "_model_module_version": "1.5.0",
            "_model_name": "DescriptionStyleModel",
            "_view_count": null,
            "_view_module": "@jupyter-widgets/base",
            "_view_module_version": "1.2.0",
            "_view_name": "StyleView",
            "description_width": ""
          }
        },
        "267f041043584dcd9e2044ae59271971": {
          "model_module": "@jupyter-widgets/base",
          "model_name": "LayoutModel",
          "model_module_version": "1.2.0",
          "state": {
            "_model_module": "@jupyter-widgets/base",
            "_model_module_version": "1.2.0",
            "_model_name": "LayoutModel",
            "_view_count": null,
            "_view_module": "@jupyter-widgets/base",
            "_view_module_version": "1.2.0",
            "_view_name": "LayoutView",
            "align_content": null,
            "align_items": null,
            "align_self": null,
            "border": null,
            "bottom": null,
            "display": null,
            "flex": null,
            "flex_flow": null,
            "grid_area": null,
            "grid_auto_columns": null,
            "grid_auto_flow": null,
            "grid_auto_rows": null,
            "grid_column": null,
            "grid_gap": null,
            "grid_row": null,
            "grid_template_areas": null,
            "grid_template_columns": null,
            "grid_template_rows": null,
            "height": null,
            "justify_content": null,
            "justify_items": null,
            "left": null,
            "margin": null,
            "max_height": null,
            "max_width": null,
            "min_height": null,
            "min_width": null,
            "object_fit": null,
            "object_position": null,
            "order": null,
            "overflow": null,
            "overflow_x": null,
            "overflow_y": null,
            "padding": null,
            "right": null,
            "top": null,
            "visibility": null,
            "width": null
          }
        },
        "9908d80df7764a8b84f497c11dee797f": {
          "model_module": "@jupyter-widgets/controls",
          "model_name": "ProgressStyleModel",
          "model_module_version": "1.5.0",
          "state": {
            "_model_module": "@jupyter-widgets/controls",
            "_model_module_version": "1.5.0",
            "_model_name": "ProgressStyleModel",
            "_view_count": null,
            "_view_module": "@jupyter-widgets/base",
            "_view_module_version": "1.2.0",
            "_view_name": "StyleView",
            "bar_color": null,
            "description_width": ""
          }
        },
        "bdac1c15e00e46f9a2d8ff2362aaa4fb": {
          "model_module": "@jupyter-widgets/base",
          "model_name": "LayoutModel",
          "model_module_version": "1.2.0",
          "state": {
            "_model_module": "@jupyter-widgets/base",
            "_model_module_version": "1.2.0",
            "_model_name": "LayoutModel",
            "_view_count": null,
            "_view_module": "@jupyter-widgets/base",
            "_view_module_version": "1.2.0",
            "_view_name": "LayoutView",
            "align_content": null,
            "align_items": null,
            "align_self": null,
            "border": null,
            "bottom": null,
            "display": null,
            "flex": null,
            "flex_flow": null,
            "grid_area": null,
            "grid_auto_columns": null,
            "grid_auto_flow": null,
            "grid_auto_rows": null,
            "grid_column": null,
            "grid_gap": null,
            "grid_row": null,
            "grid_template_areas": null,
            "grid_template_columns": null,
            "grid_template_rows": null,
            "height": null,
            "justify_content": null,
            "justify_items": null,
            "left": null,
            "margin": null,
            "max_height": null,
            "max_width": null,
            "min_height": null,
            "min_width": null,
            "object_fit": null,
            "object_position": null,
            "order": null,
            "overflow": null,
            "overflow_x": null,
            "overflow_y": null,
            "padding": null,
            "right": null,
            "top": null,
            "visibility": null,
            "width": null
          }
        },
        "88ec8a57d092403db4b719b8e29625ad": {
          "model_module": "@jupyter-widgets/controls",
          "model_name": "DescriptionStyleModel",
          "model_module_version": "1.5.0",
          "state": {
            "_model_module": "@jupyter-widgets/controls",
            "_model_module_version": "1.5.0",
            "_model_name": "DescriptionStyleModel",
            "_view_count": null,
            "_view_module": "@jupyter-widgets/base",
            "_view_module_version": "1.2.0",
            "_view_name": "StyleView",
            "description_width": ""
          }
        },
        "7fb1d876ae854bdfaa01b35d5fb60b72": {
          "model_module": "@jupyter-widgets/controls",
          "model_name": "HBoxModel",
          "model_module_version": "1.5.0",
          "state": {
            "_dom_classes": [],
            "_model_module": "@jupyter-widgets/controls",
            "_model_module_version": "1.5.0",
            "_model_name": "HBoxModel",
            "_view_count": null,
            "_view_module": "@jupyter-widgets/controls",
            "_view_module_version": "1.5.0",
            "_view_name": "HBoxView",
            "box_style": "",
            "children": [
              "IPY_MODEL_138fd5d1abaf404a9b48b2f591472d4d",
              "IPY_MODEL_296ae7cc542d46df80b85647e5d491c5",
              "IPY_MODEL_352c22aae51749ff9c7f6d314ac6e215"
            ],
            "layout": "IPY_MODEL_713672addb4a47c0b223125f2d9820ee"
          }
        },
        "138fd5d1abaf404a9b48b2f591472d4d": {
          "model_module": "@jupyter-widgets/controls",
          "model_name": "HTMLModel",
          "model_module_version": "1.5.0",
          "state": {
            "_dom_classes": [],
            "_model_module": "@jupyter-widgets/controls",
            "_model_module_version": "1.5.0",
            "_model_name": "HTMLModel",
            "_view_count": null,
            "_view_module": "@jupyter-widgets/controls",
            "_view_module_version": "1.5.0",
            "_view_name": "HTMLView",
            "description": "",
            "description_tooltip": null,
            "layout": "IPY_MODEL_82c56e475932463cb2006ea05fe5a480",
            "placeholder": "​",
            "style": "IPY_MODEL_eb1686064c824886bdff289cfbbcb0ec",
            "value": "config.json: 100%"
          }
        },
        "296ae7cc542d46df80b85647e5d491c5": {
          "model_module": "@jupyter-widgets/controls",
          "model_name": "FloatProgressModel",
          "model_module_version": "1.5.0",
          "state": {
            "_dom_classes": [],
            "_model_module": "@jupyter-widgets/controls",
            "_model_module_version": "1.5.0",
            "_model_name": "FloatProgressModel",
            "_view_count": null,
            "_view_module": "@jupyter-widgets/controls",
            "_view_module_version": "1.5.0",
            "_view_name": "ProgressView",
            "bar_style": "success",
            "description": "",
            "description_tooltip": null,
            "layout": "IPY_MODEL_5d45aeadbce04e959bd292b34bc53052",
            "max": 570,
            "min": 0,
            "orientation": "horizontal",
            "style": "IPY_MODEL_358e67da9fa64117832cfef2e24cc7d7",
            "value": 570
          }
        },
        "352c22aae51749ff9c7f6d314ac6e215": {
          "model_module": "@jupyter-widgets/controls",
          "model_name": "HTMLModel",
          "model_module_version": "1.5.0",
          "state": {
            "_dom_classes": [],
            "_model_module": "@jupyter-widgets/controls",
            "_model_module_version": "1.5.0",
            "_model_name": "HTMLModel",
            "_view_count": null,
            "_view_module": "@jupyter-widgets/controls",
            "_view_module_version": "1.5.0",
            "_view_name": "HTMLView",
            "description": "",
            "description_tooltip": null,
            "layout": "IPY_MODEL_b24a10c0627a4d4fb4c25329760c59dd",
            "placeholder": "​",
            "style": "IPY_MODEL_60f0a952a00344fdb3d93bc3ccc05885",
            "value": " 570/570 [00:00&lt;00:00, 7.29kB/s]"
          }
        },
        "713672addb4a47c0b223125f2d9820ee": {
          "model_module": "@jupyter-widgets/base",
          "model_name": "LayoutModel",
          "model_module_version": "1.2.0",
          "state": {
            "_model_module": "@jupyter-widgets/base",
            "_model_module_version": "1.2.0",
            "_model_name": "LayoutModel",
            "_view_count": null,
            "_view_module": "@jupyter-widgets/base",
            "_view_module_version": "1.2.0",
            "_view_name": "LayoutView",
            "align_content": null,
            "align_items": null,
            "align_self": null,
            "border": null,
            "bottom": null,
            "display": null,
            "flex": null,
            "flex_flow": null,
            "grid_area": null,
            "grid_auto_columns": null,
            "grid_auto_flow": null,
            "grid_auto_rows": null,
            "grid_column": null,
            "grid_gap": null,
            "grid_row": null,
            "grid_template_areas": null,
            "grid_template_columns": null,
            "grid_template_rows": null,
            "height": null,
            "justify_content": null,
            "justify_items": null,
            "left": null,
            "margin": null,
            "max_height": null,
            "max_width": null,
            "min_height": null,
            "min_width": null,
            "object_fit": null,
            "object_position": null,
            "order": null,
            "overflow": null,
            "overflow_x": null,
            "overflow_y": null,
            "padding": null,
            "right": null,
            "top": null,
            "visibility": null,
            "width": null
          }
        },
        "82c56e475932463cb2006ea05fe5a480": {
          "model_module": "@jupyter-widgets/base",
          "model_name": "LayoutModel",
          "model_module_version": "1.2.0",
          "state": {
            "_model_module": "@jupyter-widgets/base",
            "_model_module_version": "1.2.0",
            "_model_name": "LayoutModel",
            "_view_count": null,
            "_view_module": "@jupyter-widgets/base",
            "_view_module_version": "1.2.0",
            "_view_name": "LayoutView",
            "align_content": null,
            "align_items": null,
            "align_self": null,
            "border": null,
            "bottom": null,
            "display": null,
            "flex": null,
            "flex_flow": null,
            "grid_area": null,
            "grid_auto_columns": null,
            "grid_auto_flow": null,
            "grid_auto_rows": null,
            "grid_column": null,
            "grid_gap": null,
            "grid_row": null,
            "grid_template_areas": null,
            "grid_template_columns": null,
            "grid_template_rows": null,
            "height": null,
            "justify_content": null,
            "justify_items": null,
            "left": null,
            "margin": null,
            "max_height": null,
            "max_width": null,
            "min_height": null,
            "min_width": null,
            "object_fit": null,
            "object_position": null,
            "order": null,
            "overflow": null,
            "overflow_x": null,
            "overflow_y": null,
            "padding": null,
            "right": null,
            "top": null,
            "visibility": null,
            "width": null
          }
        },
        "eb1686064c824886bdff289cfbbcb0ec": {
          "model_module": "@jupyter-widgets/controls",
          "model_name": "DescriptionStyleModel",
          "model_module_version": "1.5.0",
          "state": {
            "_model_module": "@jupyter-widgets/controls",
            "_model_module_version": "1.5.0",
            "_model_name": "DescriptionStyleModel",
            "_view_count": null,
            "_view_module": "@jupyter-widgets/base",
            "_view_module_version": "1.2.0",
            "_view_name": "StyleView",
            "description_width": ""
          }
        },
        "5d45aeadbce04e959bd292b34bc53052": {
          "model_module": "@jupyter-widgets/base",
          "model_name": "LayoutModel",
          "model_module_version": "1.2.0",
          "state": {
            "_model_module": "@jupyter-widgets/base",
            "_model_module_version": "1.2.0",
            "_model_name": "LayoutModel",
            "_view_count": null,
            "_view_module": "@jupyter-widgets/base",
            "_view_module_version": "1.2.0",
            "_view_name": "LayoutView",
            "align_content": null,
            "align_items": null,
            "align_self": null,
            "border": null,
            "bottom": null,
            "display": null,
            "flex": null,
            "flex_flow": null,
            "grid_area": null,
            "grid_auto_columns": null,
            "grid_auto_flow": null,
            "grid_auto_rows": null,
            "grid_column": null,
            "grid_gap": null,
            "grid_row": null,
            "grid_template_areas": null,
            "grid_template_columns": null,
            "grid_template_rows": null,
            "height": null,
            "justify_content": null,
            "justify_items": null,
            "left": null,
            "margin": null,
            "max_height": null,
            "max_width": null,
            "min_height": null,
            "min_width": null,
            "object_fit": null,
            "object_position": null,
            "order": null,
            "overflow": null,
            "overflow_x": null,
            "overflow_y": null,
            "padding": null,
            "right": null,
            "top": null,
            "visibility": null,
            "width": null
          }
        },
        "358e67da9fa64117832cfef2e24cc7d7": {
          "model_module": "@jupyter-widgets/controls",
          "model_name": "ProgressStyleModel",
          "model_module_version": "1.5.0",
          "state": {
            "_model_module": "@jupyter-widgets/controls",
            "_model_module_version": "1.5.0",
            "_model_name": "ProgressStyleModel",
            "_view_count": null,
            "_view_module": "@jupyter-widgets/base",
            "_view_module_version": "1.2.0",
            "_view_name": "StyleView",
            "bar_color": null,
            "description_width": ""
          }
        },
        "b24a10c0627a4d4fb4c25329760c59dd": {
          "model_module": "@jupyter-widgets/base",
          "model_name": "LayoutModel",
          "model_module_version": "1.2.0",
          "state": {
            "_model_module": "@jupyter-widgets/base",
            "_model_module_version": "1.2.0",
            "_model_name": "LayoutModel",
            "_view_count": null,
            "_view_module": "@jupyter-widgets/base",
            "_view_module_version": "1.2.0",
            "_view_name": "LayoutView",
            "align_content": null,
            "align_items": null,
            "align_self": null,
            "border": null,
            "bottom": null,
            "display": null,
            "flex": null,
            "flex_flow": null,
            "grid_area": null,
            "grid_auto_columns": null,
            "grid_auto_flow": null,
            "grid_auto_rows": null,
            "grid_column": null,
            "grid_gap": null,
            "grid_row": null,
            "grid_template_areas": null,
            "grid_template_columns": null,
            "grid_template_rows": null,
            "height": null,
            "justify_content": null,
            "justify_items": null,
            "left": null,
            "margin": null,
            "max_height": null,
            "max_width": null,
            "min_height": null,
            "min_width": null,
            "object_fit": null,
            "object_position": null,
            "order": null,
            "overflow": null,
            "overflow_x": null,
            "overflow_y": null,
            "padding": null,
            "right": null,
            "top": null,
            "visibility": null,
            "width": null
          }
        },
        "60f0a952a00344fdb3d93bc3ccc05885": {
          "model_module": "@jupyter-widgets/controls",
          "model_name": "DescriptionStyleModel",
          "model_module_version": "1.5.0",
          "state": {
            "_model_module": "@jupyter-widgets/controls",
            "_model_module_version": "1.5.0",
            "_model_name": "DescriptionStyleModel",
            "_view_count": null,
            "_view_module": "@jupyter-widgets/base",
            "_view_module_version": "1.2.0",
            "_view_name": "StyleView",
            "description_width": ""
          }
        }
      }
    }
  },
  "nbformat": 4,
  "nbformat_minor": 0
}