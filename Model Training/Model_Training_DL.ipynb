{
  "cells": [
    {
      "cell_type": "markdown",
      "metadata": {
        "id": "6dCd3Hyz2zMf"
      },
      "source": [
        "\n",
        "#Sarcasm Detection on Airline Reviews - Data Preprocessing\n",
        "\n",
        "This notebook demonstrates the steps for preprocessing a dataset for sarcasm detection in Airline Reviews using deep learning. The preprocessing steps include loading the dataset, cleaning the data, and preparing the data for model training.\n",
        "\n",
        "#Dataset Overview\n",
        "We are using a dataset of Airline Reviews which contains the following columns:\n",
        "\n",
        "`Review`: The text of the YouTube comment.\n",
        "\n",
        "`sarcasm`: The target label indicating whether the comment is sarcastic (1) or not (0).\n",
        "\n",
        "\n",
        "Additional features related to airline information.\n",
        "\n",
        "Let's load the dataset and take a look at its structure."
      ]
    },
    {
      "cell_type": "code",
      "execution_count": 1,
      "metadata": {
        "colab": {
          "base_uri": "https://localhost:8080/"
        },
        "id": "EwOl_XkVv7Yb",
        "outputId": "24192db6-f676-47dd-acb4-386c54c09051"
      },
      "outputs": [
        {
          "output_type": "stream",
          "name": "stdout",
          "text": [
            "Mounted at /content/drive\n",
            "sarcasm\n",
            "1    16548\n",
            "0     6623\n",
            "Name: count, dtype: int64\n",
            "28.58314272150533\n",
            "71.41685727849467\n"
          ]
        }
      ],
      "source": [
        "from google.colab import drive\n",
        "import pandas as pd\n",
        "\n",
        "# Mount Google Drive\n",
        "drive.mount('/content/drive')\n",
        "\n",
        "# Load the dataset\n",
        "dataset_path = '/content/drive/My Drive/Airline_Reviews_Labeled.csv'\n",
        "  # Update with your dataset path\n",
        "data = pd.read_csv(dataset_path)\n",
        "\n",
        "\n",
        "class_distribution = data['sarcasm'].value_counts()\n",
        "print(class_distribution)\n",
        "\n",
        "minority_class_percentage = (class_distribution.min() / len(data)) * 100\n",
        "print(minority_class_percentage)\n",
        "\n",
        "majority_class_percentage = (class_distribution.max() / len(data)) * 100\n",
        "print(majority_class_percentage)"
      ]
    },
    {
      "cell_type": "code",
      "execution_count": 2,
      "metadata": {
        "colab": {
          "base_uri": "https://localhost:8080/",
          "height": 564
        },
        "id": "PgJnZbvI3O38",
        "outputId": "cf078cd9-a79c-49cd-f959-b493bd6d7975"
      },
      "outputs": [
        {
          "output_type": "display_data",
          "data": {
            "text/plain": [
              "<Figure size 600x600 with 1 Axes>"
            ],
            "image/png": "[encoded data removed]"
          },
          "metadata": {}
        }
      ],
      "source": [
        "import matplotlib.pyplot as plt\n",
        "# Plotting the class distribution\n",
        "plt.figure(figsize=(6, 6))\n",
        "class_distribution.plot(kind='bar')\n",
        "plt.title('Class Distribution of Sarcasm')\n",
        "plt.xlabel('Class')\n",
        "plt.ylabel('Number of Samples')\n",
        "plt.xticks(rotation=0)\n",
        "plt.show()"
      ]
    },
    {
      "cell_type": "code",
      "execution_count": 3,
      "metadata": {
        "id": "Mq30NnoVDagB"
      },
      "outputs": [],
      "source": [
        "# List of columns to drop\n",
        "columns_to_drop = [\n",
        "    'Unnamed: 0','Airline Name','Overall_Rating','Review_Title','Review Date',\n",
        "    'Verified','Aircraft','Type Of Traveller','Route', 'Seat Type', 'Date Flown',\n",
        "    'Seat Comfort','Cabin Staff Service', 'Food & Beverages',\n",
        "    'Ground Service', 'Inflight Entertainment',\n",
        "    'Wifi & Connectivity', 'Value For Money','Recommended',\n",
        "]\n",
        "\n",
        "# Drop columns\n",
        "data = data.drop(columns=columns_to_drop, errors='ignore')\n"
      ]
    },
    {
      "cell_type": "markdown",
      "metadata": {
        "id": "wc2tBGIO3f7f"
      },
      "source": [
        "Taking Subset of the Dateset"
      ]
    },
    {
      "cell_type": "code",
      "execution_count": 4,
      "metadata": {
        "id": "VmTLTEg_38lX"
      },
      "outputs": [],
      "source": [
        "# Randomly sample 8000 records\n",
        "sampled_data = data.sample(n=20000, random_state=42)"
      ]
    },
    {
      "cell_type": "markdown",
      "metadata": {
        "id": "rXsovL-j3kqE"
      },
      "source": [
        "Spliting into train and test data"
      ]
    },
    {
      "cell_type": "code",
      "execution_count": 5,
      "metadata": {
        "id": "UDnAKG1X3-3L"
      },
      "outputs": [],
      "source": [
        "from sklearn.model_selection import train_test_split\n",
        "\n",
        "# Split the dataset\n",
        "X_train, X_test, y_train, y_test = train_test_split(sampled_data['Review'], sampled_data['sarcasm'], test_size=0.2, random_state=42)\n"
      ]
    },
    {
      "cell_type": "code",
      "execution_count": 6,
      "metadata": {
        "id": "0OzqMKBd4Bkv"
      },
      "outputs": [],
      "source": [
        "# Convert to DataFrame for preprocessing\n",
        "train_data = pd.DataFrame({'text': X_train, 'label': y_train})"
      ]
    },
    {
      "cell_type": "code",
      "execution_count": 7,
      "metadata": {
        "id": "jlL5XJ354DXZ"
      },
      "outputs": [],
      "source": [
        "# Convert to DataFrame for preprocessing\n",
        "test_data = pd.DataFrame({'text': X_test, 'label': y_test})"
      ]
    },
    {
      "cell_type": "markdown",
      "metadata": {
        "id": "qGeM5zGy3wwy"
      },
      "source": [
        "# Data Visualization"
      ]
    },
    {
      "cell_type": "code",
      "execution_count": 8,
      "metadata": {
        "colab": {
          "base_uri": "https://localhost:8080/"
        },
        "id": "XR4vJfkd4PNT",
        "outputId": "0c4f4128-2742-4f88-fd28-6b67dccb198f"
      },
      "outputs": [
        {
          "output_type": "stream",
          "name": "stdout",
          "text": [
            "              label\n",
            "count  16000.000000\n",
            "mean       0.711500\n",
            "std        0.453079\n",
            "min        0.000000\n",
            "25%        0.000000\n",
            "50%        1.000000\n",
            "75%        1.000000\n",
            "max        1.000000\n"
          ]
        }
      ],
      "source": [
        "# Describe the dataset\n",
        "print(train_data.describe())"
      ]
    },
    {
      "cell_type": "code",
      "execution_count": 9,
      "metadata": {
        "colab": {
          "base_uri": "https://localhost:8080/"
        },
        "id": "vYLtzhZy4SA4",
        "outputId": "b202c0c1-f08c-4b15-fc98-3d50d7518b22"
      },
      "outputs": [
        {
          "output_type": "stream",
          "name": "stdout",
          "text": [
            "(16000, 2)\n"
          ]
        }
      ],
      "source": [
        "# Shape of the dataset\n",
        "print(train_data.shape)"
      ]
    },
    {
      "cell_type": "code",
      "execution_count": 10,
      "metadata": {
        "colab": {
          "base_uri": "https://localhost:8080/",
          "height": 467
        },
        "id": "pdlrObQI4UOq",
        "outputId": "fd5d469f-f553-4049-b39c-8daac3a85336"
      },
      "outputs": [
        {
          "output_type": "display_data",
          "data": {
            "text/plain": [
              "<Figure size 640x480 with 1 Axes>"
            ],
            "image/png": "[encoded data removed]"
          },
          "metadata": {}
        }
      ],
      "source": [
        "import matplotlib.pyplot as plt\n",
        "# Distribution of labels\n",
        "train_data['label'].value_counts().plot(kind='bar')\n",
        "plt.title('Distribution of Labels')\n",
        "plt.xlabel('Label')\n",
        "plt.ylabel('Count')\n",
        "plt.show()\n"
      ]
    },
    {
      "cell_type": "code",
      "execution_count": 11,
      "metadata": {
        "colab": {
          "base_uri": "https://localhost:8080/",
          "height": 472
        },
        "id": "xquSVjbI4ZPN",
        "outputId": "2f903c34-75d1-48cc-e041-42d74ecbe72a"
      },
      "outputs": [
        {
          "output_type": "display_data",
          "data": {
            "text/plain": [
              "<Figure size 640x480 with 1 Axes>"
            ],
            "image/png": "[encoded data removed]"
          },
          "metadata": {}
        }
      ],
      "source": [
        "import matplotlib.pyplot as plt\n",
        "\n",
        "# Length of reviews\n",
        "train_data['review_length'] = train_data['text'].apply(len)\n",
        "plt.hist(train_data['review_length'], bins=50)\n",
        "plt.title('Length of Reviews')\n",
        "plt.xlabel('Length')\n",
        "plt.ylabel('Frequency')\n",
        "plt.show()\n"
      ]
    },
    {
      "cell_type": "code",
      "execution_count": 12,
      "metadata": {
        "colab": {
          "base_uri": "https://localhost:8080/"
        },
        "id": "V5LBPkLL4bhQ",
        "outputId": "7787eff3-8820-4662-a13f-a10ded1a2797"
      },
      "outputs": [
        {
          "output_type": "stream",
          "name": "stdout",
          "text": [
            "text             0\n",
            "label            0\n",
            "review_length    0\n",
            "dtype: int64\n"
          ]
        }
      ],
      "source": [
        "# Check for missing values\n",
        "print(train_data.isnull().sum())\n"
      ]
    },
    {
      "cell_type": "code",
      "execution_count": 13,
      "metadata": {
        "colab": {
          "base_uri": "https://localhost:8080/"
        },
        "id": "PjJTbpBv4dJL",
        "outputId": "b4eaa81a-1d6c-4efa-8cbc-86bcac13c60b"
      },
      "outputs": [
        {
          "output_type": "stream",
          "name": "stdout",
          "text": [
            "53\n"
          ]
        }
      ],
      "source": [
        "\n",
        "# Check for duplicates\n",
        "print(train_data.duplicated().sum())\n",
        "\n",
        "# Remove duplicates\n",
        "train_data = train_data.drop_duplicates()\n"
      ]
    },
    {
      "cell_type": "markdown",
      "metadata": {
        "id": "l0U6SFxK37y-"
      },
      "source": [
        "# Data Cleaning"
      ]
    },
    {
      "cell_type": "code",
      "execution_count": 14,
      "metadata": {
        "colab": {
          "base_uri": "https://localhost:8080/"
        },
        "id": "8nvAQlec4hWy",
        "outputId": "fe7564d2-7a00-4ebd-d574-dd59c9087a4f"
      },
      "outputs": [
        {
          "output_type": "stream",
          "name": "stderr",
          "text": [
            "[nltk_data] Downloading package stopwords to /root/nltk_data...\n",
            "[nltk_data]   Unzipping corpora/stopwords.zip.\n"
          ]
        }
      ],
      "source": [
        "import re\n",
        "from bs4 import BeautifulSoup\n",
        "import nltk\n",
        "nltk.download('stopwords')\n",
        "from nltk.corpus import stopwords\n",
        "\n",
        "# Load stopwords\n",
        "stop_words = set(stopwords.words('english'))\n",
        "\n",
        "def clean_text(text):\n",
        "    text = BeautifulSoup(text, \"html.parser\").get_text()  # Remove HTML tags\n",
        "    text = re.sub(r\"http\\S+|www\\S+|https\\S+\", '', text, flags=re.MULTILINE)  # Remove URLs\n",
        "    text = re.sub(r'\\@\\w+|\\#','', text)  # Remove mentions and hashtags\n",
        "    text = re.sub(r'[^A-Za-z0-9]+', ' ', text)  # Remove special characters\n",
        "    text = text.lower()  # Convert to lowercase\n",
        "    # Remove stopwords\n",
        "    text = ' '.join([word for word in text.split() if word not in stop_words])\n",
        "    return text\n"
      ]
    },
    {
      "cell_type": "markdown",
      "metadata": {
        "id": "3yrz_QOF33am"
      },
      "source": [
        "#Data Preprocessing"
      ]
    },
    {
      "cell_type": "code",
      "execution_count": 15,
      "metadata": {
        "colab": {
          "base_uri": "https://localhost:8080/",
          "height": 356,
          "referenced_widgets": [
            "a20fb55c4203423b96e4d9ad3b13d4b1",
            "86a89ad07d8a49bca968bc659854badd",
            "95f520b004e948f68571775c980d8d59",
            "a4275a2a7a7b418891c28cc89d3249b4",
            "586351406d93497299908684d95546e4",
            "3511c8dc7bd2470aa88e868fdaea4719",
            "dd7903c25cc54f8da2908ede82dd716e",
            "9c7f7cda5b10402497a2e9ac459ce721",
            "26cf88e8eaae4173a5ad6514176c09c9",
            "05916dfa81f04e20b9b0c071e40c5c6b",
            "4c9937842b2e466087d055efdea5a5f2",
            "435a1e07da144612a19887b4f940dd54",
            "876130ad2cde4a4bba99c706135bc8f0",
            "b28723e4f8794aeb89ea185ca9909858",
            "1a268101597f4642bee184ab4341a9f3",
            "0ddcf899ebab4efcb0cf45e974003a10",
            "77cf7db43def4d08a4b09995f402e1d7",
            "909a04afe53c4088909726c239e1d429",
            "b8c53cc77c364b2bacc79b4a8a647a98",
            "9f907080009b4d65aae29e7a28572033",
            "0e8f1c2454a1471da4713a4c8a0a9af0",
            "0769ac34d82049e0b447d42815fdbef9",
            "1329f31f1334486dbc2b6f5184032826",
            "a00a0f7066dc4d0085b51c606d1d66e6",
            "b66bf00d28af4f41b3e1e75f0f28fbcb",
            "f94168063a2d4d7f94949b01e297d470",
            "21fee96f389e4b6c9b815e58172b7aa1",
            "2552af6f3ab34418bd23c42bc5793343",
            "7ccf44b8537f44e1baf1360efdcea374",
            "4f817090c3f74a0e99578c52a4a019d5",
            "f8bc60149903447f9506c076db50f31a",
            "8c59e48a85b649089564a26979399f74",
            "9c2b4fc6cc194e0c8c37b6c3a0f8ffad",
            "4a6e14304af248e8902d3e3fd1aca8f5",
            "710a9d6909314c538c09304946529f59",
            "a3dbcac7b274402681e9e5c368d7f114",
            "f5b1775710a74dca86fd3cd7391a543e",
            "3bc523ee6c9c45b98e74f1c66d649e76",
            "56a33f915f0e43e9b60652432a019a14",
            "139dd08e02a643529919942e3bbdce42",
            "40fbee913e3c41d5bca38dffdc1dc973",
            "d0f916dd70024f028441a31834d10f8f",
            "f40c7fe55f684a799649f62567ae7640",
            "77883cf457004da6b1ed905e2e9cbbd2"
          ]
        },
        "id": "TiK_9PI-4ybZ",
        "outputId": "fcf07fa1-a738-475a-9651-e8d528e64b06"
      },
      "outputs": [
        {
          "output_type": "stream",
          "name": "stderr",
          "text": [
            "/usr/local/lib/python3.10/dist-packages/huggingface_hub/utils/_token.py:89: UserWarning: \n",
            "The secret `HF_TOKEN` does not exist in your Colab secrets.\n",
            "To authenticate with the Hugging Face Hub, create a token in your settings tab (https://huggingface.co/settings/tokens), set it as secret in your Google Colab and restart your session.\n",
            "You will be able to reuse this secret in all of your notebooks.\n",
            "Please note that authentication is recommended but still optional to access public models or datasets.\n",
            "  warnings.warn(\n"
          ]
        },
        {
          "output_type": "display_data",
          "data": {
            "text/plain": [
              "tokenizer_config.json:   0%|          | 0.00/48.0 [00:00<?, ?B/s]"
            ],
            "application/vnd.jupyter.widget-view+json": {
              "version_major": 2,
              "version_minor": 0,
              "model_id": "a20fb55c4203423b96e4d9ad3b13d4b1"
            }
          },
          "metadata": {}
        },
        {
          "output_type": "display_data",
          "data": {
            "text/plain": [
              "vocab.txt:   0%|          | 0.00/232k [00:00<?, ?B/s]"
            ],
            "application/vnd.jupyter.widget-view+json": {
              "version_major": 2,
              "version_minor": 0,
              "model_id": "435a1e07da144612a19887b4f940dd54"
            }
          },
          "metadata": {}
        },
        {
          "output_type": "display_data",
          "data": {
            "text/plain": [
              "tokenizer.json:   0%|          | 0.00/466k [00:00<?, ?B/s]"
            ],
            "application/vnd.jupyter.widget-view+json": {
              "version_major": 2,
              "version_minor": 0,
              "model_id": "1329f31f1334486dbc2b6f5184032826"
            }
          },
          "metadata": {}
        },
        {
          "output_type": "stream",
          "name": "stderr",
          "text": [
            "/usr/local/lib/python3.10/dist-packages/huggingface_hub/file_download.py:1132: FutureWarning: `resume_download` is deprecated and will be removed in version 1.0.0. Downloads always resume when possible. If you want to force a new download, use `force_download=True`.\n",
            "  warnings.warn(\n"
          ]
        },
        {
          "output_type": "display_data",
          "data": {
            "text/plain": [
              "config.json:   0%|          | 0.00/570 [00:00<?, ?B/s]"
            ],
            "application/vnd.jupyter.widget-view+json": {
              "version_major": 2,
              "version_minor": 0,
              "model_id": "4a6e14304af248e8902d3e3fd1aca8f5"
            }
          },
          "metadata": {}
        },
        {
          "output_type": "stream",
          "name": "stderr",
          "text": [
            "<ipython-input-14-12dab4262dd2>:11: MarkupResemblesLocatorWarning: The input looks more like a filename than markup. You may want to open this file and pass the filehandle into Beautiful Soup.\n",
            "  text = BeautifulSoup(text, \"html.parser\").get_text()  # Remove HTML tags\n",
            "Token indices sequence length is longer than the specified maximum sequence length for this model (523 > 512). Running this sequence through the model will result in indexing errors\n"
          ]
        }
      ],
      "source": [
        "from transformers import BertTokenizer\n",
        "\n",
        "# Load the BERT tokenizer\n",
        "tokenizer = BertTokenizer.from_pretrained('bert-base-uncased')\n",
        "\n",
        "# Apply text cleaning and stopword removal\n",
        "train_data['clean_text'] = train_data['text'].apply(clean_text)\n",
        "\n",
        "# Tokenize the text\n",
        "train_data['tokenized_text'] = train_data['clean_text'].apply(lambda x: tokenizer.encode(x, add_special_tokens=True))\n",
        "\n"
      ]
    },
    {
      "cell_type": "code",
      "execution_count": 16,
      "metadata": {
        "id": "c4gX9LYA41bp"
      },
      "outputs": [],
      "source": [
        "from sklearn.preprocessing import LabelEncoder\n",
        "\n",
        "# Encode the labels\n",
        "label_encoder = LabelEncoder()\n",
        "train_data['encoded_label'] = label_encoder.fit_transform(train_data['label'])\n"
      ]
    },
    {
      "cell_type": "markdown",
      "metadata": {
        "id": "mwXfywzz4AeX"
      },
      "source": [
        "##Text Vecotorization"
      ]
    },
    {
      "cell_type": "code",
      "execution_count": 17,
      "metadata": {
        "id": "3sDNgxLu434f",
        "colab": {
          "base_uri": "https://localhost:8080/"
        },
        "outputId": "bc16732b-c93e-42fd-833e-5d2d59670946"
      },
      "outputs": [
        {
          "output_type": "stream",
          "name": "stdout",
          "text": [
            "                                                    text  label  \\\n",
            "2039   I was flying from Beijing to Pyongyang with a ...      0   \n",
            "1692     Will definitely fly again with them. Very pr...      1   \n",
            "8917     My flight was cancelled on September 10 and ...      1   \n",
            "4132    I am not able to do web check in and their cu...      1   \n",
            "6442   First flight was an overnight flight from Toro...      0   \n",
            "...                                                  ...    ...   \n",
            "10282    Flew economy from Perth to Denpasar return a...      1   \n",
            "11199   I was really looking forward to this flight a...      0   \n",
            "11800    Can never say enough good comments about Jap...      0   \n",
            "2862   Seychelles to Paris. A middle age Boeing 767 c...      0   \n",
            "3677    Airlink is an up and coming airline in Southe...      0   \n",
            "\n",
            "       review_length                                         clean_text  \\\n",
            "2039             177  flying beijing pyongyang tupolev 204 300 aircr...   \n",
            "1692             284  definitely fly professional cabin crew comfort...   \n",
            "8917             194  flight cancelled september 10 promised refund ...   \n",
            "4132             328  able web check customer care number hold like ...   \n",
            "6442             973  first flight overnight flight toronto trinidad...   \n",
            "...              ...                                                ...   \n",
            "10282            864  flew economy perth denpasar return paid 430 ex...   \n",
            "11199           2579  really looking forward flight fly madrid londo...   \n",
            "11800            325  never say enough good comments japan airlines ...   \n",
            "2862             258  seychelles paris middle age boeing 767 clean s...   \n",
            "3677            1191  airlink coming airline southern africa expandi...   \n",
            "\n",
            "                                          tokenized_text  encoded_label  \\\n",
            "2039   [101, 3909, 7211, 1052, 14001, 6292, 5654, 107...              0   \n",
            "1692   [101, 5791, 4875, 2658, 6644, 3626, 6625, 4272...              1   \n",
            "8917   [101, 3462, 8014, 2244, 2184, 5763, 25416, 863...              1   \n",
            "4132   [101, 2583, 4773, 4638, 8013, 2729, 2193, 2907...              1   \n",
            "6442   [101, 2034, 3462, 11585, 3462, 4361, 11856, 22...              0   \n",
            "...                                                  ...            ...   \n",
            "10282  [101, 5520, 4610, 9300, 7939, 19707, 2906, 270...              1   \n",
            "11199  [101, 2428, 2559, 2830, 3462, 4875, 6921, 2414...              0   \n",
            "11800  [101, 2196, 2360, 2438, 2204, 7928, 2900, 7608...              0   \n",
            "2862   [101, 27438, 3000, 2690, 2287, 10321, 6146, 25...              0   \n",
            "3677   [101, 2250, 13767, 2746, 8582, 2670, 3088, 918...              0   \n",
            "\n",
            "                                                word2vec  \n",
            "2039   [-0.32628894, 0.5813986, -0.20465542, 0.105234...  \n",
            "1692   [-0.39645174, 0.40720895, 0.0306427, 0.656278,...  \n",
            "8917   [-0.06530136, 0.19386296, -0.989732, 0.5971798...  \n",
            "4132   [-0.44141963, -0.24569553, -0.073681206, 0.251...  \n",
            "6442   [-0.24506855, 0.05726286, -0.031437155, 0.5788...  \n",
            "...                                                  ...  \n",
            "10282  [-0.2240801, 0.44536576, 0.053222355, 0.206095...  \n",
            "11199  [-0.15095809, 0.22867987, 0.06018346, 0.443437...  \n",
            "11800  [-0.4345686, -0.053186752, 0.023778383, 0.3952...  \n",
            "2862   [-0.22877115, 0.5371812, -0.09291098, 0.592657...  \n",
            "3677   [-0.23163755, 0.24884662, 0.14212267, 0.424839...  \n",
            "\n",
            "[15947 rows x 7 columns]\n"
          ]
        }
      ],
      "source": [
        "import pandas as pd\n",
        "from gensim.models import Word2Vec\n",
        "from gensim.utils import simple_preprocess\n",
        "import numpy as np\n",
        "\n",
        "# Prepare data for Word2Vec\n",
        "sentences = train_data['tokenized_text'].tolist()\n",
        "\n",
        "# Train Word2Vec model\n",
        "word2vec_model = Word2Vec(sentences, vector_size=100, window=5, min_count=1, workers=4)\n",
        "\n",
        "def get_word2vec_vector(tokens):\n",
        "    vectors = [word2vec_model.wv[word] for word in tokens if word in word2vec_model.wv]\n",
        "    if len(vectors) == 0:\n",
        "        return np.zeros(100)  # Assuming vector_size is 100\n",
        "    return np.mean(vectors, axis=0)\n",
        "\n",
        "# Apply the function to get Word2Vec vectors for the training data\n",
        "train_data['word2vec'] = train_data['tokenized_text'].apply(get_word2vec_vector)\n",
        "\n",
        "print(train_data)\n",
        "\n"
      ]
    },
    {
      "cell_type": "markdown",
      "metadata": {
        "id": "OvU9wwU-4FLI"
      },
      "source": [
        "## Handling Imbalanced Data"
      ]
    },
    {
      "cell_type": "code",
      "execution_count": 18,
      "metadata": {
        "id": "8VaJpUZY45dq"
      },
      "outputs": [],
      "source": [
        "from imblearn.over_sampling import SMOTE\n",
        "\n",
        "# Balance the dataset using SMOTE\n",
        "smote = SMOTE(random_state=42)\n",
        "X_resampled, y_resampled = smote.fit_resample(train_data['word2vec'].tolist(), train_data['encoded_label'])\n"
      ]
    },
    {
      "cell_type": "markdown",
      "metadata": {
        "id": "L3P6Gykh4JWE"
      },
      "source": [
        "#Training and Testing Deep Learning Models\n",
        "\n",
        "##1. Simple Neural Network"
      ]
    },
    {
      "cell_type": "code",
      "source": [
        "from keras.models import Sequential\n",
        "from keras.layers import Dense, Dropout, BatchNormalization\n",
        "from keras.callbacks import EarlyStopping, ReduceLROnPlateau\n",
        "from keras.optimizers import Adam\n",
        "from sklearn.metrics import f1_score\n",
        "import numpy as np\n",
        "import matplotlib.pyplot as plt\n",
        "\n",
        "# Assuming X_resampled and y_resampled are already defined and preprocessed\n",
        "\n",
        "# Convert lists to numpy arrays\n",
        "X_resampled = np.array(X_resampled)\n",
        "y_resampled = np.array(y_resampled)\n",
        "\n",
        "# Convert labels to categorical one-hot encoding\n",
        "num_classes = len(np.unique(y_resampled))\n",
        "\n",
        "def to_categorical(y, num_classes):\n",
        "    return np.eye(num_classes)[y]\n",
        "\n",
        "y_resampled_categorical = to_categorical(y_resampled, num_classes)\n",
        "\n",
        "# Define the model architecture with Early Stopping and Batch Normalization\n",
        "model = Sequential()\n",
        "\n",
        "model.add(Dense(128, activation='relu', input_shape=(X_resampled.shape[1],)))\n",
        "model.add(BatchNormalization())\n",
        "model.add(Dropout(0.2))\n",
        "model.add(Dense(64, activation='relu'))\n",
        "model.add(BatchNormalization())\n",
        "model.add(Dropout(0.2))\n",
        "model.add(Dense(32, activation='relu'))\n",
        "model.add(BatchNormalization())\n",
        "model.add(Dropout(0.2))\n",
        "model.add(Dense(16, activation='relu'))\n",
        "model.add(BatchNormalization())\n",
        "model.add(Dropout(0.2))\n",
        "model.add(Dense(8, activation='relu'))\n",
        "model.add(Dense(num_classes, activation='softmax'))\n",
        "\n",
        "# Print the model summary\n",
        "model.summary()\n",
        "\n",
        "# Compile the model with a lower learning rate\n",
        "adam_optimizer = Adam(learning_rate=0.0001)  # Adjust the learning rate as needed\n",
        "model.compile(optimizer=adam_optimizer, loss='categorical_crossentropy', metrics=['accuracy'])\n",
        "\n",
        "# Define Early Stopping callback with min_delta and ReduceLROnPlateau\n",
        "early_stop = EarlyStopping(monitor='val_loss', patience=7, min_delta=0.001, verbose=1)\n",
        "reduce_lr = ReduceLROnPlateau(monitor='val_loss', factor=0.2, patience=5, min_lr=0.0001, verbose=1)\n",
        "\n",
        "# Train the model with Early Stopping and Learning Rate Scheduler\n",
        "history = model.fit(X_resampled, y_resampled_categorical, epochs=50, batch_size=32,\n",
        "                    validation_split=0.2, callbacks=[early_stop, reduce_lr])\n",
        "\n",
        "# Evaluate the model\n",
        "loss, accuracy = model.evaluate(X_resampled, y_resampled_categorical)\n",
        "print(f'Model accuracy: {accuracy:.2f}')\n",
        "\n",
        "# Make predictions\n",
        "y_pred = model.predict(X_resampled)\n",
        "y_pred_labels = np.argmax(y_pred, axis=1)\n",
        "y_true_labels = np.argmax(y_resampled_categorical, axis=1)\n",
        "\n",
        "# Calculate the F1 score\n",
        "f1 = f1_score(y_true_labels, y_pred_labels, average='weighted')\n",
        "print(f'F1 score: {f1:.2f}')\n",
        "\n",
        "# Plot training & validation loss values\n",
        "plt.figure(figsize=(12, 5))\n",
        "plt.subplot(1, 2, 1)\n",
        "plt.plot(history.history['loss'], label='Training Loss')\n",
        "plt.plot(history.history['val_loss'], label='Validation Loss')\n",
        "plt.title('Model Loss')\n",
        "plt.xlabel('Epoch')\n",
        "plt.ylabel('Loss')\n",
        "plt.legend()\n",
        "\n",
        "# Plot training & validation accuracy values\n",
        "plt.subplot(1, 2, 2)\n",
        "plt.plot(history.history['accuracy'], label='Training Accuracy')\n",
        "plt.plot(history.history['val_accuracy'], label='Validation Accuracy')\n",
        "plt.title('Model Accuracy')\n",
        "plt.xlabel('Epoch')\n",
        "plt.ylabel('Accuracy')\n",
        "plt.legend()\n",
        "\n",
        "plt.show()\n"
      ],
      "metadata": {
        "colab": {
          "base_uri": "https://localhost:8080/",
          "height": 1000
        },
        "id": "GR2tRLSBLhsX",
        "outputId": "89782a6b-de2b-4cd3-dc8c-bb3cf8a218c9"
      },
      "execution_count": 22,
      "outputs": [
        {
          "output_type": "stream",
          "name": "stdout",
          "text": [
            "Model: \"sequential_3\"\n",
            "_________________________________________________________________\n",
            " Layer (type)                Output Shape              Param #   \n",
            "=================================================================\n",
            " dense_18 (Dense)            (None, 128)               12928     \n",
            "                                                                 \n",
            " batch_normalization_12 (Ba  (None, 128)               512       \n",
            " tchNormalization)                                               \n",
            "                                                                 \n",
            " dropout_9 (Dropout)         (None, 128)               0         \n",
            "                                                                 \n",
            " dense_19 (Dense)            (None, 64)                8256      \n",
            "                                                                 \n",
            " batch_normalization_13 (Ba  (None, 64)                256       \n",
            " tchNormalization)                                               \n",
            "                                                                 \n",
            " dropout_10 (Dropout)        (None, 64)                0         \n",
            "                                                                 \n",
            " dense_20 (Dense)            (None, 32)                2080      \n",
            "                                                                 \n",
            " batch_normalization_14 (Ba  (None, 32)                128       \n",
            " tchNormalization)                                               \n",
            "                                                                 \n",
            " dropout_11 (Dropout)        (None, 32)                0         \n",
            "                                                                 \n",
            " dense_21 (Dense)            (None, 16)                528       \n",
            "                                                                 \n",
            " batch_normalization_15 (Ba  (None, 16)                64        \n",
            " tchNormalization)                                               \n",
            "                                                                 \n",
            " dropout_12 (Dropout)        (None, 16)                0         \n",
            "                                                                 \n",
            " dense_22 (Dense)            (None, 8)                 136       \n",
            "                                                                 \n",
            " dense_23 (Dense)            (None, 2)                 18        \n",
            "                                                                 \n",
            "=================================================================\n",
            "Total params: 24906 (97.29 KB)\n",
            "Trainable params: 24426 (95.41 KB)\n",
            "Non-trainable params: 480 (1.88 KB)\n",
            "_________________________________________________________________\n",
            "Epoch 1/50\n",
            "568/568 [==============================] - 16s 9ms/step - loss: 0.5845 - accuracy: 0.6874 - val_loss: 0.5225 - val_accuracy: 0.8104 - lr: 1.0000e-04\n",
            "Epoch 2/50\n",
            "568/568 [==============================] - 3s 6ms/step - loss: 0.4554 - accuracy: 0.7865 - val_loss: 0.4340 - val_accuracy: 0.8615 - lr: 1.0000e-04\n",
            "Epoch 3/50\n",
            "568/568 [==============================] - 4s 7ms/step - loss: 0.4109 - accuracy: 0.8154 - val_loss: 0.3994 - val_accuracy: 0.8795 - lr: 1.0000e-04\n",
            "Epoch 4/50\n",
            "568/568 [==============================] - 4s 7ms/step - loss: 0.3832 - accuracy: 0.8314 - val_loss: 0.3787 - val_accuracy: 0.8934 - lr: 1.0000e-04\n",
            "Epoch 5/50\n",
            "568/568 [==============================] - 3s 5ms/step - loss: 0.3692 - accuracy: 0.8450 - val_loss: 0.3661 - val_accuracy: 0.8991 - lr: 1.0000e-04\n",
            "Epoch 6/50\n",
            "568/568 [==============================] - 3s 5ms/step - loss: 0.3608 - accuracy: 0.8461 - val_loss: 0.3585 - val_accuracy: 0.9015 - lr: 1.0000e-04\n",
            "Epoch 7/50\n",
            "568/568 [==============================] - 3s 5ms/step - loss: 0.3576 - accuracy: 0.8506 - val_loss: 0.3504 - val_accuracy: 0.9062 - lr: 1.0000e-04\n",
            "Epoch 8/50\n",
            "568/568 [==============================] - 4s 7ms/step - loss: 0.3484 - accuracy: 0.8554 - val_loss: 0.3516 - val_accuracy: 0.9042 - lr: 1.0000e-04\n",
            "Epoch 9/50\n",
            "568/568 [==============================] - 4s 6ms/step - loss: 0.3453 - accuracy: 0.8531 - val_loss: 0.3585 - val_accuracy: 0.8978 - lr: 1.0000e-04\n",
            "Epoch 10/50\n",
            "568/568 [==============================] - 3s 6ms/step - loss: 0.3413 - accuracy: 0.8564 - val_loss: 0.3358 - val_accuracy: 0.9040 - lr: 1.0000e-04\n",
            "Epoch 11/50\n",
            "568/568 [==============================] - 4s 7ms/step - loss: 0.3388 - accuracy: 0.8600 - val_loss: 0.3546 - val_accuracy: 0.8960 - lr: 1.0000e-04\n",
            "Epoch 12/50\n",
            "568/568 [==============================] - 4s 6ms/step - loss: 0.3319 - accuracy: 0.8624 - val_loss: 0.3406 - val_accuracy: 0.9064 - lr: 1.0000e-04\n",
            "Epoch 13/50\n",
            "568/568 [==============================] - 4s 7ms/step - loss: 0.3301 - accuracy: 0.8627 - val_loss: 0.3610 - val_accuracy: 0.8916 - lr: 1.0000e-04\n",
            "Epoch 14/50\n",
            "568/568 [==============================] - 3s 5ms/step - loss: 0.3267 - accuracy: 0.8616 - val_loss: 0.3400 - val_accuracy: 0.9004 - lr: 1.0000e-04\n",
            "Epoch 15/50\n",
            "568/568 [==============================] - 3s 5ms/step - loss: 0.3285 - accuracy: 0.8604 - val_loss: 0.3444 - val_accuracy: 0.9024 - lr: 1.0000e-04\n",
            "Epoch 16/50\n",
            "568/568 [==============================] - 3s 5ms/step - loss: 0.3263 - accuracy: 0.8640 - val_loss: 0.3385 - val_accuracy: 0.9035 - lr: 1.0000e-04\n",
            "Epoch 17/50\n",
            "568/568 [==============================] - 4s 6ms/step - loss: 0.3239 - accuracy: 0.8649 - val_loss: 0.3221 - val_accuracy: 0.9112 - lr: 1.0000e-04\n",
            "Epoch 18/50\n",
            "568/568 [==============================] - 4s 7ms/step - loss: 0.3205 - accuracy: 0.8661 - val_loss: 0.3155 - val_accuracy: 0.9126 - lr: 1.0000e-04\n",
            "Epoch 19/50\n",
            "568/568 [==============================] - 3s 5ms/step - loss: 0.3233 - accuracy: 0.8649 - val_loss: 0.3157 - val_accuracy: 0.9084 - lr: 1.0000e-04\n",
            "Epoch 20/50\n",
            "568/568 [==============================] - 3s 5ms/step - loss: 0.3214 - accuracy: 0.8657 - val_loss: 0.3303 - val_accuracy: 0.9009 - lr: 1.0000e-04\n",
            "Epoch 21/50\n",
            "568/568 [==============================] - 3s 5ms/step - loss: 0.3184 - accuracy: 0.8669 - val_loss: 0.3174 - val_accuracy: 0.9070 - lr: 1.0000e-04\n",
            "Epoch 22/50\n",
            "568/568 [==============================] - 4s 7ms/step - loss: 0.3183 - accuracy: 0.8679 - val_loss: 0.3180 - val_accuracy: 0.9066 - lr: 1.0000e-04\n",
            "Epoch 23/50\n",
            "568/568 [==============================] - 3s 6ms/step - loss: 0.3199 - accuracy: 0.8668 - val_loss: 0.3069 - val_accuracy: 0.9123 - lr: 1.0000e-04\n",
            "Epoch 24/50\n",
            "568/568 [==============================] - 3s 5ms/step - loss: 0.3176 - accuracy: 0.8687 - val_loss: 0.3189 - val_accuracy: 0.9081 - lr: 1.0000e-04\n",
            "Epoch 25/50\n",
            "568/568 [==============================] - 3s 5ms/step - loss: 0.3140 - accuracy: 0.8693 - val_loss: 0.3189 - val_accuracy: 0.9046 - lr: 1.0000e-04\n",
            "Epoch 26/50\n",
            "568/568 [==============================] - 3s 5ms/step - loss: 0.3113 - accuracy: 0.8697 - val_loss: 0.3223 - val_accuracy: 0.9000 - lr: 1.0000e-04\n",
            "Epoch 27/50\n",
            "568/568 [==============================] - 4s 7ms/step - loss: 0.3161 - accuracy: 0.8669 - val_loss: 0.3110 - val_accuracy: 0.9081 - lr: 1.0000e-04\n",
            "Epoch 28/50\n",
            "568/568 [==============================] - 3s 5ms/step - loss: 0.3089 - accuracy: 0.8694 - val_loss: 0.2991 - val_accuracy: 0.9130 - lr: 1.0000e-04\n",
            "Epoch 29/50\n",
            "568/568 [==============================] - 3s 5ms/step - loss: 0.3113 - accuracy: 0.8674 - val_loss: 0.2977 - val_accuracy: 0.9119 - lr: 1.0000e-04\n",
            "Epoch 30/50\n",
            "568/568 [==============================] - 3s 5ms/step - loss: 0.3081 - accuracy: 0.8695 - val_loss: 0.2922 - val_accuracy: 0.9161 - lr: 1.0000e-04\n",
            "Epoch 31/50\n",
            "568/568 [==============================] - 3s 6ms/step - loss: 0.3049 - accuracy: 0.8722 - val_loss: 0.3090 - val_accuracy: 0.9079 - lr: 1.0000e-04\n",
            "Epoch 32/50\n",
            "568/568 [==============================] - 4s 8ms/step - loss: 0.3065 - accuracy: 0.8739 - val_loss: 0.2988 - val_accuracy: 0.9141 - lr: 1.0000e-04\n",
            "Epoch 33/50\n",
            "568/568 [==============================] - 4s 6ms/step - loss: 0.3055 - accuracy: 0.8729 - val_loss: 0.2921 - val_accuracy: 0.9154 - lr: 1.0000e-04\n",
            "Epoch 34/50\n",
            "568/568 [==============================] - 3s 5ms/step - loss: 0.3014 - accuracy: 0.8723 - val_loss: 0.2948 - val_accuracy: 0.9161 - lr: 1.0000e-04\n",
            "Epoch 35/50\n",
            "568/568 [==============================] - 3s 5ms/step - loss: 0.3001 - accuracy: 0.8745 - val_loss: 0.2975 - val_accuracy: 0.9172 - lr: 1.0000e-04\n",
            "Epoch 36/50\n",
            "568/568 [==============================] - 4s 7ms/step - loss: 0.2997 - accuracy: 0.8730 - val_loss: 0.2721 - val_accuracy: 0.9271 - lr: 1.0000e-04\n",
            "Epoch 37/50\n",
            "568/568 [==============================] - 4s 6ms/step - loss: 0.3067 - accuracy: 0.8725 - val_loss: 0.2909 - val_accuracy: 0.9115 - lr: 1.0000e-04\n",
            "Epoch 38/50\n",
            "568/568 [==============================] - 3s 5ms/step - loss: 0.3010 - accuracy: 0.8729 - val_loss: 0.2831 - val_accuracy: 0.9143 - lr: 1.0000e-04\n",
            "Epoch 39/50\n",
            "568/568 [==============================] - 3s 5ms/step - loss: 0.2964 - accuracy: 0.8754 - val_loss: 0.2845 - val_accuracy: 0.9139 - lr: 1.0000e-04\n",
            "Epoch 40/50\n",
            "568/568 [==============================] - 3s 5ms/step - loss: 0.2979 - accuracy: 0.8736 - val_loss: 0.2825 - val_accuracy: 0.9189 - lr: 1.0000e-04\n",
            "Epoch 41/50\n",
            "568/568 [==============================] - 4s 7ms/step - loss: 0.3008 - accuracy: 0.8737 - val_loss: 0.2774 - val_accuracy: 0.9176 - lr: 1.0000e-04\n",
            "Epoch 42/50\n",
            "568/568 [==============================] - 4s 6ms/step - loss: 0.2982 - accuracy: 0.8750 - val_loss: 0.2798 - val_accuracy: 0.9198 - lr: 1.0000e-04\n",
            "Epoch 43/50\n",
            "568/568 [==============================] - 3s 5ms/step - loss: 0.2950 - accuracy: 0.8758 - val_loss: 0.2840 - val_accuracy: 0.9123 - lr: 1.0000e-04\n",
            "Epoch 43: early stopping\n",
            "710/710 [==============================] - 2s 2ms/step - loss: 0.2620 - accuracy: 0.8981\n",
            "Model accuracy: 0.90\n",
            "710/710 [==============================] - 2s 2ms/step\n",
            "F1 score: 0.90\n"
          ]
        },
        {
          "output_type": "display_data",
          "data": {
            "text/plain": [
              "<Figure size 1200x500 with 2 Axes>"
            ],
            "image/png": "[encoded data removed]"
          },
          "metadata": {}
        }
      ]
    },
    {
      "cell_type": "code",
      "execution_count": 23,
      "metadata": {
        "colab": {
          "base_uri": "https://localhost:8080/"
        },
        "id": "C6Tkljg5LVx0",
        "outputId": "68a2c7e6-a2f3-4d50-c213-9d82fe35f533"
      },
      "outputs": [
        {
          "output_type": "stream",
          "name": "stdout",
          "text": [
            "Confusion Matrix:\n",
            "[[10212  1137]\n",
            " [ 1175 10174]]\n",
            "Precision: 0.90\n",
            "Recall: 0.90\n"
          ]
        }
      ],
      "source": [
        "from sklearn.metrics import confusion_matrix, precision_score, recall_score\n",
        "\n",
        "# Confusion matrix\n",
        "conf_matrix = confusion_matrix(y_true_labels, y_pred_labels)\n",
        "print(\"Confusion Matrix:\")\n",
        "print(conf_matrix)\n",
        "\n",
        "# Precision and recall\n",
        "precision = precision_score(y_true_labels, y_pred_labels, average='weighted')\n",
        "recall = recall_score(y_true_labels, y_pred_labels, average='weighted')\n",
        "print(f'Precision: {precision:.2f}')\n",
        "print(f'Recall: {recall:.2f}')\n"
      ]
    },
    {
      "cell_type": "code",
      "source": [
        "# Clean the testing data\n",
        "X_test_clean = X_test.apply(clean_text)\n",
        "\n",
        "# Tokenize the text\n",
        "X_test_tokenized = X_test_clean.apply(lambda x: tokenizer.encode(x, add_special_tokens=True))\n",
        "\n",
        "# Define the expected vector length\n",
        "expected_vector_length = 100  # This should match the vector size used during training\n",
        "\n",
        "# Ensure all vectors are the same length\n",
        "def get_word2vec_vector(tokens):\n",
        "    vectors = [word2vec_model.wv[word] for word in tokens if word in word2vec_model.wv]\n",
        "    if len(vectors) == 0:\n",
        "        return np.zeros(expected_vector_length)  # Assuming vector_size is 100\n",
        "    return np.mean(vectors, axis=0)\n",
        "\n",
        "X_test_vectors = X_test_tokenized.apply(get_word2vec_vector)\n",
        "\n",
        "# Convert to numpy array\n",
        "X_test_vectors = np.array(X_test_vectors.tolist())\n",
        "\n",
        "# Ensure all vectors have the correct length\n",
        "X_test_vectors = np.array([vec if len(vec) == expected_vector_length else np.zeros(expected_vector_length) for vec in X_test_vectors])\n",
        "\n",
        "# Check for NaN values and replace them with zeros if necessary\n",
        "X_test_vectors = np.nan_to_num(X_test_vectors)\n",
        "\n",
        "# Check if all vectors have the correct shape\n",
        "print(\"Shape of X_test_vectors:\", X_test_vectors.shape)\n"
      ],
      "metadata": {
        "colab": {
          "base_uri": "https://localhost:8080/"
        },
        "id": "SpO5mFdYfHOr",
        "outputId": "7d304a79-f367-4e5e-9cbd-fbaf291e95c0"
      },
      "execution_count": 27,
      "outputs": [
        {
          "output_type": "stream",
          "name": "stderr",
          "text": [
            "<ipython-input-14-12dab4262dd2>:11: MarkupResemblesLocatorWarning: The input looks more like a filename than markup. You may want to open this file and pass the filehandle into Beautiful Soup.\n",
            "  text = BeautifulSoup(text, \"html.parser\").get_text()  # Remove HTML tags\n"
          ]
        },
        {
          "output_type": "stream",
          "name": "stdout",
          "text": [
            "Shape of X_test_vectors: (4000, 100)\n"
          ]
        }
      ]
    },
    {
      "cell_type": "code",
      "source": [
        "# Convert labels to categorical one-hot encoding\n",
        "num_classes = len(np.unique(y_resampled))  # Ensure this matches the training data\n",
        "y_test_categorical = to_categorical(y_test, num_classes)\n",
        "# Evaluate the model on the testing data\n",
        "loss, accuracy = model.evaluate(X_test_vectors, y_test_categorical)\n",
        "print(f'Test Accuracy: {accuracy:.2f}')\n",
        "# Make predictions on the test set\n",
        "y_test_pred = model.predict(X_test_vectors)\n",
        "\n",
        "# Convert predictions and true labels from categorical to labels\n",
        "y_test_pred_labels = np.argmax(y_test_pred, axis=1)\n",
        "y_test_labels = np.argmax(y_test_categorical, axis=1)\n",
        "\n",
        "# Generate and print classification report\n",
        "from sklearn.metrics import classification_report\n",
        "report = classification_report(y_test_labels, y_test_pred_labels)\n",
        "print('Classification Report:')\n",
        "print(report)\n"
      ],
      "metadata": {
        "colab": {
          "base_uri": "https://localhost:8080/"
        },
        "id": "yIztWMaulBfE",
        "outputId": "77f07e3a-ef39-4cd1-9b0c-760cf75da66a"
      },
      "execution_count": 25,
      "outputs": [
        {
          "output_type": "stream",
          "name": "stdout",
          "text": [
            "125/125 [==============================] - 0s 2ms/step - loss: 0.2808 - accuracy: 0.8758\n",
            "Test Accuracy: 0.88\n",
            "125/125 [==============================] - 0s 2ms/step\n",
            "Classification Report:\n",
            "              precision    recall  f1-score   support\n",
            "\n",
            "           0       0.74      0.85      0.79      1100\n",
            "           1       0.94      0.89      0.91      2900\n",
            "\n",
            "    accuracy                           0.88      4000\n",
            "   macro avg       0.84      0.87      0.85      4000\n",
            "weighted avg       0.88      0.88      0.88      4000\n",
            "\n"
          ]
        }
      ]
    },
    {
      "cell_type": "markdown",
      "metadata": {
        "id": "wuxYuaTh4crt"
      },
      "source": [
        "##2. LSTM"
      ]
    },
    {
      "cell_type": "code",
      "source": [
        "from keras.models import Sequential\n",
        "from keras.layers import LSTM, Dense, BatchNormalization\n",
        "from keras.callbacks import EarlyStopping, ReduceLROnPlateau\n",
        "from keras.optimizers import Adam\n",
        "from sklearn.metrics import f1_score\n",
        "import numpy as np\n",
        "import matplotlib.pyplot as plt\n",
        "\n",
        "# Assuming X_resampled and y_resampled are already defined and preprocessed\n",
        "\n",
        "# Convert lists to numpy arrays\n",
        "X_resampled = np.array(X_resampled)\n",
        "y_resampled = np.array(y_resampled)\n",
        "\n",
        "# Convert labels to categorical one-hot encoding\n",
        "num_classes = len(np.unique(y_resampled))\n",
        "\n",
        "def to_categorical(y, num_classes):\n",
        "    return np.eye(num_classes)[y]\n",
        "\n",
        "y_resampled_categorical = to_categorical(y_resampled, num_classes)\n",
        "\n",
        "# Define the LSTM model architecture\n",
        "lstm_model = Sequential()\n",
        "lstm_model.add(LSTM(128, activation='relu', input_shape=(X_resampled.shape[1], 1), return_sequences=True))\n",
        "lstm_model.add(BatchNormalization())\n",
        "lstm_model.add(LSTM(64, activation='relu'))\n",
        "lstm_model.add(BatchNormalization())\n",
        "lstm_model.add(Dense(num_classes, activation='softmax'))\n",
        "\n",
        "# Print the model summary\n",
        "lstm_model.summary()\n",
        "\n",
        "# Compile the model with a lower learning rate\n",
        "adam_optimizer = Adam(learning_rate=0.0001)  # Adjust the learning rate as needed\n",
        "lstm_model.compile(optimizer=adam_optimizer, loss='categorical_crossentropy', metrics=['accuracy'])\n",
        "\n",
        "# Define Early Stopping callback with min_delta and ReduceLROnPlateau\n",
        "early_stop = EarlyStopping(monitor='val_loss', patience=3, min_delta=0.01, verbose=1, restore_best_weights=True)\n",
        "reduce_lr = ReduceLROnPlateau(monitor='val_loss', factor=0.2, patience=7, min_lr=0.0001, verbose=1)\n",
        "\n",
        "# Train the model with Early Stopping and Learning Rate Scheduler\n",
        "history = lstm_model.fit(X_resampled, y_resampled_categorical, epochs=50, batch_size=32,\n",
        "                    validation_split=0.2, callbacks=[early_stop, reduce_lr])\n",
        "\n",
        "# Evaluate the model\n",
        "loss, accuracy = lstm_model.evaluate(X_resampled, y_resampled_categorical)\n",
        "print(f'Model accuracy: {accuracy:.2f}')\n",
        "\n",
        "# Make predictions\n",
        "y_pred = lstm_model.predict(X_resampled)\n",
        "y_pred_labels = np.argmax(y_pred, axis=1)\n",
        "y_true_labels = np.argmax(y_resampled_categorical, axis=1)\n",
        "\n",
        "# Calculate the F1 score\n",
        "f1 = f1_score(y_true_labels, y_pred_labels, average='weighted')\n",
        "print(f'F1 score: {f1:.2f}')\n",
        "\n",
        "# Plot training & validation loss values\n",
        "plt.figure(figsize=(12, 5))\n",
        "plt.subplot(1, 2, 1)\n",
        "plt.plot(history.history['loss'], label='Training Loss')\n",
        "plt.plot(history.history['val_loss'], label='Validation Loss')\n",
        "plt.title('Model Loss')\n",
        "plt.xlabel('Epoch')\n",
        "plt.ylabel('Loss')\n",
        "plt.legend()\n",
        "\n",
        "# Plot training & validation accuracy values\n",
        "plt.subplot(1, 2, 2)\n",
        "plt.plot(history.history['accuracy'], label='Training Accuracy')\n",
        "plt.plot(history.history['val_accuracy'], label='Validation Accuracy')\n",
        "plt.title('Model Accuracy')\n",
        "plt.xlabel('Epoch')\n",
        "plt.ylabel('Accuracy')\n",
        "plt.legend()\n",
        "\n",
        "plt.show()\n"
      ],
      "metadata": {
        "colab": {
          "base_uri": "https://localhost:8080/",
          "height": 1000
        },
        "id": "BP1W7fMEOo68",
        "outputId": "157bc6ab-f036-466e-89a5-c4f3e1dc9d3e"
      },
      "execution_count": 22,
      "outputs": [
        {
          "output_type": "stream",
          "name": "stderr",
          "text": [
            "WARNING:tensorflow:Layer lstm_4 will not use cuDNN kernels since it doesn't meet the criteria. It will use a generic GPU kernel as fallback when running on GPU.\n",
            "WARNING:tensorflow:Layer lstm_5 will not use cuDNN kernels since it doesn't meet the criteria. It will use a generic GPU kernel as fallback when running on GPU.\n"
          ]
        },
        {
          "output_type": "stream",
          "name": "stdout",
          "text": [
            "Model: \"sequential_3\"\n",
            "_________________________________________________________________\n",
            " Layer (type)                Output Shape              Param #   \n",
            "=================================================================\n",
            " lstm_4 (LSTM)               (None, 100, 128)          66560     \n",
            "                                                                 \n",
            " batch_normalization_4 (Bat  (None, 100, 128)          512       \n",
            " chNormalization)                                                \n",
            "                                                                 \n",
            " lstm_5 (LSTM)               (None, 64)                49408     \n",
            "                                                                 \n",
            " batch_normalization_5 (Bat  (None, 64)                256       \n",
            " chNormalization)                                                \n",
            "                                                                 \n",
            " dense_2 (Dense)             (None, 2)                 130       \n",
            "                                                                 \n",
            "=================================================================\n",
            "Total params: 116866 (456.51 KB)\n",
            "Trainable params: 116482 (455.01 KB)\n",
            "Non-trainable params: 384 (1.50 KB)\n",
            "_________________________________________________________________\n",
            "Epoch 1/50\n",
            "568/568 [==============================] - 167s 284ms/step - loss: 0.4558 - accuracy: 0.7988 - val_loss: 0.3110 - val_accuracy: 0.9874 - lr: 1.0000e-04\n",
            "Epoch 2/50\n",
            "568/568 [==============================] - 157s 277ms/step - loss: 0.5420 - accuracy: 0.7308 - val_loss: 0.6842 - val_accuracy: 0.6218 - lr: 1.0000e-04\n",
            "Epoch 3/50\n",
            "568/568 [==============================] - 157s 276ms/step - loss: 0.4803 - accuracy: 0.7749 - val_loss: 0.2309 - val_accuracy: 0.9412 - lr: 1.0000e-04\n",
            "Epoch 4/50\n",
            "568/568 [==============================] - 154s 271ms/step - loss: 0.4130 - accuracy: 0.8162 - val_loss: 0.7289 - val_accuracy: 0.6033 - lr: 1.0000e-04\n",
            "Epoch 5/50\n",
            "568/568 [==============================] - 157s 276ms/step - loss: 0.3828 - accuracy: 0.8298 - val_loss: 0.3118 - val_accuracy: 0.8910 - lr: 1.0000e-04\n",
            "Epoch 6/50\n",
            "568/568 [==============================] - ETA: 0s - loss: 0.3728 - accuracy: 0.8383Restoring model weights from the end of the best epoch: 3.\n",
            "568/568 [==============================] - 157s 275ms/step - loss: 0.3728 - accuracy: 0.8383 - val_loss: 0.3460 - val_accuracy: 0.8811 - lr: 1.0000e-04\n",
            "Epoch 6: early stopping\n",
            "710/710 [==============================] - 25s 35ms/step - loss: 0.5500 - accuracy: 0.7341\n",
            "Model accuracy: 0.73\n",
            "710/710 [==============================] - 25s 35ms/step\n",
            "F1 score: 0.72\n"
          ]
        },
        {
          "output_type": "display_data",
          "data": {
            "text/plain": [
              "<Figure size 1200x500 with 2 Axes>"
            ],
            "image/png": "[encoded data removed]"
          },
          "metadata": {}
        }
      ]
    },
    {
      "cell_type": "markdown",
      "metadata": {
        "id": "_GvQMLAh4gDU"
      },
      "source": [
        "##3. BiLSTM"
      ]
    },
    {
      "cell_type": "code",
      "source": [
        "import numpy as np\n",
        "from tensorflow.keras.utils import to_categorical\n",
        "from sklearn.metrics import classification_report\n",
        "\n",
        "# Define the Bidirectional LSTM model architecture\n",
        "bilstm_model = Sequential()\n",
        "bilstm_model.add(Bidirectional(LSTM(256, return_sequences=True), input_shape=(X_resampled.shape[1], 1)))\n",
        "bilstm_model.add(Bidirectional(LSTM(128, return_sequences=True)))\n",
        "bilstm_model.add(Bidirectional(LSTM(64)))\n",
        "bilstm_model.add(Dense(128, activation='relu'))\n",
        "bilstm_model.add(Dense(64, activation='relu'))\n",
        "bilstm_model.add(Dense(num_classes, activation='softmax'))\n",
        "\n",
        "# Compile the model with a specified learning rate\n",
        "optimizer = Adam(learning_rate=0.0001)  # Adjust learning rate as needed\n",
        "bilstm_model.compile(optimizer=optimizer, loss='categorical_crossentropy', metrics=['accuracy'])\n",
        "\n",
        "# Optionally add Early Stopping with a minimum delta for improvement\n",
        "early_stopping = EarlyStopping(monitor='val_loss', min_delta=0.001, patience=7, restore_best_weights=True)\n",
        "\n",
        "# Reshape data for Bidirectional LSTM\n",
        "X_resampled_bilstm = X_resampled.reshape(X_resampled.shape[0], X_resampled.shape[1], 1)\n",
        "\n",
        "# Train the model with Early Stopping callback\n",
        "bilstm_history = bilstm_model.fit(X_resampled_bilstm, y_resampled_categorical,\n",
        "                                  epochs=30, batch_size=32,\n",
        "                                  validation_split=0.2,\n",
        "                                  callbacks=[early_stopping])\n",
        "\n",
        "\n"
      ],
      "metadata": {
        "colab": {
          "base_uri": "https://localhost:8080/"
        },
        "id": "12Eitm-1h6LR",
        "outputId": "f738911e-f575-45e5-8b4e-f67955ef8097"
      },
      "execution_count": 29,
      "outputs": [
        {
          "output_type": "stream",
          "name": "stdout",
          "text": [
            "Epoch 1/30\n",
            "568/568 [==============================] - 40s 41ms/step - loss: 0.4507 - accuracy: 0.7811 - val_loss: 0.4601 - val_accuracy: 0.8185\n",
            "Epoch 2/30\n",
            "568/568 [==============================] - 19s 34ms/step - loss: 0.4022 - accuracy: 0.8181 - val_loss: 0.4697 - val_accuracy: 0.8211\n",
            "Epoch 3/30\n",
            "568/568 [==============================] - 19s 33ms/step - loss: 0.3841 - accuracy: 0.8289 - val_loss: 0.5367 - val_accuracy: 0.7892\n",
            "Epoch 4/30\n",
            "568/568 [==============================] - 20s 36ms/step - loss: 0.3791 - accuracy: 0.8297 - val_loss: 0.4246 - val_accuracy: 0.8586\n",
            "Epoch 5/30\n",
            "568/568 [==============================] - 20s 35ms/step - loss: 0.3765 - accuracy: 0.8300 - val_loss: 0.4062 - val_accuracy: 0.8637\n",
            "Epoch 6/30\n",
            "568/568 [==============================] - 19s 34ms/step - loss: 0.3767 - accuracy: 0.8315 - val_loss: 0.5850 - val_accuracy: 0.7590\n",
            "Epoch 7/30\n",
            "568/568 [==============================] - 21s 36ms/step - loss: 0.3735 - accuracy: 0.8337 - val_loss: 0.4521 - val_accuracy: 0.8359\n",
            "Epoch 8/30\n",
            "568/568 [==============================] - 20s 34ms/step - loss: 0.3699 - accuracy: 0.8356 - val_loss: 0.2991 - val_accuracy: 0.9220\n",
            "Epoch 9/30\n",
            "568/568 [==============================] - 21s 37ms/step - loss: 0.3689 - accuracy: 0.8376 - val_loss: 0.4646 - val_accuracy: 0.8337\n",
            "Epoch 10/30\n",
            "568/568 [==============================] - 19s 34ms/step - loss: 0.3673 - accuracy: 0.8366 - val_loss: 0.5809 - val_accuracy: 0.7407\n",
            "Epoch 11/30\n",
            "568/568 [==============================] - 24s 42ms/step - loss: 0.3661 - accuracy: 0.8357 - val_loss: 0.4093 - val_accuracy: 0.8553\n",
            "Epoch 12/30\n",
            "568/568 [==============================] - 20s 35ms/step - loss: 0.3618 - accuracy: 0.8391 - val_loss: 0.4457 - val_accuracy: 0.8267\n",
            "Epoch 13/30\n",
            "568/568 [==============================] - 23s 41ms/step - loss: 0.3602 - accuracy: 0.8412 - val_loss: 0.4572 - val_accuracy: 0.8432\n",
            "Epoch 14/30\n",
            "568/568 [==============================] - 21s 37ms/step - loss: 0.3598 - accuracy: 0.8406 - val_loss: 0.4118 - val_accuracy: 0.8570\n",
            "Epoch 15/30\n",
            "568/568 [==============================] - 20s 36ms/step - loss: 0.3566 - accuracy: 0.8435 - val_loss: 0.4522 - val_accuracy: 0.8363\n"
          ]
        }
      ]
    },
    {
      "cell_type": "code",
      "source": [
        "# Evaluate the model on the training data\n",
        "train_loss, train_accuracy = bilstm_model.evaluate(X_resampled_bilstm, y_resampled_categorical)\n",
        "print(f'Training Accuracy: {train_accuracy:.2f}')\n",
        "\n",
        "# Make predictions on the training data\n",
        "y_train_pred = bilstm_model.predict(X_resampled_bilstm)\n",
        "\n",
        "# Convert predictions and true labels to class labels\n",
        "y_train_pred_labels = np.argmax(y_train_pred, axis=-1)\n",
        "y_train_true_labels = np.argmax(y_resampled_categorical, axis=-1)\n",
        "\n",
        "# Calculate and print the F1 score for the training data\n",
        "train_f1_score = f1_score(y_train_true_labels, y_train_pred_labels, average='weighted')\n",
        "print(f'Training F1 Score: {train_f1_score:.2f}')"
      ],
      "metadata": {
        "colab": {
          "base_uri": "https://localhost:8080/"
        },
        "id": "iava6aHbQQ-q",
        "outputId": "474b0cd6-d537-4fd3-f764-738922509ae7"
      },
      "execution_count": 30,
      "outputs": [
        {
          "output_type": "stream",
          "name": "stdout",
          "text": [
            "710/710 [==============================] - 10s 14ms/step - loss: 0.3765 - accuracy: 0.8364\n",
            "Training Accuracy: 0.84\n",
            "710/710 [==============================] - 11s 13ms/step\n",
            "Training F1 Score: 0.84\n"
          ]
        }
      ]
    },
    {
      "cell_type": "code",
      "source": [
        "# Reshape test data to match input shape of the model\n",
        "X_test_vectors = X_test_vectors.reshape(X_test_vectors.shape[0], X_test_vectors.shape[1], 1)\n",
        "\n",
        "# Evaluate the model on the testing data\n",
        "num_classes = len(np.unique(y_resampled))  # Ensure this matches the training data\n",
        "y_test_categorical = to_categorical(y_test, num_classes)\n",
        "\n",
        "# Print shapes of the test data\n",
        "print(f'Shape of X_test_vectors: {X_test_vectors.shape}')\n",
        "print(f'Shape of y_test_categorical: {y_test_categorical.shape}')\n",
        "\n",
        "# Evaluate the model on the testing data\n",
        "try:\n",
        "    loss, accuracy = bilstm_model.evaluate(X_test_vectors, y_test_categorical)\n",
        "    print(f'Test Accuracy: {accuracy:.2f}')\n",
        "except Exception as e:\n",
        "    print(f'Error during model evaluation: {e}')\n",
        "\n",
        "# Make predictions on the test set\n",
        "try:\n",
        "    y_test_pred = bilstm_model.predict(X_test_vectors)\n",
        "    # Convert predictions and true labels from categorical to labels\n",
        "    y_test_pred_labels = np.argmax(y_test_pred, axis=1)\n",
        "    y_test_labels = np.argmax(y_test_categorical, axis=1)\n",
        "\n",
        "    # Generate and print classification report\n",
        "    report = classification_report(y_test_labels, y_test_pred_labels)\n",
        "    print('Classification Report:')\n",
        "    print(report)\n",
        "except Exception as e:\n",
        "    print(f'Error during prediction or report generation: {e}')"
      ],
      "metadata": {
        "colab": {
          "base_uri": "https://localhost:8080/"
        },
        "id": "-nfZkr8CPbcV",
        "outputId": "02340155-b0aa-492a-ab4a-8933979ee0f0"
      },
      "execution_count": 31,
      "outputs": [
        {
          "output_type": "stream",
          "name": "stdout",
          "text": [
            "Shape of X_test_vectors: (4000, 100, 1)\n",
            "Shape of y_test_categorical: (4000, 2)\n",
            "125/125 [==============================] - 2s 13ms/step - loss: 0.4199 - accuracy: 0.7945\n",
            "Test Accuracy: 0.79\n",
            "125/125 [==============================] - 1s 12ms/step\n",
            "Classification Report:\n",
            "              precision    recall  f1-score   support\n",
            "\n",
            "           0       0.59      0.87      0.70      1100\n",
            "           1       0.94      0.77      0.84      2900\n",
            "\n",
            "    accuracy                           0.79      4000\n",
            "   macro avg       0.76      0.82      0.77      4000\n",
            "weighted avg       0.84      0.79      0.80      4000\n",
            "\n"
          ]
        }
      ]
    },
    {
      "cell_type": "code",
      "source": [
        "import matplotlib.pyplot as plt\n",
        "\n",
        "# Plot training & validation loss values\n",
        "plt.figure(figsize=(8, 4))\n",
        "\n",
        "# Plot Loss\n",
        "plt.subplot(1, 2, 1)\n",
        "plt.plot(bilstm_history.history['loss'], label='Training Loss')\n",
        "plt.plot(bilstm_history.history['val_loss'], label='Validation Loss')\n",
        "plt.title('Model Loss')\n",
        "plt.xlabel('Epoch')\n",
        "plt.ylabel('Loss')\n",
        "plt.legend(loc='upper right')\n",
        "\n",
        "# Plot Accuracy\n",
        "plt.subplot(1, 2, 2)\n",
        "plt.plot(bilstm_history.history['accuracy'], label='Training Accuracy')\n",
        "plt.plot(bilstm_history.history['val_accuracy'], label='Validation Accuracy')\n",
        "plt.title('Model Accuracy')\n",
        "plt.xlabel('Epoch')\n",
        "plt.ylabel('Accuracy')\n",
        "plt.legend(loc='lower right')\n",
        "\n",
        "plt.tight_layout()\n",
        "plt.show()\n"
      ],
      "metadata": {
        "id": "8S97KnL_hkER",
        "colab": {
          "base_uri": "https://localhost:8080/",
          "height": 407
        },
        "outputId": "bfcfc980-b5ca-43ef-e0c3-1e055d37b269"
      },
      "execution_count": 32,
      "outputs": [
        {
          "output_type": "display_data",
          "data": {
            "text/plain": [
              "<Figure size 800x400 with 2 Axes>"
            ],
            "image/png": "[encoded data removed]"
          },
          "metadata": {}
        }
      ]
    },
    {
      "cell_type": "markdown",
      "metadata": {
        "id": "g8cOWWfZ4jbj"
      },
      "source": [
        "## 4. CNN"
      ]
    },
    {
      "cell_type": "code",
      "execution_count": 52,
      "metadata": {
        "id": "poR9whjp6PwU",
        "colab": {
          "base_uri": "https://localhost:8080/"
        },
        "outputId": "aaccef53-85b0-44ee-f9fc-b0a65c26da98"
      },
      "outputs": [
        {
          "output_type": "stream",
          "name": "stdout",
          "text": [
            "Epoch 1/30\n",
            "568/568 [==============================] - 8s 13ms/step - loss: 0.3976 - accuracy: 0.8409 - val_loss: 0.3353 - val_accuracy: 0.8621 - lr: 1.0000e-04\n",
            "Epoch 2/30\n",
            "568/568 [==============================] - 5s 10ms/step - loss: 0.3352 - accuracy: 0.8644 - val_loss: 0.3189 - val_accuracy: 0.8727 - lr: 1.0000e-04\n",
            "Epoch 3/30\n",
            "568/568 [==============================] - 7s 13ms/step - loss: 0.3234 - accuracy: 0.8726 - val_loss: 0.3151 - val_accuracy: 0.8756 - lr: 1.0000e-04\n",
            "Epoch 4/30\n",
            "568/568 [==============================] - 6s 10ms/step - loss: 0.3171 - accuracy: 0.8732 - val_loss: 0.3041 - val_accuracy: 0.8775 - lr: 1.0000e-04\n",
            "Epoch 5/30\n",
            "568/568 [==============================] - 6s 11ms/step - loss: 0.3118 - accuracy: 0.8754 - val_loss: 0.3008 - val_accuracy: 0.8795 - lr: 1.0000e-04\n",
            "Epoch 6/30\n",
            "568/568 [==============================] - 7s 12ms/step - loss: 0.3078 - accuracy: 0.8780 - val_loss: 0.3014 - val_accuracy: 0.8804 - lr: 1.0000e-04\n",
            "Epoch 7/30\n",
            "568/568 [==============================] - 5s 10ms/step - loss: 0.3037 - accuracy: 0.8800 - val_loss: 0.3015 - val_accuracy: 0.8822 - lr: 1.0000e-04\n",
            "Epoch 8/30\n",
            "568/568 [==============================] - 8s 13ms/step - loss: 0.3026 - accuracy: 0.8792 - val_loss: 0.2951 - val_accuracy: 0.8826 - lr: 1.0000e-05\n",
            "Epoch 9/30\n",
            "568/568 [==============================] - 6s 10ms/step - loss: 0.3002 - accuracy: 0.8816 - val_loss: 0.2946 - val_accuracy: 0.8804 - lr: 1.0000e-05\n",
            "Epoch 10/30\n",
            "568/568 [==============================] - 7s 13ms/step - loss: 0.2996 - accuracy: 0.8815 - val_loss: 0.2944 - val_accuracy: 0.8826 - lr: 1.0000e-05\n",
            "Epoch 11/30\n",
            "568/568 [==============================] - 6s 10ms/step - loss: 0.2996 - accuracy: 0.8808 - val_loss: 0.2946 - val_accuracy: 0.8817 - lr: 1.0000e-05\n",
            "Epoch 12/30\n",
            "568/568 [==============================] - 7s 12ms/step - loss: 0.3002 - accuracy: 0.8814 - val_loss: 0.2940 - val_accuracy: 0.8833 - lr: 1.0000e-05\n",
            "Epoch 13/30\n",
            "568/568 [==============================] - 6s 11ms/step - loss: 0.2982 - accuracy: 0.8826 - val_loss: 0.2937 - val_accuracy: 0.8817 - lr: 1.0000e-05\n",
            "Epoch 14/30\n",
            "568/568 [==============================] - 6s 10ms/step - loss: 0.2992 - accuracy: 0.8819 - val_loss: 0.2938 - val_accuracy: 0.8808 - lr: 1.0000e-05\n",
            "Epoch 15/30\n",
            "568/568 [==============================] - 7s 13ms/step - loss: 0.2964 - accuracy: 0.8840 - val_loss: 0.2933 - val_accuracy: 0.8828 - lr: 1.0000e-05\n",
            "Epoch 16/30\n",
            "568/568 [==============================] - 6s 10ms/step - loss: 0.2976 - accuracy: 0.8826 - val_loss: 0.2931 - val_accuracy: 0.8839 - lr: 1.0000e-05\n",
            "Epoch 17/30\n",
            "568/568 [==============================] - 7s 13ms/step - loss: 0.2986 - accuracy: 0.8824 - val_loss: 0.2930 - val_accuracy: 0.8811 - lr: 1.0000e-05\n",
            "Epoch 18/30\n",
            "568/568 [==============================] - 5s 9ms/step - loss: 0.2967 - accuracy: 0.8835 - val_loss: 0.2929 - val_accuracy: 0.8839 - lr: 1.0000e-05\n",
            "Epoch 19/30\n",
            "568/568 [==============================] - 6s 11ms/step - loss: 0.2977 - accuracy: 0.8829 - val_loss: 0.2928 - val_accuracy: 0.8837 - lr: 1.0000e-05\n",
            "Epoch 20/30\n",
            "568/568 [==============================] - 7s 12ms/step - loss: 0.2968 - accuracy: 0.8839 - val_loss: 0.2928 - val_accuracy: 0.8835 - lr: 1.0000e-05\n",
            "Epoch 21/30\n",
            "568/568 [==============================] - 5s 9ms/step - loss: 0.2964 - accuracy: 0.8826 - val_loss: 0.2927 - val_accuracy: 0.8830 - lr: 1.0000e-06\n",
            "Epoch 22/30\n",
            "568/568 [==============================] - 7s 13ms/step - loss: 0.2959 - accuracy: 0.8831 - val_loss: 0.2926 - val_accuracy: 0.8841 - lr: 1.0000e-06\n",
            "Epoch 23/30\n",
            "568/568 [==============================] - 5s 10ms/step - loss: 0.2959 - accuracy: 0.8843 - val_loss: 0.2926 - val_accuracy: 0.8837 - lr: 1.0000e-06\n",
            "Epoch 24/30\n",
            "568/568 [==============================] - 7s 13ms/step - loss: 0.2971 - accuracy: 0.8828 - val_loss: 0.2926 - val_accuracy: 0.8839 - lr: 1.0000e-06\n",
            "Epoch 25/30\n",
            "568/568 [==============================] - 6s 10ms/step - loss: 0.2961 - accuracy: 0.8837 - val_loss: 0.2925 - val_accuracy: 0.8839 - lr: 1.0000e-06\n",
            "Epoch 26/30\n",
            "568/568 [==============================] - 7s 12ms/step - loss: 0.2955 - accuracy: 0.8835 - val_loss: 0.2925 - val_accuracy: 0.8839 - lr: 1.0000e-07\n",
            "Epoch 27/30\n",
            "568/568 [==============================] - 6s 11ms/step - loss: 0.2967 - accuracy: 0.8836 - val_loss: 0.2925 - val_accuracy: 0.8839 - lr: 1.0000e-07\n",
            "Epoch 28/30\n",
            "568/568 [==============================] - 5s 10ms/step - loss: 0.2968 - accuracy: 0.8834 - val_loss: 0.2925 - val_accuracy: 0.8839 - lr: 1.0000e-08\n",
            "Epoch 29/30\n",
            "568/568 [==============================] - 7s 13ms/step - loss: 0.2956 - accuracy: 0.8843 - val_loss: 0.2925 - val_accuracy: 0.8839 - lr: 1.0000e-08\n",
            "Epoch 30/30\n",
            "568/568 [==============================] - 6s 10ms/step - loss: 0.2972 - accuracy: 0.8834 - val_loss: 0.2925 - val_accuracy: 0.8839 - lr: 1.0000e-09\n",
            "568/568 [==============================] - 2s 4ms/step - loss: 0.2896 - accuracy: 0.8842\n",
            "CNN Model accuracy: 0.88\n",
            "568/568 [==============================] - 2s 4ms/step\n",
            "F1 Score: 0.88\n"
          ]
        }
      ],
      "source": [
        "from keras.layers import Conv1D, MaxPooling1D, Flatten, Dense, LeakyReLU, Dropout\n",
        "from keras.models import Sequential\n",
        "from keras.callbacks import EarlyStopping, ReduceLROnPlateau\n",
        "from keras.optimizers import Adam\n",
        "from sklearn.metrics import f1_score, classification_report, accuracy_score\n",
        "from sklearn.model_selection import train_test_split\n",
        "import numpy as np\n",
        "\n",
        "# Convert lists to numpy arrays\n",
        "X_resampled = np.array(X_resampled)\n",
        "y_resampled = np.array(y_resampled)\n",
        "\n",
        "# Reshape data for CNN\n",
        "X_resampled_cnn = X_resampled.reshape(X_resampled.shape[0], X_resampled.shape[1], 1)\n",
        "\n",
        "# Split the data into training and validation sets\n",
        "X_train, X_val, y_train, y_val = train_test_split(X_resampled_cnn, y_resampled, test_size=0.2, random_state=42)\n",
        "\n",
        "# Define the CNN model architecture with LeakyReLU\n",
        "cnn_model = Sequential()\n",
        "cnn_model.add(Conv1D(filters=64, kernel_size=5, input_shape=(X_train.shape[1], 1)))\n",
        "cnn_model.add(LeakyReLU(alpha=0.1))\n",
        "cnn_model.add(MaxPooling1D())\n",
        "cnn_model.add(Flatten())\n",
        "cnn_model.add(Dense(64))\n",
        "cnn_model.add(LeakyReLU(alpha=0.1))\n",
        "cnn_model.add(Dropout(0.5))\n",
        "cnn_model.add(Dense(1, activation='sigmoid'))  # Single node with sigmoid for binary classification\n",
        "\n",
        "# Compile the model with optimizer and learning rate\n",
        "optimizer = Adam(learning_rate=0.0001)\n",
        "cnn_model.compile(optimizer=optimizer, loss='binary_crossentropy', metrics=['accuracy'])\n",
        "\n",
        "# Define early stopping and learning rate scheduler with minimum delta\n",
        "early_stopping = EarlyStopping(monitor='val_loss', patience=3, restore_best_weights=True)\n",
        "reduce_lr = ReduceLROnPlateau(monitor='val_loss', factor=0.1, patience=2, min_delta=0.0001)\n",
        "\n",
        "# Train the model with early stopping and learning rate scheduler\n",
        "cnn_history = cnn_model.fit(X_train, y_train, epochs=30, batch_size=32, validation_data=(X_val, y_val), callbacks=[early_stopping, reduce_lr])\n",
        "\n",
        "# Evaluate the model on the training data\n",
        "cnn_loss, cnn_accuracy = cnn_model.evaluate(X_train, y_train)\n",
        "print(f'CNN Model accuracy: {cnn_accuracy:.2f}')\n",
        "\n",
        "# Make predictions on the training data\n",
        "y_pred_prob = cnn_model.predict(X_train)\n",
        "y_pred_classes = (y_pred_prob > 0.5).astype(int).flatten()\n",
        "\n",
        "# Compute F1 score on the training data\n",
        "f1score = f1_score(y_train, y_pred_classes, average='weighted')\n",
        "print(f'F1 Score: {f1score:.2f}')\n",
        "\n",
        "\n"
      ]
    },
    {
      "cell_type": "code",
      "source": [
        "import matplotlib.pyplot as plt\n",
        "\n",
        "# Plot training & validation loss values\n",
        "plt.figure(figsize=(8, 4))\n",
        "\n",
        "# Plot Loss\n",
        "plt.subplot(1, 2, 1)\n",
        "plt.plot(cnn_history.history['loss'], label='Training Loss')\n",
        "plt.plot(cnn_history.history['val_loss'], label='Validation Loss')\n",
        "plt.title('Model Loss')\n",
        "plt.xlabel('Epoch')\n",
        "plt.ylabel('Loss')\n",
        "plt.legend(loc='upper right')\n",
        "\n",
        "# Plot Accuracy\n",
        "plt.subplot(1, 2, 2)\n",
        "plt.plot(cnn_history.history['accuracy'], label='Training Accuracy')\n",
        "plt.plot(cnn_history.history['val_accuracy'], label='Validation Accuracy')\n",
        "plt.title('Model Accuracy')\n",
        "plt.xlabel('Epoch')\n",
        "plt.ylabel('Accuracy')\n",
        "plt.legend(loc='lower right')\n",
        "\n",
        "plt.tight_layout()\n",
        "plt.show()\n"
      ],
      "metadata": {
        "colab": {
          "base_uri": "https://localhost:8080/",
          "height": 407
        },
        "id": "li9yKHXusb_D",
        "outputId": "07119776-cb7f-4c94-eb2f-f189aea1395d"
      },
      "execution_count": 53,
      "outputs": [
        {
          "output_type": "display_data",
          "data": {
            "text/plain": [
              "<Figure size 800x400 with 2 Axes>"
            ],
            "image/png": "[encoded data removed]"
          },
          "metadata": {}
        }
      ]
    },
    {
      "cell_type": "code",
      "execution_count": 42,
      "metadata": {
        "id": "YaSsHUbn6S9y",
        "colab": {
          "base_uri": "https://localhost:8080/"
        },
        "outputId": "af6e79bc-3e18-4bef-e153-d772e6690f4c"
      },
      "outputs": [
        {
          "output_type": "stream",
          "name": "stdout",
          "text": [
            "125/125 [==============================] - 0s 3ms/step - loss: 0.3073 - accuracy: 0.8652\n",
            "Test Accuracy: 0.87\n",
            "125/125 [==============================] - 0s 3ms/step\n",
            "              precision    recall  f1-score   support\n",
            "\n",
            "           0       0.70      0.89      0.78      1100\n",
            "           1       0.95      0.86      0.90      2900\n",
            "\n",
            "    accuracy                           0.87      4000\n",
            "   macro avg       0.83      0.87      0.84      4000\n",
            "weighted avg       0.88      0.87      0.87      4000\n",
            "\n"
          ]
        }
      ],
      "source": [
        "\n",
        "from sklearn.metrics import classification_report\n",
        "\n",
        "# Ensure the test data is reshaped correctly\n",
        "X_test_vectors = np.reshape(X_test_vectors, (X_test_vectors.shape[0], X_test_vectors.shape[1], 1))\n",
        "\n",
        "# Convert y_test to binary format if it is not already\n",
        "if y_test_categorical.shape[1] > 1:\n",
        "    y_test = y_test_categorical.argmax(axis=-1)\n",
        "else:\n",
        "    y_test = y_test_categorical\n",
        "\n",
        "# Evaluate the CNN model on the testing data\n",
        "loss, accuracy = cnn_model.evaluate(X_test_vectors, y_test)\n",
        "print(f'Test Accuracy: {accuracy:.2f}')\n",
        "\n",
        "# Make predictions on the test data\n",
        "y_pred = cnn_model.predict(X_test_vectors)\n",
        "y_pred_classes = (y_pred > 0.5).astype(int).flatten()\n",
        "\n",
        "# Generate and print the classification report\n",
        "report = classification_report(y_test, y_pred_classes)\n",
        "print(report)\n"
      ]
    },
    {
      "cell_type": "markdown",
      "metadata": {
        "id": "qKdiG5p74mGX"
      },
      "source": [
        "##5. RNN"
      ]
    },
    {
      "cell_type": "code",
      "execution_count": 59,
      "metadata": {
        "colab": {
          "base_uri": "https://localhost:8080/"
        },
        "id": "Qs9mDWiP6Yml",
        "outputId": "4abb4a22-99c2-4089-e5a0-387fc76f8b29"
      },
      "outputs": [
        {
          "output_type": "stream",
          "name": "stdout",
          "text": [
            "Epoch 1/50\n",
            "568/568 [==============================] - 46s 75ms/step - loss: 0.4612 - accuracy: 0.7884 - val_loss: 0.5385 - val_accuracy: 0.8687\n",
            "Epoch 2/50\n",
            "568/568 [==============================] - 43s 75ms/step - loss: 0.3987 - accuracy: 0.8280 - val_loss: 0.4040 - val_accuracy: 0.8570\n",
            "Epoch 3/50\n",
            "568/568 [==============================] - 43s 77ms/step - loss: 0.3824 - accuracy: 0.8382 - val_loss: 0.5319 - val_accuracy: 0.8388\n",
            "Epoch 4/50\n",
            "568/568 [==============================] - 43s 76ms/step - loss: 0.3780 - accuracy: 0.8391 - val_loss: 0.5502 - val_accuracy: 0.8134\n",
            "Epoch 5/50\n",
            "568/568 [==============================] - 45s 79ms/step - loss: 0.3978 - accuracy: 0.8259 - val_loss: 0.6405 - val_accuracy: 0.7106\n",
            "710/710 [==============================] - 14s 20ms/step - loss: 0.3765 - accuracy: 0.8384\n",
            "RNN Model accuracy: 0.84\n",
            "710/710 [==============================] - 15s 20ms/step\n",
            "RNN Model F1 Score: 0.84\n"
          ]
        }
      ],
      "source": [
        "from keras.models import Sequential\n",
        "from keras.layers import SimpleRNN, Dense, Dropout\n",
        "\n",
        "# Define the RNN model architecture\n",
        "rnn_model = Sequential()\n",
        "rnn_model.add(SimpleRNN(128, input_shape=(X_resampled.shape[1], 1), return_sequences=True))\n",
        "rnn_model.add(Dropout(0.5))\n",
        "rnn_model.add(SimpleRNN(64))\n",
        "rnn_model.add(Dense(64, activation='relu'))\n",
        "rnn_model.add(Dropout(0.5))\n",
        "rnn_model.add(Dense(num_classes, activation='softmax'))\n",
        "\n",
        "# Compile the model\n",
        "rnn_model.compile(optimizer='adam', loss='categorical_crossentropy', metrics=['accuracy'])\n",
        "\n",
        "# Reshape data for RNN\n",
        "X_resampled_rnn = X_resampled.reshape(X_resampled.shape[0], X_resampled.shape[1], 1)\n",
        "\n",
        "# Define early stopping criteria\n",
        "early_stopping = EarlyStopping(monitor='val_loss', patience=7, restore_best_weights=True)\n",
        "\n",
        "# Train the model with early stopping\n",
        "rnn_history = rnn_model.fit(X_resampled_rnn, y_resampled_categorical,\n",
        "                            epochs=50, batch_size=32, validation_split=0.2,\n",
        "                            callbacks=[early_stopping])\n",
        "\n",
        "# Evaluate the model\n",
        "rnn_loss, rnn_accuracy = rnn_model.evaluate(X_resampled_rnn, y_resampled_categorical)\n",
        "print(f'RNN Model accuracy: {rnn_accuracy:.2f}')\n",
        "\n",
        "# Make predictions\n",
        "y_pred_rnn = rnn_model.predict(X_resampled_rnn)\n",
        "y_pred_classes_rnn = np.argmax(y_pred_rnn, axis=1)\n",
        "\n",
        "# Compute F1 score\n",
        "f1score_rnn = f1_score(np.argmax(y_resampled_categorical, axis=1), y_pred_classes_rnn, average='weighted')\n",
        "\n",
        "print(f'RNN Model F1 Score: {f1score_rnn:.2f}')\n"
      ]
    },
    {
      "cell_type": "code",
      "execution_count": 60,
      "metadata": {
        "colab": {
          "base_uri": "https://localhost:8080/"
        },
        "id": "StC7JY9r6aOp",
        "outputId": "184dca7c-bc72-45ba-8f74-de008d7ec1bf"
      },
      "outputs": [
        {
          "output_type": "stream",
          "name": "stdout",
          "text": [
            "125/125 [==============================] - 2s 18ms/step - loss: 0.3686 - accuracy: 0.8238\n",
            "Test Accuracy: 0.82\n",
            "125/125 [==============================] - 2s 17ms/step\n",
            "              precision    recall  f1-score   support\n",
            "\n",
            "           0       0.64      0.82      0.72      1100\n",
            "           1       0.92      0.82      0.87      2900\n",
            "\n",
            "    accuracy                           0.82      4000\n",
            "   macro avg       0.78      0.82      0.80      4000\n",
            "weighted avg       0.85      0.82      0.83      4000\n",
            "\n"
          ]
        }
      ],
      "source": [
        "from sklearn.metrics import classification_report\n",
        "import numpy as np\n",
        "\n",
        "# Reshape the test data if necessary\n",
        "X_test_vectors = np.reshape(X_test_vectors, (X_test_vectors.shape[0], X_test_vectors.shape[1], 1))\n",
        "\n",
        "# Evaluate the RNN model on the testing data\n",
        "loss, accuracy = rnn_model.evaluate(X_test_vectors, y_test_categorical)\n",
        "print(f'Test Accuracy: {accuracy:.2f}')\n",
        "\n",
        "# Make predictions on the test data\n",
        "y_pred = rnn_model.predict(X_test_vectors)\n",
        "\n",
        "# Convert predictions to class labels\n",
        "y_pred_classes = y_pred.argmax(axis=-1)\n",
        "\n",
        "# Convert true labels to class labels\n",
        "y_true_classes = y_test_categorical.argmax(axis=-1)\n",
        "\n",
        "# Generate and print the classification report\n",
        "report = classification_report(y_true_classes, y_pred_classes)\n",
        "print(report)\n"
      ]
    },
    {
      "cell_type": "code",
      "source": [
        "import matplotlib.pyplot as plt\n",
        "\n",
        "# Plot training & validation loss values\n",
        "plt.figure(figsize=(8, 4))\n",
        "\n",
        "# Plot Loss\n",
        "plt.subplot(1, 2, 1)\n",
        "plt.plot(rnn_history.history['loss'], label='Training Loss')\n",
        "plt.plot(rnn_history.history['val_loss'], label='Validation Loss')\n",
        "plt.title('Model Loss')\n",
        "plt.xlabel('Epoch')\n",
        "plt.ylabel('Loss')\n",
        "plt.legend(loc='upper right')\n",
        "\n",
        "# Plot Accuracy\n",
        "plt.subplot(1, 2, 2)\n",
        "plt.plot(rnn_history.history['accuracy'], label='Training Accuracy')\n",
        "plt.plot(rnn_history.history['val_accuracy'], label='Validation Accuracy')\n",
        "plt.title('Model Accuracy')\n",
        "plt.xlabel('Epoch')\n",
        "plt.ylabel('Accuracy')\n",
        "plt.legend(loc='lower right')\n",
        "\n",
        "plt.tight_layout()\n",
        "plt.show()\n"
      ],
      "metadata": {
        "colab": {
          "base_uri": "https://localhost:8080/",
          "height": 407
        },
        "id": "moAv-bgIt2kg",
        "outputId": "91d904b0-f0e0-4d21-f108-d9ce6ebe798e"
      },
      "execution_count": 61,
      "outputs": [
        {
          "output_type": "display_data",
          "data": {
            "text/plain": [
              "<Figure size 800x400 with 2 Axes>"
            ],
            "image/png": "[encoded data removed]"
          },
          "metadata": {}
        }
      ]
    },
    {
      "cell_type": "markdown",
      "metadata": {
        "id": "wbrTrUgo4ptj"
      },
      "source": [
        "#Conclusion\n",
        "\n",
        "* Simple Nerual Network - 0.88\n",
        "* LSTM -\n",
        "* BiLSTM - 0.79\n",
        "* CNN - 0.87\n",
        "* RNN - 0.82"
      ]
    },
    {
      "cell_type": "code",
      "source": [
        "import numpy as np\n",
        "from keras.models import Sequential\n",
        "from keras.layers import Conv1D, MaxPooling1D, LSTM, Dense, Dropout, BatchNormalization\n",
        "from keras.optimizers import Adam\n",
        "from keras.callbacks import EarlyStopping, ReduceLROnPlateau\n",
        "from keras.utils import to_categorical\n",
        "from sklearn.metrics import f1_score, classification_report\n",
        "from keras.regularizers import l2\n",
        "\n",
        "# Define the CNN-LSTM model architecture with L2 regularization, batch normalization, and increased dropout\n",
        "cnn_lstm_model = Sequential()\n",
        "\n",
        "# CNN layers\n",
        "cnn_lstm_model.add(Conv1D(filters=128, kernel_size=3, activation='relu', input_shape=(X_resampled.shape[1], 1), kernel_regularizer=l2(0.01)))\n",
        "cnn_lstm_model.add(BatchNormalization())\n",
        "cnn_lstm_model.add(MaxPooling1D(pool_size=2))\n",
        "cnn_lstm_model.add(Dropout(0.3))\n",
        "\n",
        "cnn_lstm_model.add(Conv1D(filters=128, kernel_size=3, activation='relu', kernel_regularizer=l2(0.01)))\n",
        "cnn_lstm_model.add(BatchNormalization())\n",
        "cnn_lstm_model.add(MaxPooling1D(pool_size=2))\n",
        "cnn_lstm_model.add(Dropout(0.3))\n",
        "\n",
        "# LSTM layer\n",
        "cnn_lstm_model.add(LSTM(128, return_sequences=True, kernel_regularizer=l2(0.01)))\n",
        "cnn_lstm_model.add(BatchNormalization())\n",
        "cnn_lstm_model.add(Dropout(0.3))\n",
        "\n",
        "cnn_lstm_model.add(LSTM(64, kernel_regularizer=l2(0.01)))\n",
        "cnn_lstm_model.add(BatchNormalization())\n",
        "cnn_lstm_model.add(Dropout(0.3))\n",
        "\n",
        "# Dense layers\n",
        "cnn_lstm_model.add(Dense(128, activation='relu', kernel_regularizer=l2(0.01)))\n",
        "cnn_lstm_model.add(BatchNormalization())\n",
        "cnn_lstm_model.add(Dropout(0.3))\n",
        "\n",
        "cnn_lstm_model.add(Dense(num_classes, activation='softmax'))\n",
        "\n",
        "# Compile the model with custom learning rate\n",
        "learning_rate = 0.001  # Adjust the learning rate as needed\n",
        "optimizer = Adam(learning_rate=learning_rate)\n",
        "cnn_lstm_model.compile(optimizer=optimizer, loss='categorical_crossentropy', metrics=['accuracy'])\n",
        "\n",
        "# Reshape data for CNN-LSTM\n",
        "X_resampled_cnn_lstm = X_resampled.reshape(X_resampled.shape[0], X_resampled.shape[1], 1)\n",
        "\n",
        "# Define callbacks with modified early stopping patience\n",
        "early_stopping = EarlyStopping(monitor='val_loss', patience=7, restore_best_weights=True, min_delta=0.001)\n",
        "reduce_lr = ReduceLROnPlateau(monitor='val_loss', factor=0.2, patience=3, min_lr=1e-6)\n",
        "\n",
        "# Train the model with callbacks\n",
        "cnn_lstm_history = cnn_lstm_model.fit(X_resampled_cnn_lstm, y_resampled_categorical,\n",
        "                                      epochs=30, batch_size=64, validation_split=0.2,\n",
        "                                      callbacks=[early_stopping, reduce_lr])\n",
        "\n",
        "# Evaluate the model on the training data\n",
        "cnn_lstm_loss, cnn_lstm_accuracy = cnn_lstm_model.evaluate(X_resampled_cnn_lstm, y_resampled_categorical)\n",
        "print(f'CNN-LSTM Model Training Accuracy: {cnn_lstm_accuracy:.2f}')\n",
        "\n",
        "# Make predictions on the training data\n",
        "y_pred_cnn_lstm = cnn_lstm_model.predict(X_resampled_cnn_lstm)\n",
        "y_pred_classes_cnn_lstm = np.argmax(y_pred_cnn_lstm, axis=1)\n",
        "\n",
        "# Compute F1 score for training data\n",
        "f1score_cnn_lstm = f1_score(np.argmax(y_resampled_categorical, axis=1), y_pred_classes_cnn_lstm, average='weighted')\n",
        "print(f'CNN-LSTM Model Training F1 Score: {f1score_cnn_lstm:.2f}')"
      ],
      "metadata": {
        "colab": {
          "base_uri": "https://localhost:8080/"
        },
        "id": "UyvJj8JbBIkJ",
        "outputId": "3028b47a-7bea-4912-a87a-1a44766eb9c8"
      },
      "execution_count": 52,
      "outputs": [
        {
          "output_type": "stream",
          "name": "stdout",
          "text": [
            "Epoch 1/30\n",
            "284/284 [==============================] - 20s 18ms/step - loss: 4.0094 - accuracy: 0.7932 - val_loss: 2.9970 - val_accuracy: 0.0000e+00 - lr: 0.0010\n",
            "Epoch 2/30\n",
            "284/284 [==============================] - 4s 14ms/step - loss: 1.3671 - accuracy: 0.8368 - val_loss: 1.0919 - val_accuracy: 0.7526 - lr: 0.0010\n",
            "Epoch 3/30\n",
            "284/284 [==============================] - 5s 19ms/step - loss: 0.6707 - accuracy: 0.8483 - val_loss: 0.6106 - val_accuracy: 0.8467 - lr: 0.0010\n",
            "Epoch 4/30\n",
            "284/284 [==============================] - 4s 14ms/step - loss: 0.4709 - accuracy: 0.8531 - val_loss: 0.7010 - val_accuracy: 0.7145 - lr: 0.0010\n",
            "Epoch 5/30\n",
            "284/284 [==============================] - 4s 14ms/step - loss: 0.4215 - accuracy: 0.8514 - val_loss: 0.7971 - val_accuracy: 0.6176 - lr: 0.0010\n",
            "Epoch 6/30\n",
            "284/284 [==============================] - 5s 17ms/step - loss: 0.4044 - accuracy: 0.8549 - val_loss: 0.4391 - val_accuracy: 0.8910 - lr: 0.0010\n",
            "Epoch 7/30\n",
            "284/284 [==============================] - 4s 14ms/step - loss: 0.4030 - accuracy: 0.8509 - val_loss: 0.6886 - val_accuracy: 0.6784 - lr: 0.0010\n",
            "Epoch 8/30\n",
            "284/284 [==============================] - 4s 14ms/step - loss: 0.3963 - accuracy: 0.8552 - val_loss: 0.4899 - val_accuracy: 0.8328 - lr: 0.0010\n",
            "Epoch 9/30\n",
            "284/284 [==============================] - 4s 15ms/step - loss: 0.3969 - accuracy: 0.8548 - val_loss: 0.3860 - val_accuracy: 0.8742 - lr: 0.0010\n",
            "Epoch 10/30\n",
            "284/284 [==============================] - 5s 16ms/step - loss: 0.3944 - accuracy: 0.8527 - val_loss: 0.4484 - val_accuracy: 0.8610 - lr: 0.0010\n",
            "Epoch 11/30\n",
            "284/284 [==============================] - 4s 14ms/step - loss: 0.3918 - accuracy: 0.8543 - val_loss: 0.6173 - val_accuracy: 0.7740 - lr: 0.0010\n",
            "Epoch 12/30\n",
            "284/284 [==============================] - 4s 13ms/step - loss: 0.3876 - accuracy: 0.8539 - val_loss: 0.7048 - val_accuracy: 0.7293 - lr: 0.0010\n",
            "Epoch 13/30\n",
            "284/284 [==============================] - 5s 18ms/step - loss: 0.3687 - accuracy: 0.8605 - val_loss: 0.3521 - val_accuracy: 0.9062 - lr: 2.0000e-04\n",
            "Epoch 14/30\n",
            "284/284 [==============================] - 4s 14ms/step - loss: 0.3517 - accuracy: 0.8623 - val_loss: 0.4183 - val_accuracy: 0.8771 - lr: 2.0000e-04\n",
            "Epoch 15/30\n",
            "284/284 [==============================] - 4s 14ms/step - loss: 0.3469 - accuracy: 0.8636 - val_loss: 0.4638 - val_accuracy: 0.8452 - lr: 2.0000e-04\n",
            "Epoch 16/30\n",
            "284/284 [==============================] - 5s 18ms/step - loss: 0.3427 - accuracy: 0.8641 - val_loss: 0.5299 - val_accuracy: 0.7852 - lr: 2.0000e-04\n",
            "Epoch 17/30\n",
            "284/284 [==============================] - 4s 14ms/step - loss: 0.3372 - accuracy: 0.8667 - val_loss: 0.3449 - val_accuracy: 0.9026 - lr: 4.0000e-05\n",
            "Epoch 18/30\n",
            "284/284 [==============================] - 4s 14ms/step - loss: 0.3365 - accuracy: 0.8645 - val_loss: 0.3683 - val_accuracy: 0.8859 - lr: 4.0000e-05\n",
            "Epoch 19/30\n",
            "284/284 [==============================] - 5s 17ms/step - loss: 0.3318 - accuracy: 0.8693 - val_loss: 0.3357 - val_accuracy: 0.9086 - lr: 4.0000e-05\n",
            "Epoch 20/30\n",
            "284/284 [==============================] - 5s 16ms/step - loss: 0.3330 - accuracy: 0.8685 - val_loss: 0.3850 - val_accuracy: 0.8806 - lr: 4.0000e-05\n",
            "Epoch 21/30\n",
            "284/284 [==============================] - 4s 14ms/step - loss: 0.3288 - accuracy: 0.8676 - val_loss: 0.3487 - val_accuracy: 0.9015 - lr: 4.0000e-05\n",
            "Epoch 22/30\n",
            "284/284 [==============================] - 5s 17ms/step - loss: 0.3289 - accuracy: 0.8680 - val_loss: 0.3324 - val_accuracy: 0.9064 - lr: 4.0000e-05\n",
            "Epoch 23/30\n",
            "284/284 [==============================] - 4s 16ms/step - loss: 0.3255 - accuracy: 0.8706 - val_loss: 0.3717 - val_accuracy: 0.8872 - lr: 4.0000e-05\n",
            "Epoch 24/30\n",
            "284/284 [==============================] - 4s 14ms/step - loss: 0.3274 - accuracy: 0.8703 - val_loss: 0.3413 - val_accuracy: 0.8996 - lr: 4.0000e-05\n",
            "Epoch 25/30\n",
            "284/284 [==============================] - 4s 15ms/step - loss: 0.3227 - accuracy: 0.8705 - val_loss: 0.3076 - val_accuracy: 0.9090 - lr: 4.0000e-05\n",
            "Epoch 26/30\n",
            "284/284 [==============================] - 5s 17ms/step - loss: 0.3232 - accuracy: 0.8699 - val_loss: 0.3537 - val_accuracy: 0.8839 - lr: 4.0000e-05\n",
            "Epoch 27/30\n",
            "284/284 [==============================] - 4s 14ms/step - loss: 0.3272 - accuracy: 0.8664 - val_loss: 0.3138 - val_accuracy: 0.9093 - lr: 4.0000e-05\n",
            "Epoch 28/30\n",
            "284/284 [==============================] - 4s 14ms/step - loss: 0.3247 - accuracy: 0.8677 - val_loss: 0.3096 - val_accuracy: 0.9090 - lr: 4.0000e-05\n",
            "Epoch 29/30\n",
            "284/284 [==============================] - 5s 19ms/step - loss: 0.3217 - accuracy: 0.8728 - val_loss: 0.3095 - val_accuracy: 0.9086 - lr: 8.0000e-06\n",
            "Epoch 30/30\n",
            "284/284 [==============================] - 4s 14ms/step - loss: 0.3208 - accuracy: 0.8723 - val_loss: 0.3215 - val_accuracy: 0.9033 - lr: 8.0000e-06\n",
            "710/710 [==============================] - 3s 5ms/step - loss: 0.3037 - accuracy: 0.8845\n",
            "CNN-LSTM Model Training Accuracy: 0.88\n",
            "710/710 [==============================] - 4s 4ms/step\n",
            "CNN-LSTM Model Training F1 Score: 0.88\n"
          ]
        }
      ]
    },
    {
      "cell_type": "code",
      "source": [
        "import numpy as np\n",
        "from keras.models import Sequential\n",
        "from keras.layers import Conv1D, MaxPooling1D, LSTM, Dense, Dropout, BatchNormalization\n",
        "from keras.optimizers import Adam\n",
        "from keras.callbacks import EarlyStopping, ReduceLROnPlateau\n",
        "from keras.utils import to_categorical\n",
        "from sklearn.metrics import f1_score, classification_report\n",
        "from keras.regularizers import l2\n",
        "\n",
        "# Define the CNN-LSTM model architecture with L2 regularization, batch normalization, and increased dropout\n",
        "cnn_lstm_model = Sequential()\n",
        "\n",
        "# CNN layers\n",
        "cnn_lstm_model.add(Conv1D(filters=128, kernel_size=3, activation='relu', input_shape=(X_resampled.shape[1], 1), kernel_regularizer=l2(0.01)))\n",
        "cnn_lstm_model.add(BatchNormalization())\n",
        "cnn_lstm_model.add(MaxPooling1D(pool_size=2))\n",
        "cnn_lstm_model.add(Dropout(0.3))\n",
        "\n",
        "cnn_lstm_model.add(Conv1D(filters=128, kernel_size=3, activation='relu', kernel_regularizer=l2(0.01)))\n",
        "cnn_lstm_model.add(BatchNormalization())\n",
        "cnn_lstm_model.add(MaxPooling1D(pool_size=2))\n",
        "cnn_lstm_model.add(Dropout(0.3))\n",
        "\n",
        "# LSTM layer\n",
        "cnn_lstm_model.add(LSTM(128, return_sequences=True, kernel_regularizer=l2(0.01)))\n",
        "cnn_lstm_model.add(BatchNormalization())\n",
        "cnn_lstm_model.add(Dropout(0.3))\n",
        "\n",
        "cnn_lstm_model.add(LSTM(64, kernel_regularizer=l2(0.01)))\n",
        "cnn_lstm_model.add(BatchNormalization())\n",
        "cnn_lstm_model.add(Dropout(0.3))\n",
        "\n",
        "# Dense layers\n",
        "cnn_lstm_model.add(Dense(128, activation='relu', kernel_regularizer=l2(0.01)))\n",
        "cnn_lstm_model.add(BatchNormalization())\n",
        "cnn_lstm_model.add(Dropout(0.3))\n",
        "\n",
        "cnn_lstm_model.add(Dense(num_classes, activation='softmax'))\n",
        "\n",
        "# Compile the model with custom learning rate\n",
        "learning_rate = 0.0001  # Adjust the learning rate as needed\n",
        "optimizer = Adam(learning_rate=learning_rate)\n",
        "cnn_lstm_model.compile(optimizer=optimizer, loss='categorical_crossentropy', metrics=['accuracy'])\n",
        "\n",
        "# Reshape data for CNN-LSTM\n",
        "X_resampled_cnn_lstm = X_resampled.reshape(X_resampled.shape[0], X_resampled.shape[1], 1)\n",
        "\n",
        "# Define callbacks with modified early stopping patience\n",
        "early_stopping = EarlyStopping(monitor='val_loss', patience=7, restore_best_weights=True, min_delta=0.001)\n",
        "reduce_lr = ReduceLROnPlateau(monitor='val_loss', factor=0.2, patience=3, min_lr=1e-6)\n",
        "\n",
        "# Train the model with callbacks\n",
        "cnn_lstm_history = cnn_lstm_model.fit(X_resampled_cnn_lstm, y_resampled_categorical,\n",
        "                                      epochs=30, batch_size=64, validation_split=0.2,\n",
        "                                      callbacks=[early_stopping, reduce_lr])\n",
        "\n",
        "# Evaluate the model on the training data\n",
        "cnn_lstm_loss, cnn_lstm_accuracy = cnn_lstm_model.evaluate(X_resampled_cnn_lstm, y_resampled_categorical)\n",
        "print(f'CNN-LSTM Model Training Accuracy: {cnn_lstm_accuracy:.2f}')\n",
        "\n",
        "# Make predictions on the training data\n",
        "y_pred_cnn_lstm = cnn_lstm_model.predict(X_resampled_cnn_lstm)\n",
        "y_pred_classes_cnn_lstm = np.argmax(y_pred_cnn_lstm, axis=1)\n",
        "\n",
        "# Compute F1 score for training data\n",
        "f1score_cnn_lstm = f1_score(np.argmax(y_resampled_categorical, axis=1), y_pred_classes_cnn_lstm, average='weighted')\n",
        "print(f'CNN-LSTM Model Training F1 Score: {f1score_cnn_lstm:.2f}')"
      ],
      "metadata": {
        "colab": {
          "base_uri": "https://localhost:8080/"
        },
        "id": "GHrUEKjCXYrc",
        "outputId": "d871c3ba-66ae-49e5-9eb3-9fcfbf80275f"
      },
      "execution_count": 56,
      "outputs": [
        {
          "output_type": "stream",
          "name": "stdout",
          "text": [
            "Epoch 1/30\n",
            "284/284 [==============================] - 15s 17ms/step - loss: 6.3956 - accuracy: 0.6871 - val_loss: 6.3444 - val_accuracy: 0.0229 - lr: 1.0000e-04\n",
            "Epoch 2/30\n",
            "284/284 [==============================] - 5s 18ms/step - loss: 5.6919 - accuracy: 0.7671 - val_loss: 5.6406 - val_accuracy: 0.5385 - lr: 1.0000e-04\n",
            "Epoch 3/30\n",
            "284/284 [==============================] - 4s 13ms/step - loss: 5.1067 - accuracy: 0.7854 - val_loss: 4.8094 - val_accuracy: 0.7758 - lr: 1.0000e-04\n",
            "Epoch 4/30\n",
            "284/284 [==============================] - 4s 14ms/step - loss: 4.5792 - accuracy: 0.8000 - val_loss: 4.3444 - val_accuracy: 0.7725 - lr: 1.0000e-04\n",
            "Epoch 5/30\n",
            "284/284 [==============================] - 5s 16ms/step - loss: 4.0817 - accuracy: 0.8068 - val_loss: 3.9023 - val_accuracy: 0.7868 - lr: 1.0000e-04\n",
            "Epoch 6/30\n",
            "284/284 [==============================] - 4s 15ms/step - loss: 3.6429 - accuracy: 0.8173 - val_loss: 3.4808 - val_accuracy: 0.7797 - lr: 1.0000e-04\n",
            "Epoch 7/30\n",
            "284/284 [==============================] - 4s 13ms/step - loss: 3.2471 - accuracy: 0.8197 - val_loss: 3.1152 - val_accuracy: 0.7954 - lr: 1.0000e-04\n",
            "Epoch 8/30\n",
            "284/284 [==============================] - 4s 15ms/step - loss: 2.8835 - accuracy: 0.8256 - val_loss: 2.7367 - val_accuracy: 0.8117 - lr: 1.0000e-04\n",
            "Epoch 9/30\n",
            "284/284 [==============================] - 5s 17ms/step - loss: 2.5564 - accuracy: 0.8290 - val_loss: 2.3983 - val_accuracy: 0.8423 - lr: 1.0000e-04\n",
            "Epoch 10/30\n",
            "284/284 [==============================] - 4s 14ms/step - loss: 2.2635 - accuracy: 0.8367 - val_loss: 2.1842 - val_accuracy: 0.8163 - lr: 1.0000e-04\n",
            "Epoch 11/30\n",
            "284/284 [==============================] - 4s 14ms/step - loss: 2.0109 - accuracy: 0.8390 - val_loss: 1.8834 - val_accuracy: 0.8623 - lr: 1.0000e-04\n",
            "Epoch 12/30\n",
            "284/284 [==============================] - 5s 17ms/step - loss: 1.7868 - accuracy: 0.8401 - val_loss: 1.6612 - val_accuracy: 0.8722 - lr: 1.0000e-04\n",
            "Epoch 13/30\n",
            "284/284 [==============================] - 4s 13ms/step - loss: 1.5894 - accuracy: 0.8456 - val_loss: 1.5012 - val_accuracy: 0.8700 - lr: 1.0000e-04\n",
            "Epoch 14/30\n",
            "284/284 [==============================] - 4s 13ms/step - loss: 1.4152 - accuracy: 0.8450 - val_loss: 1.2885 - val_accuracy: 0.8958 - lr: 1.0000e-04\n",
            "Epoch 15/30\n",
            "284/284 [==============================] - 5s 17ms/step - loss: 1.2627 - accuracy: 0.8508 - val_loss: 1.1998 - val_accuracy: 0.8815 - lr: 1.0000e-04\n",
            "Epoch 16/30\n",
            "284/284 [==============================] - 4s 14ms/step - loss: 1.1345 - accuracy: 0.8527 - val_loss: 1.1625 - val_accuracy: 0.8498 - lr: 1.0000e-04\n",
            "Epoch 17/30\n",
            "284/284 [==============================] - 4s 13ms/step - loss: 1.0227 - accuracy: 0.8546 - val_loss: 0.9482 - val_accuracy: 0.8912 - lr: 1.0000e-04\n",
            "Epoch 18/30\n",
            "284/284 [==============================] - 4s 15ms/step - loss: 0.9260 - accuracy: 0.8547 - val_loss: 0.8944 - val_accuracy: 0.8868 - lr: 1.0000e-04\n",
            "Epoch 19/30\n",
            "284/284 [==============================] - 5s 16ms/step - loss: 0.8372 - accuracy: 0.8603 - val_loss: 0.7912 - val_accuracy: 0.8896 - lr: 1.0000e-04\n",
            "Epoch 20/30\n",
            "284/284 [==============================] - 4s 13ms/step - loss: 0.7678 - accuracy: 0.8603 - val_loss: 0.7134 - val_accuracy: 0.8989 - lr: 1.0000e-04\n",
            "Epoch 21/30\n",
            "284/284 [==============================] - 4s 13ms/step - loss: 0.7082 - accuracy: 0.8607 - val_loss: 0.6749 - val_accuracy: 0.9088 - lr: 1.0000e-04\n",
            "Epoch 22/30\n",
            "284/284 [==============================] - 5s 17ms/step - loss: 0.6567 - accuracy: 0.8598 - val_loss: 0.6148 - val_accuracy: 0.8989 - lr: 1.0000e-04\n",
            "Epoch 23/30\n",
            "284/284 [==============================] - 4s 13ms/step - loss: 0.6099 - accuracy: 0.8626 - val_loss: 0.6101 - val_accuracy: 0.8833 - lr: 1.0000e-04\n",
            "Epoch 24/30\n",
            "284/284 [==============================] - 4s 14ms/step - loss: 0.5708 - accuracy: 0.8629 - val_loss: 0.6354 - val_accuracy: 0.8683 - lr: 1.0000e-04\n",
            "Epoch 25/30\n",
            "284/284 [==============================] - 5s 17ms/step - loss: 0.5415 - accuracy: 0.8615 - val_loss: 0.5343 - val_accuracy: 0.9015 - lr: 1.0000e-04\n",
            "Epoch 26/30\n",
            "284/284 [==============================] - 4s 14ms/step - loss: 0.5106 - accuracy: 0.8646 - val_loss: 0.6370 - val_accuracy: 0.8185 - lr: 1.0000e-04\n",
            "Epoch 27/30\n",
            "284/284 [==============================] - 4s 13ms/step - loss: 0.4896 - accuracy: 0.8662 - val_loss: 0.3829 - val_accuracy: 0.9436 - lr: 1.0000e-04\n",
            "Epoch 28/30\n",
            "284/284 [==============================] - 4s 15ms/step - loss: 0.4732 - accuracy: 0.8623 - val_loss: 0.3738 - val_accuracy: 0.9434 - lr: 1.0000e-04\n",
            "Epoch 29/30\n",
            "284/284 [==============================] - 5s 16ms/step - loss: 0.4490 - accuracy: 0.8633 - val_loss: 0.5166 - val_accuracy: 0.8663 - lr: 1.0000e-04\n",
            "Epoch 30/30\n",
            "284/284 [==============================] - 4s 13ms/step - loss: 0.4381 - accuracy: 0.8645 - val_loss: 0.5533 - val_accuracy: 0.8374 - lr: 1.0000e-04\n",
            "710/710 [==============================] - 4s 5ms/step - loss: 0.4375 - accuracy: 0.8645\n",
            "CNN-LSTM Model Training Accuracy: 0.86\n",
            "710/710 [==============================] - 3s 4ms/step\n",
            "CNN-LSTM Model Training F1 Score: 0.86\n"
          ]
        }
      ]
    },
    {
      "cell_type": "code",
      "source": [
        "# Reshape test data to match input shape of the model\n",
        "X_test_vectors = X_test_vectors.reshape(X_test_vectors.shape[0], X_test_vectors.shape[1], 1)\n",
        "\n",
        "# Convert test labels to categorical\n",
        "y_test_categorical = to_categorical(y_test, num_classes)\n",
        "\n",
        "# Print shapes of the test data\n",
        "print(f'Shape of X_test_vectors: {X_test_vectors.shape}')\n",
        "print(f'Shape of y_test_categorical: {y_test_categorical.shape}')\n",
        "\n",
        "# Evaluate the model on the testing data\n",
        "try:\n",
        "    loss, accuracy = cnn_lstm_model.evaluate(X_test_vectors, y_test_categorical)\n",
        "    print(f'Test Accuracy: {accuracy:.2f}')\n",
        "except Exception as e:\n",
        "    print(f'Error during model evaluation: {e}')\n",
        "\n",
        "# Make predictions on the test set\n",
        "try:\n",
        "    y_test_pred = cnn_lstm_model.predict(X_test_vectors)\n",
        "    # Convert predictions and true labels from categorical to labels\n",
        "    y_test_pred_labels = np.argmax(y_test_pred, axis=1)\n",
        "    y_test_labels = np.argmax(y_test_categorical, axis=1)\n",
        "\n",
        "    # Generate and print classification report\n",
        "    report = classification_report(y_test_labels, y_test_pred_labels)\n",
        "    print('Classification Report:')\n",
        "    print(report)\n",
        "except Exception as e:\n",
        "    print(f'Error during prediction or report generation: {e}')"
      ],
      "metadata": {
        "colab": {
          "base_uri": "https://localhost:8080/"
        },
        "id": "HTdgPIddR617",
        "outputId": "7f3ee2af-16c6-4f33-9d62-30bddb7c8e4a"
      },
      "execution_count": 58,
      "outputs": [
        {
          "output_type": "stream",
          "name": "stdout",
          "text": [
            "Shape of X_test_vectors: (4000, 100, 1)\n",
            "Shape of y_test_categorical: (4000, 2)\n",
            "125/125 [==============================] - 1s 5ms/step - loss: 0.3930 - accuracy: 0.8827\n",
            "Test Accuracy: 0.88\n",
            "125/125 [==============================] - 1s 4ms/step\n",
            "Classification Report:\n",
            "              precision    recall  f1-score   support\n",
            "\n",
            "           0       0.79      0.78      0.79      1100\n",
            "           1       0.92      0.92      0.92      2900\n",
            "\n",
            "    accuracy                           0.88      4000\n",
            "   macro avg       0.85      0.85      0.85      4000\n",
            "weighted avg       0.88      0.88      0.88      4000\n",
            "\n"
          ]
        }
      ]
    },
    {
      "cell_type": "code",
      "source": [
        "import matplotlib.pyplot as plt\n",
        "\n",
        "# Plot training & validation loss values\n",
        "plt.figure(figsize=(8, 4))\n",
        "\n",
        "# Plot Loss\n",
        "plt.subplot(1, 2, 1)\n",
        "plt.plot(cnn_lstm_history.history['loss'], label='Training Loss')\n",
        "plt.plot(cnn_lstm_history.history['val_loss'], label='Validation Loss')\n",
        "plt.title('Model Loss')\n",
        "plt.xlabel('Epoch')\n",
        "plt.ylabel('Loss')\n",
        "plt.legend(loc='upper right')\n",
        "\n",
        "# Plot Accuracy\n",
        "plt.subplot(1, 2, 2)\n",
        "plt.plot(cnn_lstm_history.history['accuracy'], label='Training Accuracy')\n",
        "plt.plot(cnn_lstm_history.history['val_accuracy'], label='Validation Accuracy')\n",
        "plt.title('Model Accuracy')\n",
        "plt.xlabel('Epoch')\n",
        "plt.ylabel('Accuracy')\n",
        "plt.legend(loc='lower right')\n",
        "\n",
        "plt.tight_layout()\n",
        "plt.show()\n"
      ],
      "metadata": {
        "colab": {
          "base_uri": "https://localhost:8080/",
          "height": 407
        },
        "id": "5rmO2aYxHmkd",
        "outputId": "5daa135b-5f23-4562-8805-bbd7600255a7"
      },
      "execution_count": 57,
      "outputs": [
        {
          "output_type": "display_data",
          "data": {
            "text/plain": [
              "<Figure size 800x400 with 2 Axes>"
            ],
            "image/png": "[encoded data removed]"
          },
          "metadata": {}
        }
      ]
    },
    {
      "cell_type": "code",
      "source": [
        "import numpy as np\n",
        "import tensorflow as tf\n",
        "from transformers import TFBertModel, BertTokenizer\n",
        "from keras.models import Model\n",
        "from keras.layers import Input, LSTM, Dense, Dropout\n",
        "from keras.optimizers import Adam\n",
        "from keras.callbacks import EarlyStopping, ReduceLROnPlateau\n",
        "from sklearn.metrics import f1_score, classification_report\n",
        "from keras.utils import to_categorical\n",
        "\n",
        "# Load BERT model and tokenizer\n",
        "bert_model = TFBertModel.from_pretrained('bert-base-uncased')\n",
        "tokenizer = BertTokenizer.from_pretrained('bert-base-uncased')\n",
        "\n",
        "# Assuming you have tokenized data in train_data['tokenized_text'] and labels in train_data['label']\n",
        "max_len = 128  # Define the maximum length for padding/truncating\n",
        "X_tokenized = train_data['tokenized_text'].tolist()\n",
        "y = train_data['label'].tolist()\n",
        "\n",
        "# Pad/truncate the tokenized sequences to the max length\n",
        "X_padded = tf.keras.preprocessing.sequence.pad_sequences(X_tokenized, maxlen=max_len, padding='post', truncating='post')\n",
        "\n",
        "# Convert labels to categorical format\n",
        "num_classes = len(np.unique(y))\n",
        "y_categorical = to_categorical(y, num_classes)\n",
        "\n",
        "# Define a function to get BERT embeddings\n",
        "def get_bert_embeddings(input_ids):\n",
        "    attention_mask = tf.where(input_ids != 0, 1, 0)\n",
        "    outputs = bert_model(input_ids, attention_mask=attention_mask)\n",
        "    return outputs.last_hidden_state\n",
        "\n",
        "# Define the model architecture\n",
        "input_ids = Input(shape=(max_len,), dtype=tf.int32, name='input_ids')\n",
        "bert_embeddings = tf.keras.layers.Lambda(lambda x: get_bert_embeddings(x))(input_ids)\n",
        "\n",
        "lstm_layer = LSTM(128, return_sequences=False)(bert_embeddings)\n",
        "dropout_layer = Dropout(0.3)(lstm_layer)\n",
        "output_layer = Dense(num_classes, activation='softmax')(dropout_layer)\n",
        "\n",
        "model = Model(inputs=input_ids, outputs=output_layer)\n",
        "\n",
        "# Compile the model\n",
        "learning_rate = 0.001\n",
        "optimizer = Adam(learning_rate=learning_rate)\n",
        "model.compile(optimizer=optimizer, loss='categorical_crossentropy', metrics=['accuracy'])\n",
        "\n",
        "# Define callbacks\n",
        "early_stopping = EarlyStopping(monitor='val_loss', patience=5, restore_best_weights=True, min_delta=0.001)\n",
        "reduce_lr = ReduceLROnPlateau(monitor='val_loss', factor=0.2, patience=2, min_lr=1e-6)\n",
        "\n",
        "# Train the model\n",
        "history = model.fit(X_padded, y_categorical,\n",
        "                    epochs=20, batch_size=32, validation_split=0.2,\n",
        "                    callbacks=[early_stopping, reduce_lr])\n",
        "\n",
        "# Evaluate the model on the training data\n",
        "train_loss, train_accuracy = model.evaluate(X_padded, y_categorical)\n",
        "print(f'Training Accuracy: {train_accuracy:.2f}')\n",
        "\n",
        "# Make predictions on the training data\n",
        "y_train_pred = model.predict(X_padded)\n",
        "y_train_pred_classes = np.argmax(y_train_pred, axis=1)\n",
        "\n",
        "# Compute F1 score for training data\n",
        "f1score_train = f1_score(np.argmax(y_categorical, axis=1), y_train_pred_classes, average='weighted')\n",
        "print(f'Training F1 Score: {f1score_train:.2f}')\n",
        "\n",
        "\n"
      ],
      "metadata": {
        "colab": {
          "base_uri": "https://localhost:8080/",
          "height": 1000,
          "referenced_widgets": [
            "7d13ca9db6a14e168018ec36532c1128",
            "61c10d50a4284d3f9b8fdf2c236c7907",
            "41c1febb0fe44b09b82398c61ce48b33",
            "2d84a184c88e4418b6a942c0c1e2f2b2",
            "4b2677c2a1084048b00db3077c8495b3",
            "caf0a2c6144f42cfa792f92b8efc5095",
            "3631d3b767d14ec8919de358389bc7d8",
            "7a56ff84f03543709d1205440426add7",
            "9ce3f43feac5496cade9812895601532",
            "de1282a2e08a4b4ea8138e14ac0bb386",
            "9413a111d4014484bf42da02ca56b2c1"
          ]
        },
        "id": "DMg1X7DdaZKB",
        "outputId": "14a0cbd2-7b6d-4d51-f81e-3e20ed9b6b13"
      },
      "execution_count": 59,
      "outputs": [
        {
          "output_type": "display_data",
          "data": {
            "text/plain": [
              "model.safetensors:   0%|          | 0.00/440M [00:00<?, ?B/s]"
            ],
            "application/vnd.jupyter.widget-view+json": {
              "version_major": 2,
              "version_minor": 0,
              "model_id": "7d13ca9db6a14e168018ec36532c1128"
            }
          },
          "metadata": {}
        },
        {
          "output_type": "stream",
          "name": "stderr",
          "text": [
            "Some weights of the PyTorch model were not used when initializing the TF 2.0 model TFBertModel: ['cls.predictions.transform.dense.weight', 'cls.predictions.transform.LayerNorm.bias', 'cls.seq_relationship.weight', 'cls.seq_relationship.bias', 'cls.predictions.bias', 'cls.predictions.transform.dense.bias', 'cls.predictions.transform.LayerNorm.weight']\n",
            "- This IS expected if you are initializing TFBertModel from a PyTorch model trained on another task or with another architecture (e.g. initializing a TFBertForSequenceClassification model from a BertForPreTraining model).\n",
            "- This IS NOT expected if you are initializing TFBertModel from a PyTorch model that you expect to be exactly identical (e.g. initializing a TFBertForSequenceClassification model from a BertForSequenceClassification model).\n",
            "All the weights of TFBertModel were initialized from the PyTorch model.\n",
            "If your task is similar to the task the model of the checkpoint was trained on, you can already use TFBertModel for predictions without further training.\n",
            "WARNING:tensorflow:\n",
            "The following Variables were used a Lambda layer's call (lambda), but\n",
            "are not present in its tracked objects:\n",
            "  <tf.Variable 'tf_bert_model/bert/embeddings/word_embeddings/weight:0' shape=(30522, 768) dtype=float32>\n",
            "  <tf.Variable 'tf_bert_model/bert/embeddings/token_type_embeddings/embeddings:0' shape=(2, 768) dtype=float32>\n",
            "  <tf.Variable 'tf_bert_model/bert/embeddings/position_embeddings/embeddings:0' shape=(512, 768) dtype=float32>\n",
            "  <tf.Variable 'tf_bert_model/bert/embeddings/LayerNorm/gamma:0' shape=(768,) dtype=float32>\n",
            "  <tf.Variable 'tf_bert_model/bert/embeddings/LayerNorm/beta:0' shape=(768,) dtype=float32>\n",
            "  <tf.Variable 'tf_bert_model/bert/encoder/layer_._0/attention/self/query/kernel:0' shape=(768, 768) dtype=float32>\n",
            "  <tf.Variable 'tf_bert_model/bert/encoder/layer_._0/attention/self/query/bias:0' shape=(768,) dtype=float32>\n",
            "  <tf.Variable 'tf_bert_model/bert/encoder/layer_._0/attention/self/key/kernel:0' shape=(768, 768) dtype=float32>\n",
            "  <tf.Variable 'tf_bert_model/bert/encoder/layer_._0/attention/self/key/bias:0' shape=(768,) dtype=float32>\n",
            "  <tf.Variable 'tf_bert_model/bert/encoder/layer_._0/attention/self/value/kernel:0' shape=(768, 768) dtype=float32>\n",
            "  <tf.Variable 'tf_bert_model/bert/encoder/layer_._0/attention/self/value/bias:0' shape=(768,) dtype=float32>\n",
            "  <tf.Variable 'tf_bert_model/bert/encoder/layer_._0/attention/output/dense/kernel:0' shape=(768, 768) dtype=float32>\n",
            "  <tf.Variable 'tf_bert_model/bert/encoder/layer_._0/attention/output/dense/bias:0' shape=(768,) dtype=float32>\n",
            "  <tf.Variable 'tf_bert_model/bert/encoder/layer_._0/attention/output/LayerNorm/gamma:0' shape=(768,) dtype=float32>\n",
            "  <tf.Variable 'tf_bert_model/bert/encoder/layer_._0/attention/output/LayerNorm/beta:0' shape=(768,) dtype=float32>\n",
            "  <tf.Variable 'tf_bert_model/bert/encoder/layer_._0/intermediate/dense/kernel:0' shape=(768, 3072) dtype=float32>\n",
            "  <tf.Variable 'tf_bert_model/bert/encoder/layer_._0/intermediate/dense/bias:0' shape=(3072,) dtype=float32>\n",
            "  <tf.Variable 'tf_bert_model/bert/encoder/layer_._0/output/dense/kernel:0' shape=(3072, 768) dtype=float32>\n",
            "  <tf.Variable 'tf_bert_model/bert/encoder/layer_._0/output/dense/bias:0' shape=(768,) dtype=float32>\n",
            "  <tf.Variable 'tf_bert_model/bert/encoder/layer_._0/output/LayerNorm/gamma:0' shape=(768,) dtype=float32>\n",
            "  <tf.Variable 'tf_bert_model/bert/encoder/layer_._0/output/LayerNorm/beta:0' shape=(768,) dtype=float32>\n",
            "  <tf.Variable 'tf_bert_model/bert/encoder/layer_._1/attention/self/query/kernel:0' shape=(768, 768) dtype=float32>\n",
            "  <tf.Variable 'tf_bert_model/bert/encoder/layer_._1/attention/self/query/bias:0' shape=(768,) dtype=float32>\n",
            "  <tf.Variable 'tf_bert_model/bert/encoder/layer_._1/attention/self/key/kernel:0' shape=(768, 768) dtype=float32>\n",
            "  <tf.Variable 'tf_bert_model/bert/encoder/layer_._1/attention/self/key/bias:0' shape=(768,) dtype=float32>\n",
            "  <tf.Variable 'tf_bert_model/bert/encoder/layer_._1/attention/self/value/kernel:0' shape=(768, 768) dtype=float32>\n",
            "  <tf.Variable 'tf_bert_model/bert/encoder/layer_._1/attention/self/value/bias:0' shape=(768,) dtype=float32>\n",
            "  <tf.Variable 'tf_bert_model/bert/encoder/layer_._1/attention/output/dense/kernel:0' shape=(768, 768) dtype=float32>\n",
            "  <tf.Variable 'tf_bert_model/bert/encoder/layer_._1/attention/output/dense/bias:0' shape=(768,) dtype=float32>\n",
            "  <tf.Variable 'tf_bert_model/bert/encoder/layer_._1/attention/output/LayerNorm/gamma:0' shape=(768,) dtype=float32>\n",
            "  <tf.Variable 'tf_bert_model/bert/encoder/layer_._1/attention/output/LayerNorm/beta:0' shape=(768,) dtype=float32>\n",
            "  <tf.Variable 'tf_bert_model/bert/encoder/layer_._1/intermediate/dense/kernel:0' shape=(768, 3072) dtype=float32>\n",
            "  <tf.Variable 'tf_bert_model/bert/encoder/layer_._1/intermediate/dense/bias:0' shape=(3072,) dtype=float32>\n",
            "  <tf.Variable 'tf_bert_model/bert/encoder/layer_._1/output/dense/kernel:0' shape=(3072, 768) dtype=float32>\n",
            "  <tf.Variable 'tf_bert_model/bert/encoder/layer_._1/output/dense/bias:0' shape=(768,) dtype=float32>\n",
            "  <tf.Variable 'tf_bert_model/bert/encoder/layer_._1/output/LayerNorm/gamma:0' shape=(768,) dtype=float32>\n",
            "  <tf.Variable 'tf_bert_model/bert/encoder/layer_._1/output/LayerNorm/beta:0' shape=(768,) dtype=float32>\n",
            "  <tf.Variable 'tf_bert_model/bert/encoder/layer_._2/attention/self/query/kernel:0' shape=(768, 768) dtype=float32>\n",
            "  <tf.Variable 'tf_bert_model/bert/encoder/layer_._2/attention/self/query/bias:0' shape=(768,) dtype=float32>\n",
            "  <tf.Variable 'tf_bert_model/bert/encoder/layer_._2/attention/self/key/kernel:0' shape=(768, 768) dtype=float32>\n",
            "  <tf.Variable 'tf_bert_model/bert/encoder/layer_._2/attention/self/key/bias:0' shape=(768,) dtype=float32>\n",
            "  <tf.Variable 'tf_bert_model/bert/encoder/layer_._2/attention/self/value/kernel:0' shape=(768, 768) dtype=float32>\n",
            "  <tf.Variable 'tf_bert_model/bert/encoder/layer_._2/attention/self/value/bias:0' shape=(768,) dtype=float32>\n",
            "  <tf.Variable 'tf_bert_model/bert/encoder/layer_._2/attention/output/dense/kernel:0' shape=(768, 768) dtype=float32>\n",
            "  <tf.Variable 'tf_bert_model/bert/encoder/layer_._2/attention/output/dense/bias:0' shape=(768,) dtype=float32>\n",
            "  <tf.Variable 'tf_bert_model/bert/encoder/layer_._2/attention/output/LayerNorm/gamma:0' shape=(768,) dtype=float32>\n",
            "  <tf.Variable 'tf_bert_model/bert/encoder/layer_._2/attention/output/LayerNorm/beta:0' shape=(768,) dtype=float32>\n",
            "  <tf.Variable 'tf_bert_model/bert/encoder/layer_._2/intermediate/dense/kernel:0' shape=(768, 3072) dtype=float32>\n",
            "  <tf.Variable 'tf_bert_model/bert/encoder/layer_._2/intermediate/dense/bias:0' shape=(3072,) dtype=float32>\n",
            "  <tf.Variable 'tf_bert_model/bert/encoder/layer_._2/output/dense/kernel:0' shape=(3072, 768) dtype=float32>\n",
            "  <tf.Variable 'tf_bert_model/bert/encoder/layer_._2/output/dense/bias:0' shape=(768,) dtype=float32>\n",
            "  <tf.Variable 'tf_bert_model/bert/encoder/layer_._2/output/LayerNorm/gamma:0' shape=(768,) dtype=float32>\n",
            "  <tf.Variable 'tf_bert_model/bert/encoder/layer_._2/output/LayerNorm/beta:0' shape=(768,) dtype=float32>\n",
            "  <tf.Variable 'tf_bert_model/bert/encoder/layer_._3/attention/self/query/kernel:0' shape=(768, 768) dtype=float32>\n",
            "  <tf.Variable 'tf_bert_model/bert/encoder/layer_._3/attention/self/query/bias:0' shape=(768,) dtype=float32>\n",
            "  <tf.Variable 'tf_bert_model/bert/encoder/layer_._3/attention/self/key/kernel:0' shape=(768, 768) dtype=float32>\n",
            "  <tf.Variable 'tf_bert_model/bert/encoder/layer_._3/attention/self/key/bias:0' shape=(768,) dtype=float32>\n",
            "  <tf.Variable 'tf_bert_model/bert/encoder/layer_._3/attention/self/value/kernel:0' shape=(768, 768) dtype=float32>\n",
            "  <tf.Variable 'tf_bert_model/bert/encoder/layer_._3/attention/self/value/bias:0' shape=(768,) dtype=float32>\n",
            "  <tf.Variable 'tf_bert_model/bert/encoder/layer_._3/attention/output/dense/kernel:0' shape=(768, 768) dtype=float32>\n",
            "  <tf.Variable 'tf_bert_model/bert/encoder/layer_._3/attention/output/dense/bias:0' shape=(768,) dtype=float32>\n",
            "  <tf.Variable 'tf_bert_model/bert/encoder/layer_._3/attention/output/LayerNorm/gamma:0' shape=(768,) dtype=float32>\n",
            "  <tf.Variable 'tf_bert_model/bert/encoder/layer_._3/attention/output/LayerNorm/beta:0' shape=(768,) dtype=float32>\n",
            "  <tf.Variable 'tf_bert_model/bert/encoder/layer_._3/intermediate/dense/kernel:0' shape=(768, 3072) dtype=float32>\n",
            "  <tf.Variable 'tf_bert_model/bert/encoder/layer_._3/intermediate/dense/bias:0' shape=(3072,) dtype=float32>\n",
            "  <tf.Variable 'tf_bert_model/bert/encoder/layer_._3/output/dense/kernel:0' shape=(3072, 768) dtype=float32>\n",
            "  <tf.Variable 'tf_bert_model/bert/encoder/layer_._3/output/dense/bias:0' shape=(768,) dtype=float32>\n",
            "  <tf.Variable 'tf_bert_model/bert/encoder/layer_._3/output/LayerNorm/gamma:0' shape=(768,) dtype=float32>\n",
            "  <tf.Variable 'tf_bert_model/bert/encoder/layer_._3/output/LayerNorm/beta:0' shape=(768,) dtype=float32>\n",
            "  <tf.Variable 'tf_bert_model/bert/encoder/layer_._4/attention/self/query/kernel:0' shape=(768, 768) dtype=float32>\n",
            "  <tf.Variable 'tf_bert_model/bert/encoder/layer_._4/attention/self/query/bias:0' shape=(768,) dtype=float32>\n",
            "  <tf.Variable 'tf_bert_model/bert/encoder/layer_._4/attention/self/key/kernel:0' shape=(768, 768) dtype=float32>\n",
            "  <tf.Variable 'tf_bert_model/bert/encoder/layer_._4/attention/self/key/bias:0' shape=(768,) dtype=float32>\n",
            "  <tf.Variable 'tf_bert_model/bert/encoder/layer_._4/attention/self/value/kernel:0' shape=(768, 768) dtype=float32>\n",
            "  <tf.Variable 'tf_bert_model/bert/encoder/layer_._4/attention/self/value/bias:0' shape=(768,) dtype=float32>\n",
            "  <tf.Variable 'tf_bert_model/bert/encoder/layer_._4/attention/output/dense/kernel:0' shape=(768, 768) dtype=float32>\n",
            "  <tf.Variable 'tf_bert_model/bert/encoder/layer_._4/attention/output/dense/bias:0' shape=(768,) dtype=float32>\n",
            "  <tf.Variable 'tf_bert_model/bert/encoder/layer_._4/attention/output/LayerNorm/gamma:0' shape=(768,) dtype=float32>\n",
            "  <tf.Variable 'tf_bert_model/bert/encoder/layer_._4/attention/output/LayerNorm/beta:0' shape=(768,) dtype=float32>\n",
            "  <tf.Variable 'tf_bert_model/bert/encoder/layer_._4/intermediate/dense/kernel:0' shape=(768, 3072) dtype=float32>\n",
            "  <tf.Variable 'tf_bert_model/bert/encoder/layer_._4/intermediate/dense/bias:0' shape=(3072,) dtype=float32>\n",
            "  <tf.Variable 'tf_bert_model/bert/encoder/layer_._4/output/dense/kernel:0' shape=(3072, 768) dtype=float32>\n",
            "  <tf.Variable 'tf_bert_model/bert/encoder/layer_._4/output/dense/bias:0' shape=(768,) dtype=float32>\n",
            "  <tf.Variable 'tf_bert_model/bert/encoder/layer_._4/output/LayerNorm/gamma:0' shape=(768,) dtype=float32>\n",
            "  <tf.Variable 'tf_bert_model/bert/encoder/layer_._4/output/LayerNorm/beta:0' shape=(768,) dtype=float32>\n",
            "  <tf.Variable 'tf_bert_model/bert/encoder/layer_._5/attention/self/query/kernel:0' shape=(768, 768) dtype=float32>\n",
            "  <tf.Variable 'tf_bert_model/bert/encoder/layer_._5/attention/self/query/bias:0' shape=(768,) dtype=float32>\n",
            "  <tf.Variable 'tf_bert_model/bert/encoder/layer_._5/attention/self/key/kernel:0' shape=(768, 768) dtype=float32>\n",
            "  <tf.Variable 'tf_bert_model/bert/encoder/layer_._5/attention/self/key/bias:0' shape=(768,) dtype=float32>\n",
            "  <tf.Variable 'tf_bert_model/bert/encoder/layer_._5/attention/self/value/kernel:0' shape=(768, 768) dtype=float32>\n",
            "  <tf.Variable 'tf_bert_model/bert/encoder/layer_._5/attention/self/value/bias:0' shape=(768,) dtype=float32>\n",
            "  <tf.Variable 'tf_bert_model/bert/encoder/layer_._5/attention/output/dense/kernel:0' shape=(768, 768) dtype=float32>\n",
            "  <tf.Variable 'tf_bert_model/bert/encoder/layer_._5/attention/output/dense/bias:0' shape=(768,) dtype=float32>\n",
            "  <tf.Variable 'tf_bert_model/bert/encoder/layer_._5/attention/output/LayerNorm/gamma:0' shape=(768,) dtype=float32>\n",
            "  <tf.Variable 'tf_bert_model/bert/encoder/layer_._5/attention/output/LayerNorm/beta:0' shape=(768,) dtype=float32>\n",
            "  <tf.Variable 'tf_bert_model/bert/encoder/layer_._5/intermediate/dense/kernel:0' shape=(768, 3072) dtype=float32>\n",
            "  <tf.Variable 'tf_bert_model/bert/encoder/layer_._5/intermediate/dense/bias:0' shape=(3072,) dtype=float32>\n",
            "  <tf.Variable 'tf_bert_model/bert/encoder/layer_._5/output/dense/kernel:0' shape=(3072, 768) dtype=float32>\n",
            "  <tf.Variable 'tf_bert_model/bert/encoder/layer_._5/output/dense/bias:0' shape=(768,) dtype=float32>\n",
            "  <tf.Variable 'tf_bert_model/bert/encoder/layer_._5/output/LayerNorm/gamma:0' shape=(768,) dtype=float32>\n",
            "  <tf.Variable 'tf_bert_model/bert/encoder/layer_._5/output/LayerNorm/beta:0' shape=(768,) dtype=float32>\n",
            "  <tf.Variable 'tf_bert_model/bert/encoder/layer_._6/attention/self/query/kernel:0' shape=(768, 768) dtype=float32>\n",
            "  <tf.Variable 'tf_bert_model/bert/encoder/layer_._6/attention/self/query/bias:0' shape=(768,) dtype=float32>\n",
            "  <tf.Variable 'tf_bert_model/bert/encoder/layer_._6/attention/self/key/kernel:0' shape=(768, 768) dtype=float32>\n",
            "  <tf.Variable 'tf_bert_model/bert/encoder/layer_._6/attention/self/key/bias:0' shape=(768,) dtype=float32>\n",
            "  <tf.Variable 'tf_bert_model/bert/encoder/layer_._6/attention/self/value/kernel:0' shape=(768, 768) dtype=float32>\n",
            "  <tf.Variable 'tf_bert_model/bert/encoder/layer_._6/attention/self/value/bias:0' shape=(768,) dtype=float32>\n",
            "  <tf.Variable 'tf_bert_model/bert/encoder/layer_._6/attention/output/dense/kernel:0' shape=(768, 768) dtype=float32>\n",
            "  <tf.Variable 'tf_bert_model/bert/encoder/layer_._6/attention/output/dense/bias:0' shape=(768,) dtype=float32>\n",
            "  <tf.Variable 'tf_bert_model/bert/encoder/layer_._6/attention/output/LayerNorm/gamma:0' shape=(768,) dtype=float32>\n",
            "  <tf.Variable 'tf_bert_model/bert/encoder/layer_._6/attention/output/LayerNorm/beta:0' shape=(768,) dtype=float32>\n",
            "  <tf.Variable 'tf_bert_model/bert/encoder/layer_._6/intermediate/dense/kernel:0' shape=(768, 3072) dtype=float32>\n",
            "  <tf.Variable 'tf_bert_model/bert/encoder/layer_._6/intermediate/dense/bias:0' shape=(3072,) dtype=float32>\n",
            "  <tf.Variable 'tf_bert_model/bert/encoder/layer_._6/output/dense/kernel:0' shape=(3072, 768) dtype=float32>\n",
            "  <tf.Variable 'tf_bert_model/bert/encoder/layer_._6/output/dense/bias:0' shape=(768,) dtype=float32>\n",
            "  <tf.Variable 'tf_bert_model/bert/encoder/layer_._6/output/LayerNorm/gamma:0' shape=(768,) dtype=float32>\n",
            "  <tf.Variable 'tf_bert_model/bert/encoder/layer_._6/output/LayerNorm/beta:0' shape=(768,) dtype=float32>\n",
            "  <tf.Variable 'tf_bert_model/bert/encoder/layer_._7/attention/self/query/kernel:0' shape=(768, 768) dtype=float32>\n",
            "  <tf.Variable 'tf_bert_model/bert/encoder/layer_._7/attention/self/query/bias:0' shape=(768,) dtype=float32>\n",
            "  <tf.Variable 'tf_bert_model/bert/encoder/layer_._7/attention/self/key/kernel:0' shape=(768, 768) dtype=float32>\n",
            "  <tf.Variable 'tf_bert_model/bert/encoder/layer_._7/attention/self/key/bias:0' shape=(768,) dtype=float32>\n",
            "  <tf.Variable 'tf_bert_model/bert/encoder/layer_._7/attention/self/value/kernel:0' shape=(768, 768) dtype=float32>\n",
            "  <tf.Variable 'tf_bert_model/bert/encoder/layer_._7/attention/self/value/bias:0' shape=(768,) dtype=float32>\n",
            "  <tf.Variable 'tf_bert_model/bert/encoder/layer_._7/attention/output/dense/kernel:0' shape=(768, 768) dtype=float32>\n",
            "  <tf.Variable 'tf_bert_model/bert/encoder/layer_._7/attention/output/dense/bias:0' shape=(768,) dtype=float32>\n",
            "  <tf.Variable 'tf_bert_model/bert/encoder/layer_._7/attention/output/LayerNorm/gamma:0' shape=(768,) dtype=float32>\n",
            "  <tf.Variable 'tf_bert_model/bert/encoder/layer_._7/attention/output/LayerNorm/beta:0' shape=(768,) dtype=float32>\n",
            "  <tf.Variable 'tf_bert_model/bert/encoder/layer_._7/intermediate/dense/kernel:0' shape=(768, 3072) dtype=float32>\n",
            "  <tf.Variable 'tf_bert_model/bert/encoder/layer_._7/intermediate/dense/bias:0' shape=(3072,) dtype=float32>\n",
            "  <tf.Variable 'tf_bert_model/bert/encoder/layer_._7/output/dense/kernel:0' shape=(3072, 768) dtype=float32>\n",
            "  <tf.Variable 'tf_bert_model/bert/encoder/layer_._7/output/dense/bias:0' shape=(768,) dtype=float32>\n",
            "  <tf.Variable 'tf_bert_model/bert/encoder/layer_._7/output/LayerNorm/gamma:0' shape=(768,) dtype=float32>\n",
            "  <tf.Variable 'tf_bert_model/bert/encoder/layer_._7/output/LayerNorm/beta:0' shape=(768,) dtype=float32>\n",
            "  <tf.Variable 'tf_bert_model/bert/encoder/layer_._8/attention/self/query/kernel:0' shape=(768, 768) dtype=float32>\n",
            "  <tf.Variable 'tf_bert_model/bert/encoder/layer_._8/attention/self/query/bias:0' shape=(768,) dtype=float32>\n",
            "  <tf.Variable 'tf_bert_model/bert/encoder/layer_._8/attention/self/key/kernel:0' shape=(768, 768) dtype=float32>\n",
            "  <tf.Variable 'tf_bert_model/bert/encoder/layer_._8/attention/self/key/bias:0' shape=(768,) dtype=float32>\n",
            "  <tf.Variable 'tf_bert_model/bert/encoder/layer_._8/attention/self/value/kernel:0' shape=(768, 768) dtype=float32>\n",
            "  <tf.Variable 'tf_bert_model/bert/encoder/layer_._8/attention/self/value/bias:0' shape=(768,) dtype=float32>\n",
            "  <tf.Variable 'tf_bert_model/bert/encoder/layer_._8/attention/output/dense/kernel:0' shape=(768, 768) dtype=float32>\n",
            "  <tf.Variable 'tf_bert_model/bert/encoder/layer_._8/attention/output/dense/bias:0' shape=(768,) dtype=float32>\n",
            "  <tf.Variable 'tf_bert_model/bert/encoder/layer_._8/attention/output/LayerNorm/gamma:0' shape=(768,) dtype=float32>\n",
            "  <tf.Variable 'tf_bert_model/bert/encoder/layer_._8/attention/output/LayerNorm/beta:0' shape=(768,) dtype=float32>\n",
            "  <tf.Variable 'tf_bert_model/bert/encoder/layer_._8/intermediate/dense/kernel:0' shape=(768, 3072) dtype=float32>\n",
            "  <tf.Variable 'tf_bert_model/bert/encoder/layer_._8/intermediate/dense/bias:0' shape=(3072,) dtype=float32>\n",
            "  <tf.Variable 'tf_bert_model/bert/encoder/layer_._8/output/dense/kernel:0' shape=(3072, 768) dtype=float32>\n",
            "  <tf.Variable 'tf_bert_model/bert/encoder/layer_._8/output/dense/bias:0' shape=(768,) dtype=float32>\n",
            "  <tf.Variable 'tf_bert_model/bert/encoder/layer_._8/output/LayerNorm/gamma:0' shape=(768,) dtype=float32>\n",
            "  <tf.Variable 'tf_bert_model/bert/encoder/layer_._8/output/LayerNorm/beta:0' shape=(768,) dtype=float32>\n",
            "  <tf.Variable 'tf_bert_model/bert/encoder/layer_._9/attention/self/query/kernel:0' shape=(768, 768) dtype=float32>\n",
            "  <tf.Variable 'tf_bert_model/bert/encoder/layer_._9/attention/self/query/bias:0' shape=(768,) dtype=float32>\n",
            "  <tf.Variable 'tf_bert_model/bert/encoder/layer_._9/attention/self/key/kernel:0' shape=(768, 768) dtype=float32>\n",
            "  <tf.Variable 'tf_bert_model/bert/encoder/layer_._9/attention/self/key/bias:0' shape=(768,) dtype=float32>\n",
            "  <tf.Variable 'tf_bert_model/bert/encoder/layer_._9/attention/self/value/kernel:0' shape=(768, 768) dtype=float32>\n",
            "  <tf.Variable 'tf_bert_model/bert/encoder/layer_._9/attention/self/value/bias:0' shape=(768,) dtype=float32>\n",
            "  <tf.Variable 'tf_bert_model/bert/encoder/layer_._9/attention/output/dense/kernel:0' shape=(768, 768) dtype=float32>\n",
            "  <tf.Variable 'tf_bert_model/bert/encoder/layer_._9/attention/output/dense/bias:0' shape=(768,) dtype=float32>\n",
            "  <tf.Variable 'tf_bert_model/bert/encoder/layer_._9/attention/output/LayerNorm/gamma:0' shape=(768,) dtype=float32>\n",
            "  <tf.Variable 'tf_bert_model/bert/encoder/layer_._9/attention/output/LayerNorm/beta:0' shape=(768,) dtype=float32>\n",
            "  <tf.Variable 'tf_bert_model/bert/encoder/layer_._9/intermediate/dense/kernel:0' shape=(768, 3072) dtype=float32>\n",
            "  <tf.Variable 'tf_bert_model/bert/encoder/layer_._9/intermediate/dense/bias:0' shape=(3072,) dtype=float32>\n",
            "  <tf.Variable 'tf_bert_model/bert/encoder/layer_._9/output/dense/kernel:0' shape=(3072, 768) dtype=float32>\n",
            "  <tf.Variable 'tf_bert_model/bert/encoder/layer_._9/output/dense/bias:0' shape=(768,) dtype=float32>\n",
            "  <tf.Variable 'tf_bert_model/bert/encoder/layer_._9/output/LayerNorm/gamma:0' shape=(768,) dtype=float32>\n",
            "  <tf.Variable 'tf_bert_model/bert/encoder/layer_._9/output/LayerNorm/beta:0' shape=(768,) dtype=float32>\n",
            "  <tf.Variable 'tf_bert_model/bert/encoder/layer_._10/attention/self/query/kernel:0' shape=(768, 768) dtype=float32>\n",
            "  <tf.Variable 'tf_bert_model/bert/encoder/layer_._10/attention/self/query/bias:0' shape=(768,) dtype=float32>\n",
            "  <tf.Variable 'tf_bert_model/bert/encoder/layer_._10/attention/self/key/kernel:0' shape=(768, 768) dtype=float32>\n",
            "  <tf.Variable 'tf_bert_model/bert/encoder/layer_._10/attention/self/key/bias:0' shape=(768,) dtype=float32>\n",
            "  <tf.Variable 'tf_bert_model/bert/encoder/layer_._10/attention/self/value/kernel:0' shape=(768, 768) dtype=float32>\n",
            "  <tf.Variable 'tf_bert_model/bert/encoder/layer_._10/attention/self/value/bias:0' shape=(768,) dtype=float32>\n",
            "  <tf.Variable 'tf_bert_model/bert/encoder/layer_._10/attention/output/dense/kernel:0' shape=(768, 768) dtype=float32>\n",
            "  <tf.Variable 'tf_bert_model/bert/encoder/layer_._10/attention/output/dense/bias:0' shape=(768,) dtype=float32>\n",
            "  <tf.Variable 'tf_bert_model/bert/encoder/layer_._10/attention/output/LayerNorm/gamma:0' shape=(768,) dtype=float32>\n",
            "  <tf.Variable 'tf_bert_model/bert/encoder/layer_._10/attention/output/LayerNorm/beta:0' shape=(768,) dtype=float32>\n",
            "  <tf.Variable 'tf_bert_model/bert/encoder/layer_._10/intermediate/dense/kernel:0' shape=(768, 3072) dtype=float32>\n",
            "  <tf.Variable 'tf_bert_model/bert/encoder/layer_._10/intermediate/dense/bias:0' shape=(3072,) dtype=float32>\n",
            "  <tf.Variable 'tf_bert_model/bert/encoder/layer_._10/output/dense/kernel:0' shape=(3072, 768) dtype=float32>\n",
            "  <tf.Variable 'tf_bert_model/bert/encoder/layer_._10/output/dense/bias:0' shape=(768,) dtype=float32>\n",
            "  <tf.Variable 'tf_bert_model/bert/encoder/layer_._10/output/LayerNorm/gamma:0' shape=(768,) dtype=float32>\n",
            "  <tf.Variable 'tf_bert_model/bert/encoder/layer_._10/output/LayerNorm/beta:0' shape=(768,) dtype=float32>\n",
            "  <tf.Variable 'tf_bert_model/bert/encoder/layer_._11/attention/self/query/kernel:0' shape=(768, 768) dtype=float32>\n",
            "  <tf.Variable 'tf_bert_model/bert/encoder/layer_._11/attention/self/query/bias:0' shape=(768,) dtype=float32>\n",
            "  <tf.Variable 'tf_bert_model/bert/encoder/layer_._11/attention/self/key/kernel:0' shape=(768, 768) dtype=float32>\n",
            "  <tf.Variable 'tf_bert_model/bert/encoder/layer_._11/attention/self/key/bias:0' shape=(768,) dtype=float32>\n",
            "  <tf.Variable 'tf_bert_model/bert/encoder/layer_._11/attention/self/value/kernel:0' shape=(768, 768) dtype=float32>\n",
            "  <tf.Variable 'tf_bert_model/bert/encoder/layer_._11/attention/self/value/bias:0' shape=(768,) dtype=float32>\n",
            "  <tf.Variable 'tf_bert_model/bert/encoder/layer_._11/attention/output/dense/kernel:0' shape=(768, 768) dtype=float32>\n",
            "  <tf.Variable 'tf_bert_model/bert/encoder/layer_._11/attention/output/dense/bias:0' shape=(768,) dtype=float32>\n",
            "  <tf.Variable 'tf_bert_model/bert/encoder/layer_._11/attention/output/LayerNorm/gamma:0' shape=(768,) dtype=float32>\n",
            "  <tf.Variable 'tf_bert_model/bert/encoder/layer_._11/attention/output/LayerNorm/beta:0' shape=(768,) dtype=float32>\n",
            "  <tf.Variable 'tf_bert_model/bert/encoder/layer_._11/intermediate/dense/kernel:0' shape=(768, 3072) dtype=float32>\n",
            "  <tf.Variable 'tf_bert_model/bert/encoder/layer_._11/intermediate/dense/bias:0' shape=(3072,) dtype=float32>\n",
            "  <tf.Variable 'tf_bert_model/bert/encoder/layer_._11/output/dense/kernel:0' shape=(3072, 768) dtype=float32>\n",
            "  <tf.Variable 'tf_bert_model/bert/encoder/layer_._11/output/dense/bias:0' shape=(768,) dtype=float32>\n",
            "  <tf.Variable 'tf_bert_model/bert/encoder/layer_._11/output/LayerNorm/gamma:0' shape=(768,) dtype=float32>\n",
            "  <tf.Variable 'tf_bert_model/bert/encoder/layer_._11/output/LayerNorm/beta:0' shape=(768,) dtype=float32>\n",
            "  <tf.Variable 'tf_bert_model/bert/pooler/dense/kernel:0' shape=(768, 768) dtype=float32>\n",
            "  <tf.Variable 'tf_bert_model/bert/pooler/dense/bias:0' shape=(768,) dtype=float32>\n",
            "It is possible that this is intended behavior, but it is more likely\n",
            "an omission. This is a strong indication that this layer should be\n",
            "formulated as a subclassed Layer rather than a Lambda layer.\n",
            "WARNING:tensorflow:Layer lstm_27 will not use cuDNN kernels since it doesn't meet the criteria. It will use a generic GPU kernel as fallback when running on GPU.\n"
          ]
        },
        {
          "output_type": "stream",
          "name": "stdout",
          "text": [
            "Epoch 1/20\n",
            "399/399 [==============================] - 249s 561ms/step - loss: 0.3282 - accuracy: 0.8565 - val_loss: 0.3134 - val_accuracy: 0.8821 - lr: 0.0010\n",
            "Epoch 2/20\n",
            "399/399 [==============================] - 213s 534ms/step - loss: 0.2937 - accuracy: 0.8713 - val_loss: 0.2788 - val_accuracy: 0.8821 - lr: 0.0010\n",
            "Epoch 3/20\n",
            "399/399 [==============================] - 213s 534ms/step - loss: 0.2541 - accuracy: 0.8921 - val_loss: 0.2723 - val_accuracy: 0.8928 - lr: 0.0010\n",
            "Epoch 4/20\n",
            "399/399 [==============================] - 214s 535ms/step - loss: 0.2356 - accuracy: 0.9030 - val_loss: 0.2548 - val_accuracy: 0.8987 - lr: 0.0010\n",
            "Epoch 5/20\n",
            "399/399 [==============================] - 213s 532ms/step - loss: 0.2216 - accuracy: 0.9075 - val_loss: 0.2434 - val_accuracy: 0.9013 - lr: 0.0010\n",
            "Epoch 6/20\n",
            "399/399 [==============================] - 213s 533ms/step - loss: 0.2105 - accuracy: 0.9114 - val_loss: 0.2503 - val_accuracy: 0.8991 - lr: 0.0010\n",
            "Epoch 7/20\n",
            "399/399 [==============================] - 200s 500ms/step - loss: 0.1946 - accuracy: 0.9194 - val_loss: 0.2654 - val_accuracy: 0.8909 - lr: 0.0010\n",
            "Epoch 8/20\n",
            "399/399 [==============================] - 211s 529ms/step - loss: 0.1630 - accuracy: 0.9322 - val_loss: 0.2557 - val_accuracy: 0.9013 - lr: 2.0000e-04\n",
            "Epoch 9/20\n",
            "399/399 [==============================] - 200s 501ms/step - loss: 0.1493 - accuracy: 0.9391 - val_loss: 0.2734 - val_accuracy: 0.9016 - lr: 2.0000e-04\n",
            "Epoch 10/20\n",
            "399/399 [==============================] - 216s 542ms/step - loss: 0.1350 - accuracy: 0.9443 - val_loss: 0.2735 - val_accuracy: 0.9013 - lr: 4.0000e-05\n",
            "499/499 [==============================] - 147s 295ms/step - loss: 0.2130 - accuracy: 0.9160\n",
            "Training Accuracy: 0.92\n",
            "499/499 [==============================] - 157s 295ms/step\n",
            "Training F1 Score: 0.92\n"
          ]
        }
      ]
    },
    {
      "cell_type": "code",
      "source": [
        "# Clean the testing data\n",
        "test_data['clean_text'] = test_data['text'].apply(clean_text)\n",
        "\n",
        "# Tokenize the text\n",
        "test_data['tokenized_text'] = test_data['clean_text'].apply(lambda x: tokenizer.encode(x, add_special_tokens=True))\n",
        "\n",
        "# Pad/truncate the tokenized sequences to the max length\n",
        "X_test_padded = tf.keras.preprocessing.sequence.pad_sequences(test_data['tokenized_text'].tolist(), maxlen=max_len, padding='post', truncating='post')\n",
        "\n",
        "# Convert labels to categorical format\n",
        "y_test_categorical = to_categorical(test_data['label'], num_classes)\n",
        "\n",
        "# Evaluate the model on the test data\n",
        "test_loss, test_accuracy = model.evaluate(X_test_padded, y_test_categorical)\n",
        "print(f'Test Accuracy: {test_accuracy:.2f}')\n",
        "\n",
        "# Make predictions on the test set\n",
        "y_test_pred = model.predict(X_test_padded)\n",
        "y_test_pred_classes = np.argmax(y_test_pred, axis=1)\n",
        "\n",
        "# Generate and print classification report\n",
        "report = classification_report(np.argmax(y_test_categorical, axis=1), y_test_pred_classes)\n",
        "print('Classification Report:')\n",
        "print(report)\n"
      ],
      "metadata": {
        "colab": {
          "base_uri": "https://localhost:8080/"
        },
        "id": "EsISMy9ybI5T",
        "outputId": "6803ca57-881b-42c5-88c3-06e16b4d3990"
      },
      "execution_count": 60,
      "outputs": [
        {
          "output_type": "stream",
          "name": "stderr",
          "text": [
            "<ipython-input-14-12dab4262dd2>:11: MarkupResemblesLocatorWarning: The input looks more like a filename than markup. You may want to open this file and pass the filehandle into Beautiful Soup.\n",
            "  text = BeautifulSoup(text, \"html.parser\").get_text()  # Remove HTML tags\n"
          ]
        },
        {
          "output_type": "stream",
          "name": "stdout",
          "text": [
            "125/125 [==============================] - 37s 297ms/step - loss: 0.2344 - accuracy: 0.9020\n",
            "Test Accuracy: 0.90\n",
            "125/125 [==============================] - 37s 295ms/step\n",
            "Classification Report:\n",
            "              precision    recall  f1-score   support\n",
            "\n",
            "           0       0.81      0.84      0.82      1100\n",
            "           1       0.94      0.93      0.93      2900\n",
            "\n",
            "    accuracy                           0.90      4000\n",
            "   macro avg       0.87      0.88      0.88      4000\n",
            "weighted avg       0.90      0.90      0.90      4000\n",
            "\n"
          ]
        }
      ]
    },
    {
      "cell_type": "code",
      "source": [
        "import matplotlib.pyplot as plt\n",
        "\n",
        "# Plot training & validation loss values\n",
        "plt.figure(figsize=(8, 4))\n",
        "\n",
        "# Plot Loss\n",
        "plt.subplot(1, 2, 1)\n",
        "plt.plot(history.history['loss'], label='Training Loss')\n",
        "plt.plot(history.history['val_loss'], label='Validation Loss')\n",
        "plt.title('Model Loss')\n",
        "plt.xlabel('Epoch')\n",
        "plt.ylabel('Loss')\n",
        "plt.legend(loc='upper right')\n",
        "\n",
        "# Plot Accuracy\n",
        "plt.subplot(1, 2, 2)\n",
        "plt.plot(history.history['accuracy'], label='Training Accuracy')\n",
        "plt.plot(history.history['val_accuracy'], label='Validation Accuracy')\n",
        "plt.title('Model Accuracy')\n",
        "plt.xlabel('Epoch')\n",
        "plt.ylabel('Accuracy')\n",
        "plt.legend(loc='lower right')\n",
        "\n",
        "plt.tight_layout()\n",
        "plt.show()\n"
      ],
      "metadata": {
        "colab": {
          "base_uri": "https://localhost:8080/",
          "height": 407
        },
        "id": "3CKAsiVLqKQV",
        "outputId": "7fc21260-4bd9-4322-ad4f-788940f8eb1f"
      },
      "execution_count": 61,
      "outputs": [
        {
          "output_type": "display_data",
          "data": {
            "text/plain": [
              "<Figure size 800x400 with 2 Axes>"
            ],
            "image/png": "[encoded data removed]"
          },
          "metadata": {}
        }
      ]
    }
  ],
  "metadata": {
    "colab": {
      "toc_visible": true,
      "provenance": [],
      "gpuType": "T4"
    },
    "kernelspec": {
      "display_name": "Python 3",
      "name": "python3"
    },
    "language_info": {
      "codemirror_mode": {
        "name": "ipython",
        "version": 3
      },
      "file_extension": ".py",
      "mimetype": "text/x-python",
      "name": "python",
      "nbconvert_exporter": "python",
      "pygments_lexer": "ipython3",
      "version": "3.10.9"
    },
    "accelerator": "GPU",
    "widgets": {
      "application/vnd.jupyter.widget-state+json": {
        "a20fb55c4203423b96e4d9ad3b13d4b1": {
          "model_module": "@jupyter-widgets/controls",
          "model_name": "HBoxModel",
          "model_module_version": "1.5.0",
          "state": {
            "_dom_classes": [],
            "_model_module": "@jupyter-widgets/controls",
            "_model_module_version": "1.5.0",
            "_model_name": "HBoxModel",
            "_view_count": null,
            "_view_module": "@jupyter-widgets/controls",
            "_view_module_version": "1.5.0",
            "_view_name": "HBoxView",
            "box_style": "",
            "children": [
              "IPY_MODEL_86a89ad07d8a49bca968bc659854badd",
              "IPY_MODEL_95f520b004e948f68571775c980d8d59",
              "IPY_MODEL_a4275a2a7a7b418891c28cc89d3249b4"
            ],
            "layout": "IPY_MODEL_586351406d93497299908684d95546e4"
          }
        },
        "86a89ad07d8a49bca968bc659854badd": {
          "model_module": "@jupyter-widgets/controls",
          "model_name": "HTMLModel",
          "model_module_version": "1.5.0",
          "state": {
            "_dom_classes": [],
            "_model_module": "@jupyter-widgets/controls",
            "_model_module_version": "1.5.0",
            "_model_name": "HTMLModel",
            "_view_count": null,
            "_view_module": "@jupyter-widgets/controls",
            "_view_module_version": "1.5.0",
            "_view_name": "HTMLView",
            "description": "",
            "description_tooltip": null,
            "layout": "IPY_MODEL_3511c8dc7bd2470aa88e868fdaea4719",
            "placeholder": "​",
            "style": "IPY_MODEL_dd7903c25cc54f8da2908ede82dd716e",
            "value": "tokenizer_config.json: 100%"
          }
        },
        "95f520b004e948f68571775c980d8d59": {
          "model_module": "@jupyter-widgets/controls",
          "model_name": "FloatProgressModel",
          "model_module_version": "1.5.0",
          "state": {
            "_dom_classes": [],
            "_model_module": "@jupyter-widgets/controls",
            "_model_module_version": "1.5.0",
            "_model_name": "FloatProgressModel",
            "_view_count": null,
            "_view_module": "@jupyter-widgets/controls",
            "_view_module_version": "1.5.0",
            "_view_name": "ProgressView",
            "bar_style": "success",
            "description": "",
            "description_tooltip": null,
            "layout": "IPY_MODEL_9c7f7cda5b10402497a2e9ac459ce721",
            "max": 48,
            "min": 0,
            "orientation": "horizontal",
            "style": "IPY_MODEL_26cf88e8eaae4173a5ad6514176c09c9",
            "value": 48
          }
        },
        "a4275a2a7a7b418891c28cc89d3249b4": {
          "model_module": "@jupyter-widgets/controls",
          "model_name": "HTMLModel",
          "model_module_version": "1.5.0",
          "state": {
            "_dom_classes": [],
            "_model_module": "@jupyter-widgets/controls",
            "_model_module_version": "1.5.0",
            "_model_name": "HTMLModel",
            "_view_count": null,
            "_view_module": "@jupyter-widgets/controls",
            "_view_module_version": "1.5.0",
            "_view_name": "HTMLView",
            "description": "",
            "description_tooltip": null,
            "layout": "IPY_MODEL_05916dfa81f04e20b9b0c071e40c5c6b",
            "placeholder": "​",
            "style": "IPY_MODEL_4c9937842b2e466087d055efdea5a5f2",
            "value": " 48.0/48.0 [00:00&lt;00:00, 497B/s]"
          }
        },
        "586351406d93497299908684d95546e4": {
          "model_module": "@jupyter-widgets/base",
          "model_name": "LayoutModel",
          "model_module_version": "1.2.0",
          "state": {
            "_model_module": "@jupyter-widgets/base",
            "_model_module_version": "1.2.0",
            "_model_name": "LayoutModel",
            "_view_count": null,
            "_view_module": "@jupyter-widgets/base",
            "_view_module_version": "1.2.0",
            "_view_name": "LayoutView",
            "align_content": null,
            "align_items": null,
            "align_self": null,
            "border": null,
            "bottom": null,
            "display": null,
            "flex": null,
            "flex_flow": null,
            "grid_area": null,
            "grid_auto_columns": null,
            "grid_auto_flow": null,
            "grid_auto_rows": null,
            "grid_column": null,
            "grid_gap": null,
            "grid_row": null,
            "grid_template_areas": null,
            "grid_template_columns": null,
            "grid_template_rows": null,
            "height": null,
            "justify_content": null,
            "justify_items": null,
            "left": null,
            "margin": null,
            "max_height": null,
            "max_width": null,
            "min_height": null,
            "min_width": null,
            "object_fit": null,
            "object_position": null,
            "order": null,
            "overflow": null,
            "overflow_x": null,
            "overflow_y": null,
            "padding": null,
            "right": null,
            "top": null,
            "visibility": null,
            "width": null
          }
        },
        "3511c8dc7bd2470aa88e868fdaea4719": {
          "model_module": "@jupyter-widgets/base",
          "model_name": "LayoutModel",
          "model_module_version": "1.2.0",
          "state": {
            "_model_module": "@jupyter-widgets/base",
            "_model_module_version": "1.2.0",
            "_model_name": "LayoutModel",
            "_view_count": null,
            "_view_module": "@jupyter-widgets/base",
            "_view_module_version": "1.2.0",
            "_view_name": "LayoutView",
            "align_content": null,
            "align_items": null,
            "align_self": null,
            "border": null,
            "bottom": null,
            "display": null,
            "flex": null,
            "flex_flow": null,
            "grid_area": null,
            "grid_auto_columns": null,
            "grid_auto_flow": null,
            "grid_auto_rows": null,
            "grid_column": null,
            "grid_gap": null,
            "grid_row": null,
            "grid_template_areas": null,
            "grid_template_columns": null,
            "grid_template_rows": null,
            "height": null,
            "justify_content": null,
            "justify_items": null,
            "left": null,
            "margin": null,
            "max_height": null,
            "max_width": null,
            "min_height": null,
            "min_width": null,
            "object_fit": null,
            "object_position": null,
            "order": null,
            "overflow": null,
            "overflow_x": null,
            "overflow_y": null,
            "padding": null,
            "right": null,
            "top": null,
            "visibility": null,
            "width": null
          }
        },
        "dd7903c25cc54f8da2908ede82dd716e": {
          "model_module": "@jupyter-widgets/controls",
          "model_name": "DescriptionStyleModel",
          "model_module_version": "1.5.0",
          "state": {
            "_model_module": "@jupyter-widgets/controls",
            "_model_module_version": "1.5.0",
            "_model_name": "DescriptionStyleModel",
            "_view_count": null,
            "_view_module": "@jupyter-widgets/base",
            "_view_module_version": "1.2.0",
            "_view_name": "StyleView",
            "description_width": ""
          }
        },
        "9c7f7cda5b10402497a2e9ac459ce721": {
          "model_module": "@jupyter-widgets/base",
          "model_name": "LayoutModel",
          "model_module_version": "1.2.0",
          "state": {
            "_model_module": "@jupyter-widgets/base",
            "_model_module_version": "1.2.0",
            "_model_name": "LayoutModel",
            "_view_count": null,
            "_view_module": "@jupyter-widgets/base",
            "_view_module_version": "1.2.0",
            "_view_name": "LayoutView",
            "align_content": null,
            "align_items": null,
            "align_self": null,
            "border": null,
            "bottom": null,
            "display": null,
            "flex": null,
            "flex_flow": null,
            "grid_area": null,
            "grid_auto_columns": null,
            "grid_auto_flow": null,
            "grid_auto_rows": null,
            "grid_column": null,
            "grid_gap": null,
            "grid_row": null,
            "grid_template_areas": null,
            "grid_template_columns": null,
            "grid_template_rows": null,
            "height": null,
            "justify_content": null,
            "justify_items": null,
            "left": null,
            "margin": null,
            "max_height": null,
            "max_width": null,
            "min_height": null,
            "min_width": null,
            "object_fit": null,
            "object_position": null,
            "order": null,
            "overflow": null,
            "overflow_x": null,
            "overflow_y": null,
            "padding": null,
            "right": null,
            "top": null,
            "visibility": null,
            "width": null
          }
        },
        "26cf88e8eaae4173a5ad6514176c09c9": {
          "model_module": "@jupyter-widgets/controls",
          "model_name": "ProgressStyleModel",
          "model_module_version": "1.5.0",
          "state": {
            "_model_module": "@jupyter-widgets/controls",
            "_model_module_version": "1.5.0",
            "_model_name": "ProgressStyleModel",
            "_view_count": null,
            "_view_module": "@jupyter-widgets/base",
            "_view_module_version": "1.2.0",
            "_view_name": "StyleView",
            "bar_color": null,
            "description_width": ""
          }
        },
        "05916dfa81f04e20b9b0c071e40c5c6b": {
          "model_module": "@jupyter-widgets/base",
          "model_name": "LayoutModel",
          "model_module_version": "1.2.0",
          "state": {
            "_model_module": "@jupyter-widgets/base",
            "_model_module_version": "1.2.0",
            "_model_name": "LayoutModel",
            "_view_count": null,
            "_view_module": "@jupyter-widgets/base",
            "_view_module_version": "1.2.0",
            "_view_name": "LayoutView",
            "align_content": null,
            "align_items": null,
            "align_self": null,
            "border": null,
            "bottom": null,
            "display": null,
            "flex": null,
            "flex_flow": null,
            "grid_area": null,
            "grid_auto_columns": null,
            "grid_auto_flow": null,
            "grid_auto_rows": null,
            "grid_column": null,
            "grid_gap": null,
            "grid_row": null,
            "grid_template_areas": null,
            "grid_template_columns": null,
            "grid_template_rows": null,
            "height": null,
            "justify_content": null,
            "justify_items": null,
            "left": null,
            "margin": null,
            "max_height": null,
            "max_width": null,
            "min_height": null,
            "min_width": null,
            "object_fit": null,
            "object_position": null,
            "order": null,
            "overflow": null,
            "overflow_x": null,
            "overflow_y": null,
            "padding": null,
            "right": null,
            "top": null,
            "visibility": null,
            "width": null
          }
        },
        "4c9937842b2e466087d055efdea5a5f2": {
          "model_module": "@jupyter-widgets/controls",
          "model_name": "DescriptionStyleModel",
          "model_module_version": "1.5.0",
          "state": {
            "_model_module": "@jupyter-widgets/controls",
            "_model_module_version": "1.5.0",
            "_model_name": "DescriptionStyleModel",
            "_view_count": null,
            "_view_module": "@jupyter-widgets/base",
            "_view_module_version": "1.2.0",
            "_view_name": "StyleView",
            "description_width": ""
          }
        },
        "435a1e07da144612a19887b4f940dd54": {
          "model_module": "@jupyter-widgets/controls",
          "model_name": "HBoxModel",
          "model_module_version": "1.5.0",
          "state": {
            "_dom_classes": [],
            "_model_module": "@jupyter-widgets/controls",
            "_model_module_version": "1.5.0",
            "_model_name": "HBoxModel",
            "_view_count": null,
            "_view_module": "@jupyter-widgets/controls",
            "_view_module_version": "1.5.0",
            "_view_name": "HBoxView",
            "box_style": "",
            "children": [
              "IPY_MODEL_876130ad2cde4a4bba99c706135bc8f0",
              "IPY_MODEL_b28723e4f8794aeb89ea185ca9909858",
              "IPY_MODEL_1a268101597f4642bee184ab4341a9f3"
            ],
            "layout": "IPY_MODEL_0ddcf899ebab4efcb0cf45e974003a10"
          }
        },
        "876130ad2cde4a4bba99c706135bc8f0": {
          "model_module": "@jupyter-widgets/controls",
          "model_name": "HTMLModel",
          "model_module_version": "1.5.0",
          "state": {
            "_dom_classes": [],
            "_model_module": "@jupyter-widgets/controls",
            "_model_module_version": "1.5.0",
            "_model_name": "HTMLModel",
            "_view_count": null,
            "_view_module": "@jupyter-widgets/controls",
            "_view_module_version": "1.5.0",
            "_view_name": "HTMLView",
            "description": "",
            "description_tooltip": null,
            "layout": "IPY_MODEL_77cf7db43def4d08a4b09995f402e1d7",
            "placeholder": "​",
            "style": "IPY_MODEL_909a04afe53c4088909726c239e1d429",
            "value": "vocab.txt: 100%"
          }
        },
        "b28723e4f8794aeb89ea185ca9909858": {
          "model_module": "@jupyter-widgets/controls",
          "model_name": "FloatProgressModel",
          "model_module_version": "1.5.0",
          "state": {
            "_dom_classes": [],
            "_model_module": "@jupyter-widgets/controls",
            "_model_module_version": "1.5.0",
            "_model_name": "FloatProgressModel",
            "_view_count": null,
            "_view_module": "@jupyter-widgets/controls",
            "_view_module_version": "1.5.0",
            "_view_name": "ProgressView",
            "bar_style": "success",
            "description": "",
            "description_tooltip": null,
            "layout": "IPY_MODEL_b8c53cc77c364b2bacc79b4a8a647a98",
            "max": 231508,
            "min": 0,
            "orientation": "horizontal",
            "style": "IPY_MODEL_9f907080009b4d65aae29e7a28572033",
            "value": 231508
          }
        },
        "1a268101597f4642bee184ab4341a9f3": {
          "model_module": "@jupyter-widgets/controls",
          "model_name": "HTMLModel",
          "model_module_version": "1.5.0",
          "state": {
            "_dom_classes": [],
            "_model_module": "@jupyter-widgets/controls",
            "_model_module_version": "1.5.0",
            "_model_name": "HTMLModel",
            "_view_count": null,
            "_view_module": "@jupyter-widgets/controls",
            "_view_module_version": "1.5.0",
            "_view_name": "HTMLView",
            "description": "",
            "description_tooltip": null,
            "layout": "IPY_MODEL_0e8f1c2454a1471da4713a4c8a0a9af0",
            "placeholder": "​",
            "style": "IPY_MODEL_0769ac34d82049e0b447d42815fdbef9",
            "value": " 232k/232k [00:00&lt;00:00, 3.37MB/s]"
          }
        },
        "0ddcf899ebab4efcb0cf45e974003a10": {
          "model_module": "@jupyter-widgets/base",
          "model_name": "LayoutModel",
          "model_module_version": "1.2.0",
          "state": {
            "_model_module": "@jupyter-widgets/base",
            "_model_module_version": "1.2.0",
            "_model_name": "LayoutModel",
            "_view_count": null,
            "_view_module": "@jupyter-widgets/base",
            "_view_module_version": "1.2.0",
            "_view_name": "LayoutView",
            "align_content": null,
            "align_items": null,
            "align_self": null,
            "border": null,
            "bottom": null,
            "display": null,
            "flex": null,
            "flex_flow": null,
            "grid_area": null,
            "grid_auto_columns": null,
            "grid_auto_flow": null,
            "grid_auto_rows": null,
            "grid_column": null,
            "grid_gap": null,
            "grid_row": null,
            "grid_template_areas": null,
            "grid_template_columns": null,
            "grid_template_rows": null,
            "height": null,
            "justify_content": null,
            "justify_items": null,
            "left": null,
            "margin": null,
            "max_height": null,
            "max_width": null,
            "min_height": null,
            "min_width": null,
            "object_fit": null,
            "object_position": null,
            "order": null,
            "overflow": null,
            "overflow_x": null,
            "overflow_y": null,
            "padding": null,
            "right": null,
            "top": null,
            "visibility": null,
            "width": null
          }
        },
        "77cf7db43def4d08a4b09995f402e1d7": {
          "model_module": "@jupyter-widgets/base",
          "model_name": "LayoutModel",
          "model_module_version": "1.2.0",
          "state": {
            "_model_module": "@jupyter-widgets/base",
            "_model_module_version": "1.2.0",
            "_model_name": "LayoutModel",
            "_view_count": null,
            "_view_module": "@jupyter-widgets/base",
            "_view_module_version": "1.2.0",
            "_view_name": "LayoutView",
            "align_content": null,
            "align_items": null,
            "align_self": null,
            "border": null,
            "bottom": null,
            "display": null,
            "flex": null,
            "flex_flow": null,
            "grid_area": null,
            "grid_auto_columns": null,
            "grid_auto_flow": null,
            "grid_auto_rows": null,
            "grid_column": null,
            "grid_gap": null,
            "grid_row": null,
            "grid_template_areas": null,
            "grid_template_columns": null,
            "grid_template_rows": null,
            "height": null,
            "justify_content": null,
            "justify_items": null,
            "left": null,
            "margin": null,
            "max_height": null,
            "max_width": null,
            "min_height": null,
            "min_width": null,
            "object_fit": null,
            "object_position": null,
            "order": null,
            "overflow": null,
            "overflow_x": null,
            "overflow_y": null,
            "padding": null,
            "right": null,
            "top": null,
            "visibility": null,
            "width": null
          }
        },
        "909a04afe53c4088909726c239e1d429": {
          "model_module": "@jupyter-widgets/controls",
          "model_name": "DescriptionStyleModel",
          "model_module_version": "1.5.0",
          "state": {
            "_model_module": "@jupyter-widgets/controls",
            "_model_module_version": "1.5.0",
            "_model_name": "DescriptionStyleModel",
            "_view_count": null,
            "_view_module": "@jupyter-widgets/base",
            "_view_module_version": "1.2.0",
            "_view_name": "StyleView",
            "description_width": ""
          }
        },
        "b8c53cc77c364b2bacc79b4a8a647a98": {
          "model_module": "@jupyter-widgets/base",
          "model_name": "LayoutModel",
          "model_module_version": "1.2.0",
          "state": {
            "_model_module": "@jupyter-widgets/base",
            "_model_module_version": "1.2.0",
            "_model_name": "LayoutModel",
            "_view_count": null,
            "_view_module": "@jupyter-widgets/base",
            "_view_module_version": "1.2.0",
            "_view_name": "LayoutView",
            "align_content": null,
            "align_items": null,
            "align_self": null,
            "border": null,
            "bottom": null,
            "display": null,
            "flex": null,
            "flex_flow": null,
            "grid_area": null,
            "grid_auto_columns": null,
            "grid_auto_flow": null,
            "grid_auto_rows": null,
            "grid_column": null,
            "grid_gap": null,
            "grid_row": null,
            "grid_template_areas": null,
            "grid_template_columns": null,
            "grid_template_rows": null,
            "height": null,
            "justify_content": null,
            "justify_items": null,
            "left": null,
            "margin": null,
            "max_height": null,
            "max_width": null,
            "min_height": null,
            "min_width": null,
            "object_fit": null,
            "object_position": null,
            "order": null,
            "overflow": null,
            "overflow_x": null,
            "overflow_y": null,
            "padding": null,
            "right": null,
            "top": null,
            "visibility": null,
            "width": null
          }
        },
        "9f907080009b4d65aae29e7a28572033": {
          "model_module": "@jupyter-widgets/controls",
          "model_name": "ProgressStyleModel",
          "model_module_version": "1.5.0",
          "state": {
            "_model_module": "@jupyter-widgets/controls",
            "_model_module_version": "1.5.0",
            "_model_name": "ProgressStyleModel",
            "_view_count": null,
            "_view_module": "@jupyter-widgets/base",
            "_view_module_version": "1.2.0",
            "_view_name": "StyleView",
            "bar_color": null,
            "description_width": ""
          }
        },
        "0e8f1c2454a1471da4713a4c8a0a9af0": {
          "model_module": "@jupyter-widgets/base",
          "model_name": "LayoutModel",
          "model_module_version": "1.2.0",
          "state": {
            "_model_module": "@jupyter-widgets/base",
            "_model_module_version": "1.2.0",
            "_model_name": "LayoutModel",
            "_view_count": null,
            "_view_module": "@jupyter-widgets/base",
            "_view_module_version": "1.2.0",
            "_view_name": "LayoutView",
            "align_content": null,
            "align_items": null,
            "align_self": null,
            "border": null,
            "bottom": null,
            "display": null,
            "flex": null,
            "flex_flow": null,
            "grid_area": null,
            "grid_auto_columns": null,
            "grid_auto_flow": null,
            "grid_auto_rows": null,
            "grid_column": null,
            "grid_gap": null,
            "grid_row": null,
            "grid_template_areas": null,
            "grid_template_columns": null,
            "grid_template_rows": null,
            "height": null,
            "justify_content": null,
            "justify_items": null,
            "left": null,
            "margin": null,
            "max_height": null,
            "max_width": null,
            "min_height": null,
            "min_width": null,
            "object_fit": null,
            "object_position": null,
            "order": null,
            "overflow": null,
            "overflow_x": null,
            "overflow_y": null,
            "padding": null,
            "right": null,
            "top": null,
            "visibility": null,
            "width": null
          }
        },
        "0769ac34d82049e0b447d42815fdbef9": {
          "model_module": "@jupyter-widgets/controls",
          "model_name": "DescriptionStyleModel",
          "model_module_version": "1.5.0",
          "state": {
            "_model_module": "@jupyter-widgets/controls",
            "_model_module_version": "1.5.0",
            "_model_name": "DescriptionStyleModel",
            "_view_count": null,
            "_view_module": "@jupyter-widgets/base",
            "_view_module_version": "1.2.0",
            "_view_name": "StyleView",
            "description_width": ""
          }
        },
        "1329f31f1334486dbc2b6f5184032826": {
          "model_module": "@jupyter-widgets/controls",
          "model_name": "HBoxModel",
          "model_module_version": "1.5.0",
          "state": {
            "_dom_classes": [],
            "_model_module": "@jupyter-widgets/controls",
            "_model_module_version": "1.5.0",
            "_model_name": "HBoxModel",
            "_view_count": null,
            "_view_module": "@jupyter-widgets/controls",
            "_view_module_version": "1.5.0",
            "_view_name": "HBoxView",
            "box_style": "",
            "children": [
              "IPY_MODEL_a00a0f7066dc4d0085b51c606d1d66e6",
              "IPY_MODEL_b66bf00d28af4f41b3e1e75f0f28fbcb",
              "IPY_MODEL_f94168063a2d4d7f94949b01e297d470"
            ],
            "layout": "IPY_MODEL_21fee96f389e4b6c9b815e58172b7aa1"
          }
        },
        "a00a0f7066dc4d0085b51c606d1d66e6": {
          "model_module": "@jupyter-widgets/controls",
          "model_name": "HTMLModel",
          "model_module_version": "1.5.0",
          "state": {
            "_dom_classes": [],
            "_model_module": "@jupyter-widgets/controls",
            "_model_module_version": "1.5.0",
            "_model_name": "HTMLModel",
            "_view_count": null,
            "_view_module": "@jupyter-widgets/controls",
            "_view_module_version": "1.5.0",
            "_view_name": "HTMLView",
            "description": "",
            "description_tooltip": null,
            "layout": "IPY_MODEL_2552af6f3ab34418bd23c42bc5793343",
            "placeholder": "​",
            "style": "IPY_MODEL_7ccf44b8537f44e1baf1360efdcea374",
            "value": "tokenizer.json: 100%"
          }
        },
        "b66bf00d28af4f41b3e1e75f0f28fbcb": {
          "model_module": "@jupyter-widgets/controls",
          "model_name": "FloatProgressModel",
          "model_module_version": "1.5.0",
          "state": {
            "_dom_classes": [],
            "_model_module": "@jupyter-widgets/controls",
            "_model_module_version": "1.5.0",
            "_model_name": "FloatProgressModel",
            "_view_count": null,
            "_view_module": "@jupyter-widgets/controls",
            "_view_module_version": "1.5.0",
            "_view_name": "ProgressView",
            "bar_style": "success",
            "description": "",
            "description_tooltip": null,
            "layout": "IPY_MODEL_4f817090c3f74a0e99578c52a4a019d5",
            "max": 466062,
            "min": 0,
            "orientation": "horizontal",
            "style": "IPY_MODEL_f8bc60149903447f9506c076db50f31a",
            "value": 466062
          }
        },
        "f94168063a2d4d7f94949b01e297d470": {
          "model_module": "@jupyter-widgets/controls",
          "model_name": "HTMLModel",
          "model_module_version": "1.5.0",
          "state": {
            "_dom_classes": [],
            "_model_module": "@jupyter-widgets/controls",
            "_model_module_version": "1.5.0",
            "_model_name": "HTMLModel",
            "_view_count": null,
            "_view_module": "@jupyter-widgets/controls",
            "_view_module_version": "1.5.0",
            "_view_name": "HTMLView",
            "description": "",
            "description_tooltip": null,
            "layout": "IPY_MODEL_8c59e48a85b649089564a26979399f74",
            "placeholder": "​",
            "style": "IPY_MODEL_9c2b4fc6cc194e0c8c37b6c3a0f8ffad",
            "value": " 466k/466k [00:00&lt;00:00, 3.54MB/s]"
          }
        },
        "21fee96f389e4b6c9b815e58172b7aa1": {
          "model_module": "@jupyter-widgets/base",
          "model_name": "LayoutModel",
          "model_module_version": "1.2.0",
          "state": {
            "_model_module": "@jupyter-widgets/base",
            "_model_module_version": "1.2.0",
            "_model_name": "LayoutModel",
            "_view_count": null,
            "_view_module": "@jupyter-widgets/base",
            "_view_module_version": "1.2.0",
            "_view_name": "LayoutView",
            "align_content": null,
            "align_items": null,
            "align_self": null,
            "border": null,
            "bottom": null,
            "display": null,
            "flex": null,
            "flex_flow": null,
            "grid_area": null,
            "grid_auto_columns": null,
            "grid_auto_flow": null,
            "grid_auto_rows": null,
            "grid_column": null,
            "grid_gap": null,
            "grid_row": null,
            "grid_template_areas": null,
            "grid_template_columns": null,
            "grid_template_rows": null,
            "height": null,
            "justify_content": null,
            "justify_items": null,
            "left": null,
            "margin": null,
            "max_height": null,
            "max_width": null,
            "min_height": null,
            "min_width": null,
            "object_fit": null,
            "object_position": null,
            "order": null,
            "overflow": null,
            "overflow_x": null,
            "overflow_y": null,
            "padding": null,
            "right": null,
            "top": null,
            "visibility": null,
            "width": null
          }
        },
        "2552af6f3ab34418bd23c42bc5793343": {
          "model_module": "@jupyter-widgets/base",
          "model_name": "LayoutModel",
          "model_module_version": "1.2.0",
          "state": {
            "_model_module": "@jupyter-widgets/base",
            "_model_module_version": "1.2.0",
            "_model_name": "LayoutModel",
            "_view_count": null,
            "_view_module": "@jupyter-widgets/base",
            "_view_module_version": "1.2.0",
            "_view_name": "LayoutView",
            "align_content": null,
            "align_items": null,
            "align_self": null,
            "border": null,
            "bottom": null,
            "display": null,
            "flex": null,
            "flex_flow": null,
            "grid_area": null,
            "grid_auto_columns": null,
            "grid_auto_flow": null,
            "grid_auto_rows": null,
            "grid_column": null,
            "grid_gap": null,
            "grid_row": null,
            "grid_template_areas": null,
            "grid_template_columns": null,
            "grid_template_rows": null,
            "height": null,
            "justify_content": null,
            "justify_items": null,
            "left": null,
            "margin": null,
            "max_height": null,
            "max_width": null,
            "min_height": null,
            "min_width": null,
            "object_fit": null,
            "object_position": null,
            "order": null,
            "overflow": null,
            "overflow_x": null,
            "overflow_y": null,
            "padding": null,
            "right": null,
            "top": null,
            "visibility": null,
            "width": null
          }
        },
        "7ccf44b8537f44e1baf1360efdcea374": {
          "model_module": "@jupyter-widgets/controls",
          "model_name": "DescriptionStyleModel",
          "model_module_version": "1.5.0",
          "state": {
            "_model_module": "@jupyter-widgets/controls",
            "_model_module_version": "1.5.0",
            "_model_name": "DescriptionStyleModel",
            "_view_count": null,
            "_view_module": "@jupyter-widgets/base",
            "_view_module_version": "1.2.0",
            "_view_name": "StyleView",
            "description_width": ""
          }
        },
        "4f817090c3f74a0e99578c52a4a019d5": {
          "model_module": "@jupyter-widgets/base",
          "model_name": "LayoutModel",
          "model_module_version": "1.2.0",
          "state": {
            "_model_module": "@jupyter-widgets/base",
            "_model_module_version": "1.2.0",
            "_model_name": "LayoutModel",
            "_view_count": null,
            "_view_module": "@jupyter-widgets/base",
            "_view_module_version": "1.2.0",
            "_view_name": "LayoutView",
            "align_content": null,
            "align_items": null,
            "align_self": null,
            "border": null,
            "bottom": null,
            "display": null,
            "flex": null,
            "flex_flow": null,
            "grid_area": null,
            "grid_auto_columns": null,
            "grid_auto_flow": null,
            "grid_auto_rows": null,
            "grid_column": null,
            "grid_gap": null,
            "grid_row": null,
            "grid_template_areas": null,
            "grid_template_columns": null,
            "grid_template_rows": null,
            "height": null,
            "justify_content": null,
            "justify_items": null,
            "left": null,
            "margin": null,
            "max_height": null,
            "max_width": null,
            "min_height": null,
            "min_width": null,
            "object_fit": null,
            "object_position": null,
            "order": null,
            "overflow": null,
            "overflow_x": null,
            "overflow_y": null,
            "padding": null,
            "right": null,
            "top": null,
            "visibility": null,
            "width": null
          }
        },
        "f8bc60149903447f9506c076db50f31a": {
          "model_module": "@jupyter-widgets/controls",
          "model_name": "ProgressStyleModel",
          "model_module_version": "1.5.0",
          "state": {
            "_model_module": "@jupyter-widgets/controls",
            "_model_module_version": "1.5.0",
            "_model_name": "ProgressStyleModel",
            "_view_count": null,
            "_view_module": "@jupyter-widgets/base",
            "_view_module_version": "1.2.0",
            "_view_name": "StyleView",
            "bar_color": null,
            "description_width": ""
          }
        },
        "8c59e48a85b649089564a26979399f74": {
          "model_module": "@jupyter-widgets/base",
          "model_name": "LayoutModel",
          "model_module_version": "1.2.0",
          "state": {
            "_model_module": "@jupyter-widgets/base",
            "_model_module_version": "1.2.0",
            "_model_name": "LayoutModel",
            "_view_count": null,
            "_view_module": "@jupyter-widgets/base",
            "_view_module_version": "1.2.0",
            "_view_name": "LayoutView",
            "align_content": null,
            "align_items": null,
            "align_self": null,
            "border": null,
            "bottom": null,
            "display": null,
            "flex": null,
            "flex_flow": null,
            "grid_area": null,
            "grid_auto_columns": null,
            "grid_auto_flow": null,
            "grid_auto_rows": null,
            "grid_column": null,
            "grid_gap": null,
            "grid_row": null,
            "grid_template_areas": null,
            "grid_template_columns": null,
            "grid_template_rows": null,
            "height": null,
            "justify_content": null,
            "justify_items": null,
            "left": null,
            "margin": null,
            "max_height": null,
            "max_width": null,
            "min_height": null,
            "min_width": null,
            "object_fit": null,
            "object_position": null,
            "order": null,
            "overflow": null,
            "overflow_x": null,
            "overflow_y": null,
            "padding": null,
            "right": null,
            "top": null,
            "visibility": null,
            "width": null
          }
        },
        "9c2b4fc6cc194e0c8c37b6c3a0f8ffad": {
          "model_module": "@jupyter-widgets/controls",
          "model_name": "DescriptionStyleModel",
          "model_module_version": "1.5.0",
          "state": {
            "_model_module": "@jupyter-widgets/controls",
            "_model_module_version": "1.5.0",
            "_model_name": "DescriptionStyleModel",
            "_view_count": null,
            "_view_module": "@jupyter-widgets/base",
            "_view_module_version": "1.2.0",
            "_view_name": "StyleView",
            "description_width": ""
          }
        },
        "4a6e14304af248e8902d3e3fd1aca8f5": {
          "model_module": "@jupyter-widgets/controls",
          "model_name": "HBoxModel",
          "model_module_version": "1.5.0",
          "state": {
            "_dom_classes": [],
            "_model_module": "@jupyter-widgets/controls",
            "_model_module_version": "1.5.0",
            "_model_name": "HBoxModel",
            "_view_count": null,
            "_view_module": "@jupyter-widgets/controls",
            "_view_module_version": "1.5.0",
            "_view_name": "HBoxView",
            "box_style": "",
            "children": [
              "IPY_MODEL_710a9d6909314c538c09304946529f59",
              "IPY_MODEL_a3dbcac7b274402681e9e5c368d7f114",
              "IPY_MODEL_f5b1775710a74dca86fd3cd7391a543e"
            ],
            "layout": "IPY_MODEL_3bc523ee6c9c45b98e74f1c66d649e76"
          }
        },
        "710a9d6909314c538c09304946529f59": {
          "model_module": "@jupyter-widgets/controls",
          "model_name": "HTMLModel",
          "model_module_version": "1.5.0",
          "state": {
            "_dom_classes": [],
            "_model_module": "@jupyter-widgets/controls",
            "_model_module_version": "1.5.0",
            "_model_name": "HTMLModel",
            "_view_count": null,
            "_view_module": "@jupyter-widgets/controls",
            "_view_module_version": "1.5.0",
            "_view_name": "HTMLView",
            "description": "",
            "description_tooltip": null,
            "layout": "IPY_MODEL_56a33f915f0e43e9b60652432a019a14",
            "placeholder": "​",
            "style": "IPY_MODEL_139dd08e02a643529919942e3bbdce42",
            "value": "config.json: 100%"
          }
        },
        "a3dbcac7b274402681e9e5c368d7f114": {
          "model_module": "@jupyter-widgets/controls",
          "model_name": "FloatProgressModel",
          "model_module_version": "1.5.0",
          "state": {
            "_dom_classes": [],
            "_model_module": "@jupyter-widgets/controls",
            "_model_module_version": "1.5.0",
            "_model_name": "FloatProgressModel",
            "_view_count": null,
            "_view_module": "@jupyter-widgets/controls",
            "_view_module_version": "1.5.0",
            "_view_name": "ProgressView",
            "bar_style": "success",
            "description": "",
            "description_tooltip": null,
            "layout": "IPY_MODEL_40fbee913e3c41d5bca38dffdc1dc973",
            "max": 570,
            "min": 0,
            "orientation": "horizontal",
            "style": "IPY_MODEL_d0f916dd70024f028441a31834d10f8f",
            "value": 570
          }
        },
        "f5b1775710a74dca86fd3cd7391a543e": {
          "model_module": "@jupyter-widgets/controls",
          "model_name": "HTMLModel",
          "model_module_version": "1.5.0",
          "state": {
            "_dom_classes": [],
            "_model_module": "@jupyter-widgets/controls",
            "_model_module_version": "1.5.0",
            "_model_name": "HTMLModel",
            "_view_count": null,
            "_view_module": "@jupyter-widgets/controls",
            "_view_module_version": "1.5.0",
            "_view_name": "HTMLView",
            "description": "",
            "description_tooltip": null,
            "layout": "IPY_MODEL_f40c7fe55f684a799649f62567ae7640",
            "placeholder": "​",
            "style": "IPY_MODEL_77883cf457004da6b1ed905e2e9cbbd2",
            "value": " 570/570 [00:00&lt;00:00, 12.7kB/s]"
          }
        },
        "3bc523ee6c9c45b98e74f1c66d649e76": {
          "model_module": "@jupyter-widgets/base",
          "model_name": "LayoutModel",
          "model_module_version": "1.2.0",
          "state": {
            "_model_module": "@jupyter-widgets/base",
            "_model_module_version": "1.2.0",
            "_model_name": "LayoutModel",
            "_view_count": null,
            "_view_module": "@jupyter-widgets/base",
            "_view_module_version": "1.2.0",
            "_view_name": "LayoutView",
            "align_content": null,
            "align_items": null,
            "align_self": null,
            "border": null,
            "bottom": null,
            "display": null,
            "flex": null,
            "flex_flow": null,
            "grid_area": null,
            "grid_auto_columns": null,
            "grid_auto_flow": null,
            "grid_auto_rows": null,
            "grid_column": null,
            "grid_gap": null,
            "grid_row": null,
            "grid_template_areas": null,
            "grid_template_columns": null,
            "grid_template_rows": null,
            "height": null,
            "justify_content": null,
            "justify_items": null,
            "left": null,
            "margin": null,
            "max_height": null,
            "max_width": null,
            "min_height": null,
            "min_width": null,
            "object_fit": null,
            "object_position": null,
            "order": null,
            "overflow": null,
            "overflow_x": null,
            "overflow_y": null,
            "padding": null,
            "right": null,
            "top": null,
            "visibility": null,
            "width": null
          }
        },
        "56a33f915f0e43e9b60652432a019a14": {
          "model_module": "@jupyter-widgets/base",
          "model_name": "LayoutModel",
          "model_module_version": "1.2.0",
          "state": {
            "_model_module": "@jupyter-widgets/base",
            "_model_module_version": "1.2.0",
            "_model_name": "LayoutModel",
            "_view_count": null,
            "_view_module": "@jupyter-widgets/base",
            "_view_module_version": "1.2.0",
            "_view_name": "LayoutView",
            "align_content": null,
            "align_items": null,
            "align_self": null,
            "border": null,
            "bottom": null,
            "display": null,
            "flex": null,
            "flex_flow": null,
            "grid_area": null,
            "grid_auto_columns": null,
            "grid_auto_flow": null,
            "grid_auto_rows": null,
            "grid_column": null,
            "grid_gap": null,
            "grid_row": null,
            "grid_template_areas": null,
            "grid_template_columns": null,
            "grid_template_rows": null,
            "height": null,
            "justify_content": null,
            "justify_items": null,
            "left": null,
            "margin": null,
            "max_height": null,
            "max_width": null,
            "min_height": null,
            "min_width": null,
            "object_fit": null,
            "object_position": null,
            "order": null,
            "overflow": null,
            "overflow_x": null,
            "overflow_y": null,
            "padding": null,
            "right": null,
            "top": null,
            "visibility": null,
            "width": null
          }
        },
        "139dd08e02a643529919942e3bbdce42": {
          "model_module": "@jupyter-widgets/controls",
          "model_name": "DescriptionStyleModel",
          "model_module_version": "1.5.0",
          "state": {
            "_model_module": "@jupyter-widgets/controls",
            "_model_module_version": "1.5.0",
            "_model_name": "DescriptionStyleModel",
            "_view_count": null,
            "_view_module": "@jupyter-widgets/base",
            "_view_module_version": "1.2.0",
            "_view_name": "StyleView",
            "description_width": ""
          }
        },
        "40fbee913e3c41d5bca38dffdc1dc973": {
          "model_module": "@jupyter-widgets/base",
          "model_name": "LayoutModel",
          "model_module_version": "1.2.0",
          "state": {
            "_model_module": "@jupyter-widgets/base",
            "_model_module_version": "1.2.0",
            "_model_name": "LayoutModel",
            "_view_count": null,
            "_view_module": "@jupyter-widgets/base",
            "_view_module_version": "1.2.0",
            "_view_name": "LayoutView",
            "align_content": null,
            "align_items": null,
            "align_self": null,
            "border": null,
            "bottom": null,
            "display": null,
            "flex": null,
            "flex_flow": null,
            "grid_area": null,
            "grid_auto_columns": null,
            "grid_auto_flow": null,
            "grid_auto_rows": null,
            "grid_column": null,
            "grid_gap": null,
            "grid_row": null,
            "grid_template_areas": null,
            "grid_template_columns": null,
            "grid_template_rows": null,
            "height": null,
            "justify_content": null,
            "justify_items": null,
            "left": null,
            "margin": null,
            "max_height": null,
            "max_width": null,
            "min_height": null,
            "min_width": null,
            "object_fit": null,
            "object_position": null,
            "order": null,
            "overflow": null,
            "overflow_x": null,
            "overflow_y": null,
            "padding": null,
            "right": null,
            "top": null,
            "visibility": null,
            "width": null
          }
        },
        "d0f916dd70024f028441a31834d10f8f": {
          "model_module": "@jupyter-widgets/controls",
          "model_name": "ProgressStyleModel",
          "model_module_version": "1.5.0",
          "state": {
            "_model_module": "@jupyter-widgets/controls",
            "_model_module_version": "1.5.0",
            "_model_name": "ProgressStyleModel",
            "_view_count": null,
            "_view_module": "@jupyter-widgets/base",
            "_view_module_version": "1.2.0",
            "_view_name": "StyleView",
            "bar_color": null,
            "description_width": ""
          }
        },
        "f40c7fe55f684a799649f62567ae7640": {
          "model_module": "@jupyter-widgets/base",
          "model_name": "LayoutModel",
          "model_module_version": "1.2.0",
          "state": {
            "_model_module": "@jupyter-widgets/base",
            "_model_module_version": "1.2.0",
            "_model_name": "LayoutModel",
            "_view_count": null,
            "_view_module": "@jupyter-widgets/base",
            "_view_module_version": "1.2.0",
            "_view_name": "LayoutView",
            "align_content": null,
            "align_items": null,
            "align_self": null,
            "border": null,
            "bottom": null,
            "display": null,
            "flex": null,
            "flex_flow": null,
            "grid_area": null,
            "grid_auto_columns": null,
            "grid_auto_flow": null,
            "grid_auto_rows": null,
            "grid_column": null,
            "grid_gap": null,
            "grid_row": null,
            "grid_template_areas": null,
            "grid_template_columns": null,
            "grid_template_rows": null,
            "height": null,
            "justify_content": null,
            "justify_items": null,
            "left": null,
            "margin": null,
            "max_height": null,
            "max_width": null,
            "min_height": null,
            "min_width": null,
            "object_fit": null,
            "object_position": null,
            "order": null,
            "overflow": null,
            "overflow_x": null,
            "overflow_y": null,
            "padding": null,
            "right": null,
            "top": null,
            "visibility": null,
            "width": null
          }
        },
        "77883cf457004da6b1ed905e2e9cbbd2": {
          "model_module": "@jupyter-widgets/controls",
          "model_name": "DescriptionStyleModel",
          "model_module_version": "1.5.0",
          "state": {
            "_model_module": "@jupyter-widgets/controls",
            "_model_module_version": "1.5.0",
            "_model_name": "DescriptionStyleModel",
            "_view_count": null,
            "_view_module": "@jupyter-widgets/base",
            "_view_module_version": "1.2.0",
            "_view_name": "StyleView",
            "description_width": ""
          }
        },
        "7d13ca9db6a14e168018ec36532c1128": {
          "model_module": "@jupyter-widgets/controls",
          "model_name": "HBoxModel",
          "model_module_version": "1.5.0",
          "state": {
            "_dom_classes": [],
            "_model_module": "@jupyter-widgets/controls",
            "_model_module_version": "1.5.0",
            "_model_name": "HBoxModel",
            "_view_count": null,
            "_view_module": "@jupyter-widgets/controls",
            "_view_module_version": "1.5.0",
            "_view_name": "HBoxView",
            "box_style": "",
            "children": [
              "IPY_MODEL_61c10d50a4284d3f9b8fdf2c236c7907",
              "IPY_MODEL_41c1febb0fe44b09b82398c61ce48b33",
              "IPY_MODEL_2d84a184c88e4418b6a942c0c1e2f2b2"
            ],
            "layout": "IPY_MODEL_4b2677c2a1084048b00db3077c8495b3"
          }
        },
        "61c10d50a4284d3f9b8fdf2c236c7907": {
          "model_module": "@jupyter-widgets/controls",
          "model_name": "HTMLModel",
          "model_module_version": "1.5.0",
          "state": {
            "_dom_classes": [],
            "_model_module": "@jupyter-widgets/controls",
            "_model_module_version": "1.5.0",
            "_model_name": "HTMLModel",
            "_view_count": null,
            "_view_module": "@jupyter-widgets/controls",
            "_view_module_version": "1.5.0",
            "_view_name": "HTMLView",
            "description": "",
            "description_tooltip": null,
            "layout": "IPY_MODEL_caf0a2c6144f42cfa792f92b8efc5095",
            "placeholder": "​",
            "style": "IPY_MODEL_3631d3b767d14ec8919de358389bc7d8",
            "value": "model.safetensors: 100%"
          }
        },
        "41c1febb0fe44b09b82398c61ce48b33": {
          "model_module": "@jupyter-widgets/controls",
          "model_name": "FloatProgressModel",
          "model_module_version": "1.5.0",
          "state": {
            "_dom_classes": [],
            "_model_module": "@jupyter-widgets/controls",
            "_model_module_version": "1.5.0",
            "_model_name": "FloatProgressModel",
            "_view_count": null,
            "_view_module": "@jupyter-widgets/controls",
            "_view_module_version": "1.5.0",
            "_view_name": "ProgressView",
            "bar_style": "success",
            "description": "",
            "description_tooltip": null,
            "layout": "IPY_MODEL_7a56ff84f03543709d1205440426add7",
            "max": 440449768,
            "min": 0,
            "orientation": "horizontal",
            "style": "IPY_MODEL_9ce3f43feac5496cade9812895601532",
            "value": 440449768
          }
        },
        "2d84a184c88e4418b6a942c0c1e2f2b2": {
          "model_module": "@jupyter-widgets/controls",
          "model_name": "HTMLModel",
          "model_module_version": "1.5.0",
          "state": {
            "_dom_classes": [],
            "_model_module": "@jupyter-widgets/controls",
            "_model_module_version": "1.5.0",
            "_model_name": "HTMLModel",
            "_view_count": null,
            "_view_module": "@jupyter-widgets/controls",
            "_view_module_version": "1.5.0",
            "_view_name": "HTMLView",
            "description": "",
            "description_tooltip": null,
            "layout": "IPY_MODEL_de1282a2e08a4b4ea8138e14ac0bb386",
            "placeholder": "​",
            "style": "IPY_MODEL_9413a111d4014484bf42da02ca56b2c1",
            "value": " 440M/440M [00:05&lt;00:00, 119MB/s]"
          }
        },
        "4b2677c2a1084048b00db3077c8495b3": {
          "model_module": "@jupyter-widgets/base",
          "model_name": "LayoutModel",
          "model_module_version": "1.2.0",
          "state": {
            "_model_module": "@jupyter-widgets/base",
            "_model_module_version": "1.2.0",
            "_model_name": "LayoutModel",
            "_view_count": null,
            "_view_module": "@jupyter-widgets/base",
            "_view_module_version": "1.2.0",
            "_view_name": "LayoutView",
            "align_content": null,
            "align_items": null,
            "align_self": null,
            "border": null,
            "bottom": null,
            "display": null,
            "flex": null,
            "flex_flow": null,
            "grid_area": null,
            "grid_auto_columns": null,
            "grid_auto_flow": null,
            "grid_auto_rows": null,
            "grid_column": null,
            "grid_gap": null,
            "grid_row": null,
            "grid_template_areas": null,
            "grid_template_columns": null,
            "grid_template_rows": null,
            "height": null,
            "justify_content": null,
            "justify_items": null,
            "left": null,
            "margin": null,
            "max_height": null,
            "max_width": null,
            "min_height": null,
            "min_width": null,
            "object_fit": null,
            "object_position": null,
            "order": null,
            "overflow": null,
            "overflow_x": null,
            "overflow_y": null,
            "padding": null,
            "right": null,
            "top": null,
            "visibility": null,
            "width": null
          }
        },
        "caf0a2c6144f42cfa792f92b8efc5095": {
          "model_module": "@jupyter-widgets/base",
          "model_name": "LayoutModel",
          "model_module_version": "1.2.0",
          "state": {
            "_model_module": "@jupyter-widgets/base",
            "_model_module_version": "1.2.0",
            "_model_name": "LayoutModel",
            "_view_count": null,
            "_view_module": "@jupyter-widgets/base",
            "_view_module_version": "1.2.0",
            "_view_name": "LayoutView",
            "align_content": null,
            "align_items": null,
            "align_self": null,
            "border": null,
            "bottom": null,
            "display": null,
            "flex": null,
            "flex_flow": null,
            "grid_area": null,
            "grid_auto_columns": null,
            "grid_auto_flow": null,
            "grid_auto_rows": null,
            "grid_column": null,
            "grid_gap": null,
            "grid_row": null,
            "grid_template_areas": null,
            "grid_template_columns": null,
            "grid_template_rows": null,
            "height": null,
            "justify_content": null,
            "justify_items": null,
            "left": null,
            "margin": null,
            "max_height": null,
            "max_width": null,
            "min_height": null,
            "min_width": null,
            "object_fit": null,
            "object_position": null,
            "order": null,
            "overflow": null,
            "overflow_x": null,
            "overflow_y": null,
            "padding": null,
            "right": null,
            "top": null,
            "visibility": null,
            "width": null
          }
        },
        "3631d3b767d14ec8919de358389bc7d8": {
          "model_module": "@jupyter-widgets/controls",
          "model_name": "DescriptionStyleModel",
          "model_module_version": "1.5.0",
          "state": {
            "_model_module": "@jupyter-widgets/controls",
            "_model_module_version": "1.5.0",
            "_model_name": "DescriptionStyleModel",
            "_view_count": null,
            "_view_module": "@jupyter-widgets/base",
            "_view_module_version": "1.2.0",
            "_view_name": "StyleView",
            "description_width": ""
          }
        },
        "7a56ff84f03543709d1205440426add7": {
          "model_module": "@jupyter-widgets/base",
          "model_name": "LayoutModel",
          "model_module_version": "1.2.0",
          "state": {
            "_model_module": "@jupyter-widgets/base",
            "_model_module_version": "1.2.0",
            "_model_name": "LayoutModel",
            "_view_count": null,
            "_view_module": "@jupyter-widgets/base",
            "_view_module_version": "1.2.0",
            "_view_name": "LayoutView",
            "align_content": null,
            "align_items": null,
            "align_self": null,
            "border": null,
            "bottom": null,
            "display": null,
            "flex": null,
            "flex_flow": null,
            "grid_area": null,
            "grid_auto_columns": null,
            "grid_auto_flow": null,
            "grid_auto_rows": null,
            "grid_column": null,
            "grid_gap": null,
            "grid_row": null,
            "grid_template_areas": null,
            "grid_template_columns": null,
            "grid_template_rows": null,
            "height": null,
            "justify_content": null,
            "justify_items": null,
            "left": null,
            "margin": null,
            "max_height": null,
            "max_width": null,
            "min_height": null,
            "min_width": null,
            "object_fit": null,
            "object_position": null,
            "order": null,
            "overflow": null,
            "overflow_x": null,
            "overflow_y": null,
            "padding": null,
            "right": null,
            "top": null,
            "visibility": null,
            "width": null
          }
        },
        "9ce3f43feac5496cade9812895601532": {
          "model_module": "@jupyter-widgets/controls",
          "model_name": "ProgressStyleModel",
          "model_module_version": "1.5.0",
          "state": {
            "_model_module": "@jupyter-widgets/controls",
            "_model_module_version": "1.5.0",
            "_model_name": "ProgressStyleModel",
            "_view_count": null,
            "_view_module": "@jupyter-widgets/base",
            "_view_module_version": "1.2.0",
            "_view_name": "StyleView",
            "bar_color": null,
            "description_width": ""
          }
        },
        "de1282a2e08a4b4ea8138e14ac0bb386": {
          "model_module": "@jupyter-widgets/base",
          "model_name": "LayoutModel",
          "model_module_version": "1.2.0",
          "state": {
            "_model_module": "@jupyter-widgets/base",
            "_model_module_version": "1.2.0",
            "_model_name": "LayoutModel",
            "_view_count": null,
            "_view_module": "@jupyter-widgets/base",
            "_view_module_version": "1.2.0",
            "_view_name": "LayoutView",
            "align_content": null,
            "align_items": null,
            "align_self": null,
            "border": null,
            "bottom": null,
            "display": null,
            "flex": null,
            "flex_flow": null,
            "grid_area": null,
            "grid_auto_columns": null,
            "grid_auto_flow": null,
            "grid_auto_rows": null,
            "grid_column": null,
            "grid_gap": null,
            "grid_row": null,
            "grid_template_areas": null,
            "grid_template_columns": null,
            "grid_template_rows": null,
            "height": null,
            "justify_content": null,
            "justify_items": null,
            "left": null,
            "margin": null,
            "max_height": null,
            "max_width": null,
            "min_height": null,
            "min_width": null,
            "object_fit": null,
            "object_position": null,
            "order": null,
            "overflow": null,
            "overflow_x": null,
            "overflow_y": null,
            "padding": null,
            "right": null,
            "top": null,
            "visibility": null,
            "width": null
          }
        },
        "9413a111d4014484bf42da02ca56b2c1": {
          "model_module": "@jupyter-widgets/controls",
          "model_name": "DescriptionStyleModel",
          "model_module_version": "1.5.0",
          "state": {
            "_model_module": "@jupyter-widgets/controls",
            "_model_module_version": "1.5.0",
            "_model_name": "DescriptionStyleModel",
            "_view_count": null,
            "_view_module": "@jupyter-widgets/base",
            "_view_module_version": "1.2.0",
            "_view_name": "StyleView",
            "description_width": ""
          }
        }
      }
    }
  },
  "nbformat": 4,
  "nbformat_minor": 0
}